{
 "cells": [
  {
   "cell_type": "code",
   "execution_count": 2,
   "outputs": [],
   "source": [
    "import numpy as np\n",
    "import random\n",
    "import matplotlib.pyplot as plt\n",
    "\n",
    "a = np.array([2,3,4,5,6])\n",
    "b = np.array([5,6,6,7,8])"
   ],
   "metadata": {
    "collapsed": false,
    "pycharm": {
     "name": "#%%\n"
    }
   }
  },
  {
   "cell_type": "markdown",
   "source": [
    "Нулевая \\begin{equation*}\\vec{0}\\end{equation*} матрица и вектор"
   ],
   "metadata": {
    "collapsed": false
   }
  },
  {
   "cell_type": "code",
   "execution_count": 19,
   "outputs": [
    {
     "name": "stdout",
     "output_type": "stream",
     "text": [
      "[[0. 0.]\n",
      " [0. 0.]] \n",
      "\n",
      "[0. 0. 0. 0. 0.]\n"
     ]
    }
   ],
   "source": [
    "print(np.zeros((2, 2)),'\\n') # нулевая матрица\n",
    "print(np.zeros(5)) # нулевой вектор"
   ],
   "metadata": {
    "collapsed": false,
    "pycharm": {
     "name": "#%%\n"
    }
   }
  },
  {
   "cell_type": "markdown",
   "source": [
    "еденичная матрица - матрица с кдкницами на главной диагональю.\n",
    "Все остальные значения - нули"
   ],
   "metadata": {
    "collapsed": false,
    "pycharm": {
     "name": "#%% md\n"
    }
   }
  },
  {
   "cell_type": "code",
   "source": [
    "print(np.eye(5))"
   ],
   "metadata": {
    "collapsed": false,
    "pycharm": {
     "name": "#%%\n"
    }
   },
   "execution_count": 21,
   "outputs": [
    {
     "name": "stdout",
     "output_type": "stream",
     "text": [
      "[[1. 0. 0. 0. 0.]\n",
      " [0. 1. 0. 0. 0.]\n",
      " [0. 0. 1. 0. 0.]\n",
      " [0. 0. 0. 1. 0.]\n",
      " [0. 0. 0. 0. 1.]]\n"
     ]
    }
   ]
  },
  {
   "cell_type": "markdown",
   "source": [
    "Матрица En называется квадратной, если m- число строк равно n- числу стлобцов"
   ],
   "metadata": {
    "collapsed": false,
    "pycharm": {
     "name": "#%% md\n"
    }
   }
  },
  {
   "cell_type": "code",
   "execution_count": 41,
   "outputs": [
    {
     "name": "stdout",
     "output_type": "stream",
     "text": [
      "[[0.51376032 0.10668781 0.42492862 0.42147621]\n",
      " [0.22630664 0.95320992 0.63450609 0.07454559]\n",
      " [0.62584493 0.89181841 0.36120149 0.25545049]\n",
      " [0.17485188 0.99589045 0.18231257 0.61119783]] \n",
      "\n",
      "[[0.12916321 0.2254351  0.12786979 0.50190945]\n",
      " [0.10065222 0.85160605 0.31988531 0.94006945]\n",
      " [0.39638039 0.30986219 0.08438099 0.31714275]\n",
      " [0.13893572 0.54711203 0.07342462 0.04437476]]\n",
      "[2 0 0 2 0 1 2 2 0 1]\n"
     ]
    },
    {
     "data": {
      "text/plain": "array([[3, 9, 4, 6],\n       [8, 1, 5, 3],\n       [3, 9, 9, 2],\n       [9, 9, 1, 4]])"
     },
     "execution_count": 41,
     "metadata": {},
     "output_type": "execute_result"
    }
   ],
   "source": [
    "print(np.random.random((4, 4)),'\\n') # генерация случайно квадратной матрицы\n",
    "print(np.random.sample((4, 4))) # генерация случайно квадратной матрицы\n",
    "print(np.random.randint(0, 3, 10) ) # генерация случайно квадратной матрицы\n",
    "np.random.randint(0, 10, (4, 4)) # генерация случайноq квадратной bp целых чисел"
   ],
   "metadata": {
    "collapsed": false,
    "pycharm": {
     "name": "#%%\n"
    }
   }
  },
  {
   "cell_type": "markdown",
   "source": [
    "матрица называется скалярной, если по главной диагонали стоит одно число,\n",
    "а все остальные нули"
   ],
   "metadata": {
    "collapsed": false,
    "pycharm": {
     "name": "#%% md\n"
    }
   }
  },
  {
   "cell_type": "code",
   "execution_count": 53,
   "outputs": [],
   "source": [
    "scalar = np.diag(np.array([2,2,2,2]))"
   ],
   "metadata": {
    "collapsed": false,
    "pycharm": {
     "name": "#%%\n"
    }
   }
  },
  {
   "cell_type": "markdown",
   "source": [
    "Симметричная матрица симметрична относительно главной диагонали"
   ],
   "metadata": {
    "collapsed": false
   }
  },
  {
   "cell_type": "code",
   "execution_count": 4,
   "outputs": [
    {
     "data": {
      "text/plain": "(0.0, 3.0)"
     },
     "execution_count": 4,
     "metadata": {},
     "output_type": "execute_result"
    },
    {
     "data": {
      "text/plain": "<Figure size 432x288 with 1 Axes>",
      "image/png": "[encoded data removed]"
     },
     "metadata": {
      "needs_background": "light"
     },
     "output_type": "display_data"
    }
   ],
   "source": [
    "ax= plt.axes()\n",
    "plt.xlim([0,5])\n",
    "plt.ylim([0,3])\n",
    "\n"
   ],
   "metadata": {
    "collapsed": false,
    "pycharm": {
     "name": "#%%\n"
    }
   }
  }
 ],
 "metadata": {
  "kernelspec": {
   "display_name": "Python 3",
   "language": "python",
   "name": "python3"
  },
  "language_info": {
   "codemirror_mode": {
    "name": "ipython",
    "version": 2
   },
   "file_extension": ".py",
   "mimetype": "text/x-python",
   "name": "python",
   "nbconvert_exporter": "python",
   "pygments_lexer": "ipython2",
   "version": "2.7.6"
  }
 },
 "nbformat": 4,
 "nbformat_minor": 0
}