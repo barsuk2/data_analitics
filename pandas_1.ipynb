{
 "cells": [
  {
   "cell_type": "code",
   "metadata": {
    "collapsed": true,
    "pycharm": {
     "name": "#%% \n"
    }
   },
   "source": [
    "import pandas as pd\n",
    "ratings1 = r'C:\\Users\\egor\\ml-latest-small\\ratings.csv'\n",
    "ratings2 =r'C:\\Users\\egor\\ml-latest\\ratings.csv'\n",
    "\n",
    "data = pd.read_csv(ratings1)\n",
    "# общая информация\n",
    "data. info()\n",
    "# количество уникальныйх элементов\n",
    "len(data.movieId.unique())"
   ],
   "execution_count": 5,
   "outputs": [
    {
     "name": "stdout",
     "output_type": "stream",
     "text": [
      "<class 'pandas.core.frame.DataFrame'>\n",
      "RangeIndex: 100836 entries, 0 to 100835\n",
      "Data columns (total 4 columns):\n",
      " #   Column     Non-Null Count   Dtype  \n",
      "---  ------     --------------   -----  \n",
      " 0   userId     100836 non-null  int64  \n",
      " 1   movieId    100836 non-null  int64  \n",
      " 2   rating     100836 non-null  float64\n",
      " 3   timestamp  100836 non-null  int64  \n",
      "dtypes: float64(1), int64(3)\n",
      "memory usage: 3.1 MB\n"
     ]
    },
    {
     "data": {
      "text/plain": "9724"
     },
     "execution_count": 5,
     "metadata": {},
     "output_type": "execute_result"
    }
   ]
  },
  {
   "cell_type": "code",
   "execution_count": null,
   "outputs": [],
   "source": [
    "# количество уникальныйх элементов\n",
    "data.groupby('userId').count().sort_values('movieId', ascending= False).head()"
   ],
   "metadata": {
    "collapsed": false,
    "pycharm": {
     "name": "#%%\n"
    }
   }
  },
  {
   "cell_type": "code",
   "execution_count": null,
   "outputs": [],
   "source": [
    "# время жизни пользователя\n",
    "time_live_user = data.groupby('userId').agg([min,max])\n",
    "time_live_user['diff'] = time_live_user['timestamp']['max'] - time_live_user['timestamp']['min']\n",
    "time_live_user['diff'].mean()/24/ 3600"
   ],
   "metadata": {
    "collapsed": false,
    "pycharm": {
     "name": "#%%\n"
    }
   }
  },
  {
   "cell_type": "code",
   "execution_count": null,
   "outputs": [],
   "source": [
    "# join\n",
    "movies =  pd.read_csv(r'C:\\Users\\egor\\ml-latest-small\\movies.csv')\n",
    "movies.head()\n",
    "joined = data.merge(movies, on='movieId', how='left')\n",
    "joined.head()\n",
    "\n"
   ],
   "metadata": {
    "collapsed": false,
    "pycharm": {
     "name": "#%%\n"
    }
   }
  },
  {
   "cell_type": "markdown",
   "source": [
    "### Основы pandas\n",
    "#### Пример забора данных с сайта"
   ],
   "metadata": {
    "collapsed": false
   }
  },
  {
   "cell_type": "code",
   "execution_count": 2,
   "outputs": [
    {
     "name": "stdout",
     "output_type": "stream",
     "text": [
      "asd\n"
     ]
    },
    {
     "data": {
      "text/plain": "  Курсы валют с 24.07.2020 с 25.07.2020\n0  Доллар США     70,9630₽     71,5974₽\n1        Евро     82,1893₽     83,1031₽",
      "text/html": "<div>\n<style scoped>\n    .dataframe tbody tr th:only-of-type {\n        vertical-align: middle;\n    }\n\n    .dataframe tbody tr th {\n        vertical-align: top;\n    }\n\n    .dataframe thead th {\n        text-align: right;\n    }\n</style>\n<table border=\"1\" class=\"dataframe\">\n  <thead>\n    <tr style=\"text-align: right;\">\n      <th></th>\n      <th>Курсы валют</th>\n      <th>с 24.07.2020</th>\n      <th>с 25.07.2020</th>\n    </tr>\n  </thead>\n  <tbody>\n    <tr>\n      <th>0</th>\n      <td>Доллар США</td>\n      <td>70,9630₽</td>\n      <td>71,5974₽</td>\n    </tr>\n    <tr>\n      <th>1</th>\n      <td>Евро</td>\n      <td>82,1893₽</td>\n      <td>83,1031₽</td>\n    </tr>\n  </tbody>\n</table>\n</div>"
     },
     "execution_count": 2,
     "metadata": {},
     "output_type": "execute_result"
    }
   ],
   "source": [
    "import pandas as pd\n",
    "print('asd')\n",
    "pd.read_html('http://www.cbr.ru')[0]"
   ],
   "metadata": {
    "collapsed": false,
    "pycharm": {
     "name": "#%%\n"
    }
   }
  },
  {
   "cell_type": "code",
   "execution_count": 2,
   "outputs": [],
   "source": [
    "power_csv = pd.read_csv('power.csv', sep=',', header=0)\n",
    "# вывести голову\n"
   ],
   "metadata": {
    "collapsed": false,
    "pycharm": {
     "name": "#%%\n"
    }
   }
  },
  {
   "cell_type": "code",
   "execution_count": 20,
   "outputs": [
    {
     "name": "stdout",
     "output_type": "stream",
     "text": [
      "(1189482, 5)\n"
     ]
    },
    {
     "data": {
      "text/plain": "          country  year  quantity  category  new_year\n0         Austria  1996       5.0         1      1997\n1         Austria  1995      17.0         1      1996\n2         Belgium  2014       0.0         1      2015\n3         Belgium  2013       0.0         1      2014\n4         Belgium  2012      35.0         1      2013\n...           ...   ...       ...       ...       ...\n1189477  Viet Nam  2012      92.0        71      2013\n1189478  Viet Nam  2011      87.0        71      2012\n1189479  Viet Nam  2010      50.0        71      2011\n1189480  Viet Nam  2009      10.0        71      2010\n1189481  Viet Nam  2008       1.0        71      2009\n\n[1189482 rows x 5 columns]",
      "text/html": "<div>\n<style scoped>\n    .dataframe tbody tr th:only-of-type {\n        vertical-align: middle;\n    }\n\n    .dataframe tbody tr th {\n        vertical-align: top;\n    }\n\n    .dataframe thead th {\n        text-align: right;\n    }\n</style>\n<table border=\"1\" class=\"dataframe\">\n  <thead>\n    <tr style=\"text-align: right;\">\n      <th></th>\n      <th>country</th>\n      <th>year</th>\n      <th>quantity</th>\n      <th>category</th>\n      <th>new_year</th>\n    </tr>\n  </thead>\n  <tbody>\n    <tr>\n      <th>0</th>\n      <td>Austria</td>\n      <td>1996</td>\n      <td>5.0</td>\n      <td>1</td>\n      <td>1997</td>\n    </tr>\n    <tr>\n      <th>1</th>\n      <td>Austria</td>\n      <td>1995</td>\n      <td>17.0</td>\n      <td>1</td>\n      <td>1996</td>\n    </tr>\n    <tr>\n      <th>2</th>\n      <td>Belgium</td>\n      <td>2014</td>\n      <td>0.0</td>\n      <td>1</td>\n      <td>2015</td>\n    </tr>\n    <tr>\n      <th>3</th>\n      <td>Belgium</td>\n      <td>2013</td>\n      <td>0.0</td>\n      <td>1</td>\n      <td>2014</td>\n    </tr>\n    <tr>\n      <th>4</th>\n      <td>Belgium</td>\n      <td>2012</td>\n      <td>35.0</td>\n      <td>1</td>\n      <td>2013</td>\n    </tr>\n    <tr>\n      <th>...</th>\n      <td>...</td>\n      <td>...</td>\n      <td>...</td>\n      <td>...</td>\n      <td>...</td>\n    </tr>\n    <tr>\n      <th>1189477</th>\n      <td>Viet Nam</td>\n      <td>2012</td>\n      <td>92.0</td>\n      <td>71</td>\n      <td>2013</td>\n    </tr>\n    <tr>\n      <th>1189478</th>\n      <td>Viet Nam</td>\n      <td>2011</td>\n      <td>87.0</td>\n      <td>71</td>\n      <td>2012</td>\n    </tr>\n    <tr>\n      <th>1189479</th>\n      <td>Viet Nam</td>\n      <td>2010</td>\n      <td>50.0</td>\n      <td>71</td>\n      <td>2011</td>\n    </tr>\n    <tr>\n      <th>1189480</th>\n      <td>Viet Nam</td>\n      <td>2009</td>\n      <td>10.0</td>\n      <td>71</td>\n      <td>2010</td>\n    </tr>\n    <tr>\n      <th>1189481</th>\n      <td>Viet Nam</td>\n      <td>2008</td>\n      <td>1.0</td>\n      <td>71</td>\n      <td>2009</td>\n    </tr>\n  </tbody>\n</table>\n<p>1189482 rows × 5 columns</p>\n</div>"
     },
     "execution_count": 20,
     "metadata": {},
     "output_type": "execute_result"
    }
   ],
   "source": [
    "print(data.shape)\n",
    "data['new_year'] = data['year']+1\n",
    "data"
   ],
   "metadata": {
    "collapsed": false,
    "pycharm": {
     "name": "#%%\n"
    }
   }
  },
  {
   "cell_type": "code",
   "execution_count": 4,
   "outputs": [
    {
     "name": "stdout",
     "output_type": "stream",
     "text": [
      "<class 'pandas.core.frame.DataFrame'>\n",
      "RangeIndex: 60 entries, 0 to 59\n",
      "Data columns (total 8 columns):\n",
      " #   Column   Non-Null Count  Dtype \n",
      "---  ------   --------------  ----- \n",
      " 0   Year     60 non-null     int64 \n",
      " 1   Month    60 non-null     int64 \n",
      " 2   ID       60 non-null     object\n",
      " 3   Product  60 non-null     object\n",
      " 4   Amount   60 non-null     int64 \n",
      " 5   Price    60 non-null     int64 \n",
      " 6   Total    60 non-null     int64 \n",
      " 7   Cost     60 non-null     int64 \n",
      "dtypes: int64(6), object(2)\n",
      "memory usage: 3.9+ KB\n",
      "(60, 8)\n"
     ]
    }
   ],
   "source": [
    "import pandas as pd\n",
    "transactions_csv = pd.read_csv('transactions.csv')\n",
    "transactions_csv.info()\n",
    "print(transactions_csv.shape)\n",
    "transactions_csv.to_csv('qwe.csv')"
   ],
   "metadata": {
    "collapsed": false,
    "pycharm": {
     "name": "#%%\n"
    }
   }
  },
  {
   "cell_type": "markdown",
   "source": [
    "### Основные сведения о датафрейме"
   ],
   "metadata": {
    "collapsed": false,
    "pycharm": {
     "name": "#%% md\n",
     "is_executing": true
    }
   }
  },
  {
   "cell_type": "code",
   "execution_count": 5,
   "outputs": [
    {
     "name": "stdout",
     "output_type": "stream",
     "text": [
      "<class 'pandas.core.frame.DataFrame'>\n",
      "RangeIndex: 1189482 entries, 0 to 1189481\n",
      "Data columns (total 4 columns):\n",
      " #   Column    Non-Null Count    Dtype  \n",
      "---  ------    --------------    -----  \n",
      " 0   country   1189482 non-null  object \n",
      " 1   year      1189482 non-null  int64  \n",
      " 2   quantity  1189482 non-null  float64\n",
      " 3   category  1189482 non-null  int64  \n",
      "dtypes: float64(1), int64(2), object(1)\n",
      "memory usage: 36.3+ MB\n"
     ]
    },
    {
     "data": {
      "text/plain": "         Year      Month     Amount        Price         Total         Cost\ncount    60.0  60.000000  60.000000    60.000000     60.000000    60.000000\nmean   2017.0   7.250000   3.650000  4427.183333  14072.183333  1063.333333\nstd       0.0   3.337638   2.184886  2506.427558   8966.190387   902.297757\nmin    2017.0   1.000000   1.000000  1265.000000   1896.000000   200.000000\n25%    2017.0   5.000000   2.000000  1896.000000   7584.000000   650.000000\n50%    2017.0   7.000000   3.000000  3760.000000  11280.000000   800.000000\n75%    2017.0  10.250000   5.000000  5175.000000  17236.000000  1200.000000\nmax    2017.0  12.000000  10.000000  8618.000000  37600.000000  4200.000000",
      "text/html": "<div>\n<style scoped>\n    .dataframe tbody tr th:only-of-type {\n        vertical-align: middle;\n    }\n\n    .dataframe tbody tr th {\n        vertical-align: top;\n    }\n\n    .dataframe thead th {\n        text-align: right;\n    }\n</style>\n<table border=\"1\" class=\"dataframe\">\n  <thead>\n    <tr style=\"text-align: right;\">\n      <th></th>\n      <th>Year</th>\n      <th>Month</th>\n      <th>Amount</th>\n      <th>Price</th>\n      <th>Total</th>\n      <th>Cost</th>\n    </tr>\n  </thead>\n  <tbody>\n    <tr>\n      <th>count</th>\n      <td>60.0</td>\n      <td>60.000000</td>\n      <td>60.000000</td>\n      <td>60.000000</td>\n      <td>60.000000</td>\n      <td>60.000000</td>\n    </tr>\n    <tr>\n      <th>mean</th>\n      <td>2017.0</td>\n      <td>7.250000</td>\n      <td>3.650000</td>\n      <td>4427.183333</td>\n      <td>14072.183333</td>\n      <td>1063.333333</td>\n    </tr>\n    <tr>\n      <th>std</th>\n      <td>0.0</td>\n      <td>3.337638</td>\n      <td>2.184886</td>\n      <td>2506.427558</td>\n      <td>8966.190387</td>\n      <td>902.297757</td>\n    </tr>\n    <tr>\n      <th>min</th>\n      <td>2017.0</td>\n      <td>1.000000</td>\n      <td>1.000000</td>\n      <td>1265.000000</td>\n      <td>1896.000000</td>\n      <td>200.000000</td>\n    </tr>\n    <tr>\n      <th>25%</th>\n      <td>2017.0</td>\n      <td>5.000000</td>\n      <td>2.000000</td>\n      <td>1896.000000</td>\n      <td>7584.000000</td>\n      <td>650.000000</td>\n    </tr>\n    <tr>\n      <th>50%</th>\n      <td>2017.0</td>\n      <td>7.000000</td>\n      <td>3.000000</td>\n      <td>3760.000000</td>\n      <td>11280.000000</td>\n      <td>800.000000</td>\n    </tr>\n    <tr>\n      <th>75%</th>\n      <td>2017.0</td>\n      <td>10.250000</td>\n      <td>5.000000</td>\n      <td>5175.000000</td>\n      <td>17236.000000</td>\n      <td>1200.000000</td>\n    </tr>\n    <tr>\n      <th>max</th>\n      <td>2017.0</td>\n      <td>12.000000</td>\n      <td>10.000000</td>\n      <td>8618.000000</td>\n      <td>37600.000000</td>\n      <td>4200.000000</td>\n    </tr>\n  </tbody>\n</table>\n</div>"
     },
     "execution_count": 5,
     "metadata": {},
     "output_type": "execute_result"
    }
   ],
   "source": [
    "power_csv.info()\n",
    "transactions_csv.describe()\n"
   ],
   "metadata": {
    "collapsed": false,
    "pycharm": {
     "name": "#%%\n"
    }
   }
  },
  {
   "cell_type": "markdown",
   "source": [
    "## Отдельный столбец (тиа Series)"
   ],
   "metadata": {
    "collapsed": false,
    "pycharm": {
     "name": "#%% md\n"
    }
   }
  },
  {
   "cell_type": "code",
   "execution_count": 12,
   "outputs": [
    {
     "name": "stdout",
     "output_type": "stream",
     "text": [
      "<class 'pandas.core.series.Series'>\n",
      "<class 'pandas.core.frame.DataFrame'>\n"
     ]
    }
   ],
   "source": [
    "transactions_csv.head()\n",
    "print(type(transactions_csv.Month))\n",
    "print(type(transactions_csv))"
   ],
   "metadata": {
    "collapsed": false,
    "pycharm": {
     "name": "#%%\n"
    }
   }
  },
  {
   "cell_type": "code",
   "execution_count": 20,
   "outputs": [
    {
     "name": "stdout",
     "output_type": "stream",
     "text": [
      "[ 1  2  3  4  5  6  7  8  9 10 11 12]\n",
      "11    8\n",
      "5     8\n",
      "12    7\n",
      "9     6\n",
      "4     6\n",
      "7     5\n",
      "6     5\n",
      "10    4\n",
      "2     4\n",
      "8     3\n",
      "3     2\n",
      "1     2\n",
      "Name: Month, dtype: int64\n"
     ]
    },
    {
     "data": {
      "text/plain": "11    0.133333\n5     0.133333\n12    0.116667\n9     0.100000\n4     0.100000\n7     0.083333\n6     0.083333\n10    0.066667\n2     0.066667\n8     0.050000\n3     0.033333\n1     0.033333\nName: Month, dtype: float64"
     },
     "execution_count": 20,
     "metadata": {},
     "output_type": "execute_result"
    }
   ],
   "source": [
    "print(transactions_csv.Month.unique())\n",
    "# Подсчитать количество повторений\n",
    "print(transactions_csv.Month.value_counts())\n",
    "transactions_csv.Month.value_counts(normalize=True)"
   ],
   "metadata": {
    "collapsed": false,
    "pycharm": {
     "name": "#%%\n"
    }
   }
  },
  {
   "cell_type": "markdown",
   "source": [
    "УпражнениеИспользуем файл transactions.csv.\n",
    "Определите какой товар (столбец Product) упоминается в файле чаще всего?"
   ],
   "metadata": {
    "collapsed": false
   }
  },
  {
   "cell_type": "code",
   "execution_count": 5,
   "outputs": [
    {
     "ename": "NameError",
     "evalue": "name 'transactions_csv' is not defined",
     "output_type": "error",
     "traceback": [
      "\u001B[1;31m---------------------------------------------------------------------------\u001B[0m",
      "\u001B[1;31mNameError\u001B[0m                                 Traceback (most recent call last)",
      "\u001B[1;32m<ipython-input-5-ee08ba0dab5a>\u001B[0m in \u001B[0;36m<module>\u001B[1;34m\u001B[0m\n\u001B[1;32m----> 1\u001B[1;33m \u001B[0mtransactions_csv\u001B[0m\u001B[1;33m.\u001B[0m\u001B[0mProduct\u001B[0m\u001B[1;33m.\u001B[0m\u001B[0mvalue_counts\u001B[0m\u001B[1;33m(\u001B[0m\u001B[0mnormalize\u001B[0m\u001B[1;33m=\u001B[0m\u001B[1;32mTrue\u001B[0m\u001B[1;33m)\u001B[0m\u001B[1;33m.\u001B[0m\u001B[0mhead\u001B[0m\u001B[1;33m(\u001B[0m\u001B[1;36m1\u001B[0m\u001B[1;33m)\u001B[0m\u001B[1;33m\u001B[0m\u001B[1;33m\u001B[0m\u001B[0m\n\u001B[0m\u001B[0;32m      2\u001B[0m \u001B[1;33m\u001B[0m\u001B[0m\n",
      "\u001B[1;31mNameError\u001B[0m: name 'transactions_csv' is not defined"
     ]
    }
   ],
   "source": [
    "transactions_csv.Product.value_counts(normalize=True).head(1)"
   ],
   "metadata": {
    "collapsed": false,
    "pycharm": {
     "name": "#%%\n"
    }
   }
  },
  {
   "cell_type": "markdown",
   "source": [
    "# Фильтры"
   ],
   "metadata": {
    "collapsed": false
   }
  },
  {
   "cell_type": "code",
   "execution_count": 2,
   "outputs": [
    {
     "name": "stdout",
     "output_type": "stream",
     "text": [
      "<class 'pandas.core.frame.DataFrame'>\n",
      "RangeIndex: 1189482 entries, 0 to 1189481\n",
      "Data columns (total 4 columns):\n",
      " #   Column    Non-Null Count    Dtype  \n",
      "---  ------    --------------    -----  \n",
      " 0   country   1189482 non-null  object \n",
      " 1   year      1189482 non-null  int64  \n",
      " 2   quantity  1189482 non-null  float64\n",
      " 3   category  1189482 non-null  int64  \n",
      "dtypes: float64(1), int64(2), object(1)\n",
      "memory usage: 36.3+ MB\n"
     ]
    }
   ],
   "source": [
    "import pandas as pd\n",
    "data = pd.read_csv('power.csv')\n",
    "data.info()"
   ],
   "metadata": {
    "collapsed": false,
    "pycharm": {
     "name": "#%%\n"
    }
   }
  },
  {
   "cell_type": "code",
   "execution_count": 4,
   "outputs": [
    {
     "name": "stdout",
     "output_type": "stream",
     "text": [
      "          country  quantity\n",
      "0         Austria       5.0\n",
      "1         Austria      17.0\n",
      "2         Belgium       0.0\n",
      "3         Belgium       0.0\n",
      "4         Belgium      35.0\n",
      "...           ...       ...\n",
      "1189477  Viet Nam      92.0\n",
      "1189478  Viet Nam      87.0\n",
      "1189479  Viet Nam      50.0\n",
      "1189480  Viet Nam      10.0\n",
      "1189481  Viet Nam       1.0\n",
      "\n",
      "[1189482 rows x 2 columns]\n"
     ]
    }
   ],
   "source": [
    "# метод filter устаревший\n",
    "# country_stats = data.filter(['country','quantity'])\n",
    "# country_stats.head()\n",
    "country_stats = data[['country','quantity']]\n",
    "print(country_stats)\n"
   ],
   "metadata": {
    "collapsed": false,
    "pycharm": {
     "name": "#%%\n"
    }
   }
  },
  {
   "cell_type": "markdown",
   "source": [
    "### Отфильтруем строки с потреблением выше среднего\n"
   ],
   "metadata": {
    "collapsed": false,
    "pycharm": {
     "name": "#%% md\n"
    }
   }
  },
  {
   "cell_type": "code",
   "execution_count": 5,
   "outputs": [
    {
     "name": "stdout",
     "output_type": "stream",
     "text": [
      "quantity > 184264.77\n",
      "                    country  quantity\n",
      "3228          United States  367987.0\n",
      "3229          United States  384439.0\n",
      "3230          United States  370625.0\n",
      "3231          United States  310909.0\n",
      "3232          United States  335418.0\n",
      "...                     ...       ...\n",
      "1178016  Russian Federation  216500.0\n",
      "1178017  Russian Federation  218300.0\n",
      "1178022        South Africa  192900.0\n",
      "1178029       United States  207400.0\n",
      "1178030       United States  472100.0\n",
      "\n",
      "[28093 rows x 2 columns]\n"
     ]
    }
   ],
   "source": [
    "average_quant = data['quantity'].mean()\n",
    "print(f'quantity > {average_quant:.2f}')\n",
    "print(country_stats.query(f'quantity > {average_quant}'))\n"
   ],
   "metadata": {
    "collapsed": false,
    "pycharm": {
     "name": "#%%\n"
    }
   }
  },
  {
   "cell_type": "code",
   "execution_count": 6,
   "outputs": [
    {
     "data": {
      "text/plain": "            country  quantity\n3228  United States  367987.0\n3229  United States  384439.0\n3230  United States  370625.0\n3231  United States  310909.0\n3232  United States  335418.0",
      "text/html": "<div>\n<style scoped>\n    .dataframe tbody tr th:only-of-type {\n        vertical-align: middle;\n    }\n\n    .dataframe tbody tr th {\n        vertical-align: top;\n    }\n\n    .dataframe thead th {\n        text-align: right;\n    }\n</style>\n<table border=\"1\" class=\"dataframe\">\n  <thead>\n    <tr style=\"text-align: right;\">\n      <th></th>\n      <th>country</th>\n      <th>quantity</th>\n    </tr>\n  </thead>\n  <tbody>\n    <tr>\n      <th>3228</th>\n      <td>United States</td>\n      <td>367987.0</td>\n    </tr>\n    <tr>\n      <th>3229</th>\n      <td>United States</td>\n      <td>384439.0</td>\n    </tr>\n    <tr>\n      <th>3230</th>\n      <td>United States</td>\n      <td>370625.0</td>\n    </tr>\n    <tr>\n      <th>3231</th>\n      <td>United States</td>\n      <td>310909.0</td>\n    </tr>\n    <tr>\n      <th>3232</th>\n      <td>United States</td>\n      <td>335418.0</td>\n    </tr>\n  </tbody>\n</table>\n</div>"
     },
     "execution_count": 6,
     "metadata": {},
     "output_type": "execute_result"
    }
   ],
   "source": [
    "country_stats[country_stats.quantity > average_quant].head()"
   ],
   "metadata": {
    "collapsed": false,
    "pycharm": {
     "name": "#%%\n"
    }
   }
  },
  {
   "cell_type": "markdown",
   "source": [
    "Как определить используемый вариант названия страны?"
   ],
   "metadata": {
    "collapsed": false
   }
  },
  {
   "cell_type": "code",
   "execution_count": 6,
   "outputs": [
    {
     "name": "stdout",
     "output_type": "stream",
     "text": [
      "['Austria' 'Belgium' 'Czechia' 'Finland' 'France' 'Greece' 'Hungary'\n",
      " 'Italy' 'Korea, Republic of' 'Netherlands' 'Romania' 'Serbia' 'Slovakia'\n",
      " 'Ukraine' 'United Kingdom' 'United States' 'Brunei Darussalam' 'Bulgaria'\n",
      " 'Canada' 'Chile' 'Croatia' 'Iran (Islamic Rep. of)' 'Jordan' 'Lithuania'\n",
      " 'Mexico' 'Oman' 'Other Asia' 'Poland' 'Portugal' 'Spain' 'Sweden'\n",
      " 'Switzerland' 'T.F.Yug.Rep. Macedonia' 'Turkey' 'Uzbekistan' 'Argentina'\n",
      " 'Colombia' 'Germany' 'Norway' 'Australia' 'China, Macao SAR' 'Japan'\n",
      " 'Denmark' 'Ireland' 'Philippines' 'Bangladesh' 'Eritrea' 'Ethiopia'\n",
      " 'Lesotho' 'Nepal' 'Niger' 'Pakistan' 'Serbia and Montenegro' 'Tunisia'\n",
      " 'Botswana' 'Georgia' 'Republic of Moldova' 'Peru' 'South Africa'\n",
      " 'Iceland' 'Latvia' 'Luxembourg' 'Cuba' 'Kyrgyzstan' 'Singapore'\n",
      " 'Thailand' 'United Arab Emirates' 'Uruguay' 'Armenia' 'Fiji'\n",
      " \"Korea, Dem.Ppl's.Rep.\" 'Russian Federation' 'Swaziland' 'Zimbabwe'\n",
      " 'Afghanistan' 'Antigua and Barbuda' 'Azerbaijan' 'Bahamas' 'Belize'\n",
      " 'Bolivia (Plur. State of)' 'Brazil' 'Burkina Faso' 'Cameroon'\n",
      " 'Cayman Islands' 'Central African Rep.' 'China' 'Comoros' 'Congo'\n",
      " 'Costa Rica' \"Côte d'Ivoire\" 'Dem. Rep. of the Congo'\n",
      " 'Dominican Republic' 'Ecuador' 'Egypt' 'El Salvador' 'Estonia'\n",
      " 'Ethiopia, incl. Eritrea' 'Faeroe Islands' 'French Guiana'\n",
      " 'Germany, Fed. R. (former)' 'Greenland' 'Guatemala' 'Guinea' 'Guyana'\n",
      " 'Honduras' 'Indonesia' 'Israel' 'Jamaica' 'Jersey' 'Kazakhstan' 'Kenya'\n",
      " 'Kuwait' \"Lao People's Dem. Rep.\" 'Liberia' 'Libya' 'Malawi' 'Malaysia'\n",
      " 'Maldives' 'Mauritania' 'Mayotte' 'Morocco' 'Myanmar' 'Namibia'\n",
      " 'New Caledonia' 'New Zealand' 'Nicaragua' 'Niue' 'Panama'\n",
      " 'Papua New Guinea' 'Paraguay' 'Sao Tome and Principe' 'Senegal'\n",
      " 'Seychelles' 'Slovenia' 'Solomon Islands' 'Sri Lanka' 'Sudan (former)'\n",
      " 'Suriname' 'Togo' 'Tonga' 'Trinidad and Tobago' 'United Rep. of Tanzania'\n",
      " 'Venezuela (Bolivar. Rep.)' 'Yugoslavia, SFR (former)' 'Zambia' 'Algeria'\n",
      " 'Curaçao' 'Gabon' 'Malta' 'Neth. Antilles (former)' 'Sierra Leone'\n",
      " 'USSR (former)' 'Barbados' 'Benin' 'Chad' 'Djibouti' 'French Polynesia'\n",
      " 'Ghana' 'Grenada' 'Guadeloupe' 'Haiti' 'Iraq' 'Kiribati' 'Madagascar'\n",
      " 'Mali' 'Martinique' 'Pacific Islands (former)' 'Palau'\n",
      " 'St. Helena and Depend.' 'St. Vincent-Grenadines' 'Syrian Arab Republic'\n",
      " 'Uganda' 'Yemen' 'Yemen, Dem. (former)' 'Burundi' 'India' 'Mauritius'\n",
      " 'Mozambique' 'Nigeria' 'Réunion' 'Rwanda' 'Samoa' 'Somalia'\n",
      " 'St. Kitts-Nevis' 'Viet Nam' 'Belarus' 'Cyprus' 'Cabo Verde' 'Albania'\n",
      " 'Bahrain' 'Bosnia and Herzegovina' 'China, Hong Kong SAR'\n",
      " 'Czechoslovakia (former)' 'Angola' 'Bermuda' 'Bhutan' 'Equatorial Guinea'\n",
      " 'Lebanon' 'Saudi Arabia' 'St. Lucia' 'St. Pierre-Miquelon'\n",
      " 'State of Palestine' 'Tajikistan' 'German Dem. R. (former)' 'Anguilla'\n",
      " 'Mongolia' 'Montenegro' 'Cambodia' 'South Sudan' 'Sudan' 'Andorra'\n",
      " 'Aruba' 'Bonaire, St Eustatius, Saba' 'British Virgin Islands' 'Dominica'\n",
      " 'Falkland Is. (Malvinas)' 'Gambia' 'Gibraltar' 'Qatar'\n",
      " 'Sint Maarten (Dutch part)' 'Turkmenistan' 'Turks and Caicos Islands'\n",
      " 'Vanuatu' 'Guinea-Bissau' 'Micronesia (Fed. States of)' 'Timor-Leste'\n",
      " 'Yemen Arab Rep. (former)' 'American Samoa' 'Liechtenstein' 'Puerto Rico'\n",
      " 'Cook Islands' 'Guam' 'Guernsey' 'Isle of Man' 'Marshall Islands'\n",
      " 'Montserrat' 'Nauru' 'Northern Mariana Islands' 'Tuvalu'\n",
      " 'United States Virgin Is.' 'Wallis and Futuna Is.'\n",
      " 'Commonwealth of Independent States (CIS)' 'Antarctic Fisheries']\n"
     ]
    },
    {
     "data": {
      "text/plain": "array(['Austria', 'Belgium', 'Czechia', 'Finland', 'France', 'Greece',\n       'Hungary', 'Italy', 'Korea, Republic of', 'Netherlands', 'Romania',\n       'Serbia', 'Slovakia', 'Ukraine', 'United Kingdom', 'United States',\n       'Brunei Darussalam', 'Bulgaria', 'Canada', 'Chile', 'Croatia',\n       'Iran (Islamic Rep. of)', 'Jordan', 'Lithuania', 'Mexico', 'Oman',\n       'Other Asia', 'Poland', 'Portugal', 'Spain', 'Sweden',\n       'Switzerland', 'T.F.Yug.Rep. Macedonia', 'Turkey', 'Uzbekistan',\n       'Argentina', 'Colombia', 'Germany', 'Norway', 'Australia',\n       'China, Macao SAR', 'Japan', 'Denmark', 'Ireland', 'Philippines',\n       'Bangladesh', 'Eritrea', 'Ethiopia', 'Lesotho', 'Nepal', 'Niger',\n       'Pakistan', 'Serbia and Montenegro', 'Tunisia', 'Botswana',\n       'Georgia', 'Republic of Moldova', 'Peru', 'South Africa',\n       'Iceland', 'Latvia', 'Luxembourg', 'Cuba', 'Kyrgyzstan',\n       'Singapore', 'Thailand', 'United Arab Emirates', 'Uruguay',\n       'Armenia', 'Fiji', \"Korea, Dem.Ppl's.Rep.\", 'Russian Federation',\n       'Swaziland', 'Zimbabwe', 'Afghanistan', 'Antigua and Barbuda',\n       'Azerbaijan', 'Bahamas', 'Belize', 'Bolivia (Plur. State of)',\n       'Brazil', 'Burkina Faso', 'Cameroon', 'Cayman Islands',\n       'Central African Rep.', 'China', 'Comoros', 'Congo', 'Costa Rica',\n       \"Côte d'Ivoire\", 'Dem. Rep. of the Congo', 'Dominican Republic',\n       'Ecuador', 'Egypt', 'El Salvador', 'Estonia',\n       'Ethiopia, incl. Eritrea', 'Faeroe Islands', 'French Guiana',\n       'Germany, Fed. R. (former)', 'Greenland', 'Guatemala', 'Guinea',\n       'Guyana', 'Honduras', 'Indonesia', 'Israel', 'Jamaica', 'Jersey',\n       'Kazakhstan', 'Kenya', 'Kuwait', \"Lao People's Dem. Rep.\",\n       'Liberia', 'Libya', 'Malawi', 'Malaysia', 'Maldives', 'Mauritania',\n       'Mayotte', 'Morocco', 'Myanmar', 'Namibia', 'New Caledonia',\n       'New Zealand', 'Nicaragua', 'Niue', 'Panama', 'Papua New Guinea',\n       'Paraguay', 'Sao Tome and Principe', 'Senegal', 'Seychelles',\n       'Slovenia', 'Solomon Islands', 'Sri Lanka', 'Sudan (former)',\n       'Suriname', 'Togo', 'Tonga', 'Trinidad and Tobago',\n       'United Rep. of Tanzania', 'Venezuela (Bolivar. Rep.)',\n       'Yugoslavia, SFR (former)', 'Zambia', 'Algeria', 'Curaçao',\n       'Gabon', 'Malta', 'Neth. Antilles (former)', 'Sierra Leone',\n       'USSR (former)', 'Barbados', 'Benin', 'Chad', 'Djibouti',\n       'French Polynesia', 'Ghana', 'Grenada', 'Guadeloupe', 'Haiti',\n       'Iraq', 'Kiribati', 'Madagascar', 'Mali', 'Martinique',\n       'Pacific Islands (former)', 'Palau', 'St. Helena and Depend.',\n       'St. Vincent-Grenadines', 'Syrian Arab Republic', 'Uganda',\n       'Yemen', 'Yemen, Dem. (former)', 'Burundi', 'India', 'Mauritius',\n       'Mozambique', 'Nigeria', 'Réunion', 'Rwanda', 'Samoa', 'Somalia',\n       'St. Kitts-Nevis', 'Viet Nam', 'Belarus', 'Cyprus', 'Cabo Verde',\n       'Albania', 'Bahrain', 'Bosnia and Herzegovina',\n       'China, Hong Kong SAR', 'Czechoslovakia (former)', 'Angola',\n       'Bermuda', 'Bhutan', 'Equatorial Guinea', 'Lebanon',\n       'Saudi Arabia', 'St. Lucia', 'St. Pierre-Miquelon',\n       'State of Palestine', 'Tajikistan', 'German Dem. R. (former)',\n       'Anguilla', 'Mongolia', 'Montenegro', 'Cambodia', 'South Sudan',\n       'Sudan', 'Andorra', 'Aruba', 'Bonaire, St Eustatius, Saba',\n       'British Virgin Islands', 'Dominica', 'Falkland Is. (Malvinas)',\n       'Gambia', 'Gibraltar', 'Qatar', 'Sint Maarten (Dutch part)',\n       'Turkmenistan', 'Turks and Caicos Islands', 'Vanuatu',\n       'Guinea-Bissau', 'Micronesia (Fed. States of)', 'Timor-Leste',\n       'Yemen Arab Rep. (former)', 'American Samoa', 'Liechtenstein',\n       'Puerto Rico', 'Cook Islands', 'Guam', 'Guernsey', 'Isle of Man',\n       'Marshall Islands', 'Montserrat', 'Nauru',\n       'Northern Mariana Islands', 'Tuvalu', 'United States Virgin Is.',\n       'Wallis and Futuna Is.',\n       'Commonwealth of Independent States (CIS)', 'Antarctic Fisheries'],\n      dtype=object)"
     },
     "execution_count": 6,
     "metadata": {},
     "output_type": "execute_result"
    }
   ],
   "source": [
    "print(data['country'].unique())\n",
    "data.country.unique()"
   ],
   "metadata": {
    "collapsed": false,
    "pycharm": {
     "name": "#%%\n"
    }
   }
  },
  {
   "cell_type": "code",
   "execution_count": 25,
   "outputs": [
    {
     "name": "stdout",
     "output_type": "stream",
     "text": [
      "['Austria' 'Brunei Darussalam' 'Australia' 'Russian Federation'\n",
      " 'USSR (former)' 'Mauritius' 'Belarus' 'Cyprus'\n",
      " 'Bonaire, St Eustatius, Saba']\n"
     ]
    },
    {
     "data": {
      "text/plain": "array(['Russian Federation'], dtype=object)"
     },
     "execution_count": 25,
     "metadata": {},
     "output_type": "execute_result"
    }
   ],
   "source": [
    "# data.head()\n",
    "print(data[data['country'].str.contains('us', case=False)]['country'].unique())\n",
    "data[data['country'].str.contains('Rus')]['country'].unique()"
   ],
   "metadata": {
    "collapsed": false,
    "pycharm": {
     "name": "#%%\n"
    }
   }
  },
  {
   "cell_type": "code",
   "execution_count": 32,
   "outputs": [
    {
     "data": {
      "text/plain": "array(['Russian Federation', 'Belarus'], dtype=object)"
     },
     "execution_count": 32,
     "metadata": {},
     "output_type": "execute_result"
    }
   ],
   "source": [
    "data[(data['country'] == 'Russian Federation') |\n",
    "     (data['country'] == 'Belarus')]['country'].unique()\n",
    "\n",
    "data [data['country'].isin(['Russian Federation','Belarus'])]['country'].unique()\n",
    "\n"
   ],
   "metadata": {
    "collapsed": false,
    "pycharm": {
     "name": "#%%\n"
    }
   }
  },
  {
   "cell_type": "code",
   "execution_count": 35,
   "outputs": [
    {
     "data": {
      "text/plain": "    country  year  quantity  category\n10  Finland  2010       9.0         1\n11  Finland  2009      13.0         1\n12  Finland  2008      39.0         1\n13  Finland  2007      21.0         1\n14  Finland  2006       0.0         1\n15  Finland  2005       0.0         1\n16  Finland  2004       0.0         1\n17  Finland  2003       0.0         1\n18  Finland  2002       0.0         1\n19  Finland  2001       0.0         1\n20  Finland  2000       0.0         1\n21  Finland  1999       0.0         1\n22  Finland  1998       0.0         1\n23  Finland  1997       0.0         1\n24  Finland  1996       0.0         1\n25  Finland  1995       3.0         1\n26   France  2014     119.0         1\n27   France  2013     102.0         1\n28   France  2012      62.0         1\n29   France  2011      55.0         1\n30   France  2010      87.0         1",
      "text/html": "<div>\n<style scoped>\n    .dataframe tbody tr th:only-of-type {\n        vertical-align: middle;\n    }\n\n    .dataframe tbody tr th {\n        vertical-align: top;\n    }\n\n    .dataframe thead th {\n        text-align: right;\n    }\n</style>\n<table border=\"1\" class=\"dataframe\">\n  <thead>\n    <tr style=\"text-align: right;\">\n      <th></th>\n      <th>country</th>\n      <th>year</th>\n      <th>quantity</th>\n      <th>category</th>\n    </tr>\n  </thead>\n  <tbody>\n    <tr>\n      <th>10</th>\n      <td>Finland</td>\n      <td>2010</td>\n      <td>9.0</td>\n      <td>1</td>\n    </tr>\n    <tr>\n      <th>11</th>\n      <td>Finland</td>\n      <td>2009</td>\n      <td>13.0</td>\n      <td>1</td>\n    </tr>\n    <tr>\n      <th>12</th>\n      <td>Finland</td>\n      <td>2008</td>\n      <td>39.0</td>\n      <td>1</td>\n    </tr>\n    <tr>\n      <th>13</th>\n      <td>Finland</td>\n      <td>2007</td>\n      <td>21.0</td>\n      <td>1</td>\n    </tr>\n    <tr>\n      <th>14</th>\n      <td>Finland</td>\n      <td>2006</td>\n      <td>0.0</td>\n      <td>1</td>\n    </tr>\n    <tr>\n      <th>15</th>\n      <td>Finland</td>\n      <td>2005</td>\n      <td>0.0</td>\n      <td>1</td>\n    </tr>\n    <tr>\n      <th>16</th>\n      <td>Finland</td>\n      <td>2004</td>\n      <td>0.0</td>\n      <td>1</td>\n    </tr>\n    <tr>\n      <th>17</th>\n      <td>Finland</td>\n      <td>2003</td>\n      <td>0.0</td>\n      <td>1</td>\n    </tr>\n    <tr>\n      <th>18</th>\n      <td>Finland</td>\n      <td>2002</td>\n      <td>0.0</td>\n      <td>1</td>\n    </tr>\n    <tr>\n      <th>19</th>\n      <td>Finland</td>\n      <td>2001</td>\n      <td>0.0</td>\n      <td>1</td>\n    </tr>\n    <tr>\n      <th>20</th>\n      <td>Finland</td>\n      <td>2000</td>\n      <td>0.0</td>\n      <td>1</td>\n    </tr>\n    <tr>\n      <th>21</th>\n      <td>Finland</td>\n      <td>1999</td>\n      <td>0.0</td>\n      <td>1</td>\n    </tr>\n    <tr>\n      <th>22</th>\n      <td>Finland</td>\n      <td>1998</td>\n      <td>0.0</td>\n      <td>1</td>\n    </tr>\n    <tr>\n      <th>23</th>\n      <td>Finland</td>\n      <td>1997</td>\n      <td>0.0</td>\n      <td>1</td>\n    </tr>\n    <tr>\n      <th>24</th>\n      <td>Finland</td>\n      <td>1996</td>\n      <td>0.0</td>\n      <td>1</td>\n    </tr>\n    <tr>\n      <th>25</th>\n      <td>Finland</td>\n      <td>1995</td>\n      <td>3.0</td>\n      <td>1</td>\n    </tr>\n    <tr>\n      <th>26</th>\n      <td>France</td>\n      <td>2014</td>\n      <td>119.0</td>\n      <td>1</td>\n    </tr>\n    <tr>\n      <th>27</th>\n      <td>France</td>\n      <td>2013</td>\n      <td>102.0</td>\n      <td>1</td>\n    </tr>\n    <tr>\n      <th>28</th>\n      <td>France</td>\n      <td>2012</td>\n      <td>62.0</td>\n      <td>1</td>\n    </tr>\n    <tr>\n      <th>29</th>\n      <td>France</td>\n      <td>2011</td>\n      <td>55.0</td>\n      <td>1</td>\n    </tr>\n    <tr>\n      <th>30</th>\n      <td>France</td>\n      <td>2010</td>\n      <td>87.0</td>\n      <td>1</td>\n    </tr>\n  </tbody>\n</table>\n</div>"
     },
     "execution_count": 35,
     "metadata": {},
     "output_type": "execute_result"
    }
   ],
   "source": [
    "data.loc[10:30]"
   ],
   "metadata": {
    "collapsed": false,
    "pycharm": {
     "name": "#%%\n"
    }
   }
  },
  {
   "cell_type": "markdown",
   "source": [
    "# Сортировка"
   ],
   "metadata": {
    "collapsed": false
   }
  },
  {
   "cell_type": "code",
   "execution_count": 3,
   "outputs": [
    {
     "data": {
      "text/plain": "   country  year  quantity  category\n0  Austria  1996       5.0         1\n1  Austria  1995      17.0         1\n2  Belgium  2014       0.0         1\n3  Belgium  2013       0.0         1\n4  Belgium  2012      35.0         1",
      "text/html": "<div>\n<style scoped>\n    .dataframe tbody tr th:only-of-type {\n        vertical-align: middle;\n    }\n\n    .dataframe tbody tr th {\n        vertical-align: top;\n    }\n\n    .dataframe thead th {\n        text-align: right;\n    }\n</style>\n<table border=\"1\" class=\"dataframe\">\n  <thead>\n    <tr style=\"text-align: right;\">\n      <th></th>\n      <th>country</th>\n      <th>year</th>\n      <th>quantity</th>\n      <th>category</th>\n    </tr>\n  </thead>\n  <tbody>\n    <tr>\n      <th>0</th>\n      <td>Austria</td>\n      <td>1996</td>\n      <td>5.0</td>\n      <td>1</td>\n    </tr>\n    <tr>\n      <th>1</th>\n      <td>Austria</td>\n      <td>1995</td>\n      <td>17.0</td>\n      <td>1</td>\n    </tr>\n    <tr>\n      <th>2</th>\n      <td>Belgium</td>\n      <td>2014</td>\n      <td>0.0</td>\n      <td>1</td>\n    </tr>\n    <tr>\n      <th>3</th>\n      <td>Belgium</td>\n      <td>2013</td>\n      <td>0.0</td>\n      <td>1</td>\n    </tr>\n    <tr>\n      <th>4</th>\n      <td>Belgium</td>\n      <td>2012</td>\n      <td>35.0</td>\n      <td>1</td>\n    </tr>\n  </tbody>\n</table>\n</div>"
     },
     "execution_count": 3,
     "metadata": {},
     "output_type": "execute_result"
    }
   ],
   "source": [
    "data.sort_values('quantity', ascending=False).head()\n",
    "\n",
    "data.sort_values(by=['year','country','quantity'], ascending=[False,True,True])\n",
    "\n",
    "data.head()"
   ],
   "metadata": {
    "collapsed": false,
    "pycharm": {
     "name": "#%%\n"
    }
   }
  },
  {
   "cell_type": "markdown",
   "source": [
    "### Параметр inplace"
   ],
   "metadata": {
    "collapsed": false
   }
  },
  {
   "cell_type": "code",
   "execution_count": 4,
   "outputs": [
    {
     "data": {
      "text/plain": "            country  year  quantity  category\n362577  Afghanistan  2014     0.002        25\n131237  Afghanistan  2014     0.015        14\n351952  Afghanistan  2014     0.015        25\n140375  Afghanistan  2014     0.036        14\n478765  Afghanistan  2014     0.500        27",
      "text/html": "<div>\n<style scoped>\n    .dataframe tbody tr th:only-of-type {\n        vertical-align: middle;\n    }\n\n    .dataframe tbody tr th {\n        vertical-align: top;\n    }\n\n    .dataframe thead th {\n        text-align: right;\n    }\n</style>\n<table border=\"1\" class=\"dataframe\">\n  <thead>\n    <tr style=\"text-align: right;\">\n      <th></th>\n      <th>country</th>\n      <th>year</th>\n      <th>quantity</th>\n      <th>category</th>\n    </tr>\n  </thead>\n  <tbody>\n    <tr>\n      <th>362577</th>\n      <td>Afghanistan</td>\n      <td>2014</td>\n      <td>0.002</td>\n      <td>25</td>\n    </tr>\n    <tr>\n      <th>131237</th>\n      <td>Afghanistan</td>\n      <td>2014</td>\n      <td>0.015</td>\n      <td>14</td>\n    </tr>\n    <tr>\n      <th>351952</th>\n      <td>Afghanistan</td>\n      <td>2014</td>\n      <td>0.015</td>\n      <td>25</td>\n    </tr>\n    <tr>\n      <th>140375</th>\n      <td>Afghanistan</td>\n      <td>2014</td>\n      <td>0.036</td>\n      <td>14</td>\n    </tr>\n    <tr>\n      <th>478765</th>\n      <td>Afghanistan</td>\n      <td>2014</td>\n      <td>0.500</td>\n      <td>27</td>\n    </tr>\n  </tbody>\n</table>\n</div>"
     },
     "execution_count": 4,
     "metadata": {},
     "output_type": "execute_result"
    }
   ],
   "source": [
    "data = data.sort_values(by=['year','country','quantity'], ascending=[False,True,True])\n",
    "data.sort_values(by=['year','country','quantity'], ascending=[False,True,True],inplace=True)\n",
    "data.head()"
   ],
   "metadata": {
    "collapsed": false,
    "pycharm": {
     "name": "#%%\n"
    }
   }
  },
  {
   "cell_type": "markdown",
   "source": [
    "### Домашнее задание\n",
    "\n"
   ],
   "metadata": {
    "collapsed": false
   }
  }
 ],
 "metadata": {
  "kernelspec": {
   "display_name": "Python 3",
   "language": "python",
   "name": "python3"
  },
  "language_info": {
   "codemirror_mode": {
    "name": "ipython",
    "version": 2
   },
   "file_extension": ".py",
   "mimetype": "text/x-python",
   "name": "python",
   "nbconvert_exporter": "python",
   "pygments_lexer": "ipython2",
   "version": "2.7.6"
  }
 },
 "nbformat": 4,
 "nbformat_minor": 0
}