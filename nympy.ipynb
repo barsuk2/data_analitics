{
 "cells": [
  {
   "cell_type": "code",
   "metadata": {
    "collapsed": true,
    "pycharm": {
     "name": "#%% \n"
    }
   },
   "source": [
    "stats = [\n",
    "    {\n",
    "        'movie': 'На странных берегах',\n",
    "        'bodycount': {'люди': 56, 'русалки': 2, 'ядовитые жабы': 3, 'пираты-зомби': 2}\n",
    "    },\n",
    "    {\n",
    "        'movie': 'На краю света',\n",
    "        'bodycount': {'люди': 88}\n",
    "    },\n",
    "    {\n",
    "        'movie': 'Сундук мертвеца',\n",
    "        'bodycount': {'люди': 56, 'крабы отшельники': 1}\n",
    "    },\n",
    "    {\n",
    "        'movie': 'Проклятие Черной жемчужины',\n",
    "        'bodycount': {'люди': 17}\n",
    "    },\n",
    "]\n",
    "summ = 0\n",
    "count = 0\n",
    "for el in stats:\n",
    "    summ+=el['bodycount']['люди']\n",
    "\n",
    "print(round(summ/ len(stats)))\n",
    "\n"
   ],
   "execution_count": null,
   "outputs": []
  },
  {
   "cell_type": "markdown",
   "source": [
    "### Numpy и матричная алгебра"
   ],
   "metadata": {
    "collapsed": false,
    "pycharm": {
     "name": "#%% md\n"
    }
   }
  },
  {
   "cell_type": "code",
   "execution_count": null,
   "outputs": [],
   "source": [
    "import numpy as np"
   ],
   "metadata": {
    "collapsed": false,
    "pycharm": {
     "name": "#%%\n"
    }
   }
  },
  {
   "cell_type": "code",
   "execution_count": null,
   "outputs": [],
   "source": [
    "x = np.array([1,2,3])\n",
    "y = np.array([4,5,6])\n"
   ],
   "metadata": {
    "collapsed": false,
    "pycharm": {
     "name": "#%%\n"
    }
   }
  },
  {
   "cell_type": "code",
   "execution_count": null,
   "outputs": [],
   "source": [
    "type(x)"
   ],
   "metadata": {
    "collapsed": false,
    "pycharm": {
     "name": "#%%\n"
    }
   }
  },
  {
   "cell_type": "code",
   "source": [
    "x.mean()\n",
    "\n",
    "\n"
   ],
   "metadata": {
    "collapsed": false,
    "pycharm": {
     "name": "#%%\n"
    }
   },
   "execution_count": null,
   "outputs": []
  },
  {
   "cell_type": "code",
   "execution_count": null,
   "outputs": [],
   "source": [
    "print(x+y)\n",
    "print(x-y)"
   ],
   "metadata": {
    "collapsed": false,
    "pycharm": {
     "name": "#%%\n"
    }
   }
  },
  {
   "cell_type": "code",
   "execution_count": null,
   "outputs": [],
   "source": [
    "x-y\n"
   ],
   "metadata": {
    "collapsed": false,
    "pycharm": {
     "name": "#%%\n"
    }
   }
  },
  {
   "cell_type": "code",
   "execution_count": null,
   "outputs": [],
   "source": [
    "print(x**y)\n",
    "print(x%y)"
   ],
   "metadata": {
    "collapsed": false,
    "pycharm": {
     "name": "#%%\n"
    }
   }
  },
  {
   "cell_type": "markdown",
   "source": [
    "##### Автоматеческое наполнение массивов"
   ],
   "metadata": {
    "collapsed": false,
    "pycharm": {
     "name": "#%% md\n"
    }
   }
  },
  {
   "cell_type": "code",
   "execution_count": null,
   "outputs": [],
   "source": [
    "# аналог range\n",
    "print(np.arange(10))\n",
    "# матрица 10 заполненная 5\n",
    "print(np.full(10,5))\n",
    "# матрица 2 на 5 заполненная 5\n",
    "print(np.full([2, 5], 5))"
   ],
   "metadata": {
    "collapsed": false,
    "pycharm": {
     "name": "#%%\n"
    }
   }
  },
  {
   "cell_type": "code",
   "execution_count": null,
   "outputs": [],
   "source": [
    "# объеденить массивы\n",
    "a= np.arange(10)\n",
    "print(a)\n",
    "b= np.arange(10,20)\n",
    "print(b)\n",
    "np.concatenate((a, b))"
   ],
   "metadata": {
    "collapsed": false,
    "pycharm": {
     "name": "#%%\n"
    }
   }
  },
  {
   "cell_type": "code",
   "execution_count": null,
   "outputs": [],
   "source": [
    "# перемешать элементы массива\n",
    "import random\n",
    "a = np.arange(10)\n",
    "random.shuffle (a)\n",
    "a"
   ],
   "metadata": {
    "collapsed": false,
    "pycharm": {
     "name": "#%%\n"
    }
   }
  },
  {
   "cell_type": "code",
   "execution_count": null,
   "outputs": [],
   "source": [
    "### Упражнение\n",
    "# По мотивам https://thecode.media/choose-life/\n",
    "#\n",
    "# По результатам собеседования вам предлагают определенную зарплату. И конверт, который может случайным образом снизить или увеличить эту зарплату вдвое. Т. е. если сначала была сумма Х, то после вскрытия конверта она может стать 0.5Х или 2Х. Как в среднем изменится будущая зарплата, если соискатель решил открыть конверт?\n",
    "#\n",
    "# Смоделируйте процесс изменения условной зарплаты в 1000 в случае открытия конверта:\n",
    "# 1. Задайте переменную n_samples = 1000\n",
    "# 2. Создайте numpy array из n_samples элементов, равных зарплате 0.5Х. И такой же с зарплатой 2Х.\n",
    "# 3. Объедините их в один массив\n",
    "# 4. Перемешайте значения в получившемся массиве\n",
    "# 5. Посчитайте среднее значение зарплаты для объединенного массива\n",
    "\n",
    "n_samples = 1000\n",
    "array1 = np.full(1000,1000*0.5)\n",
    "array2 = np.full(1000,1000*2)\n",
    "array = np .concatenate ((array1,array2))\n",
    "random.shuffle(array)\n",
    "array.mean()"
   ],
   "metadata": {
    "collapsed": false,
    "pycharm": {
     "name": "#%%\n"
    }
   }
  },
  {
   "cell_type": "code",
   "source": [
    "# Измение размерности\n",
    "\n",
    "x = np.arange(0,10)\n",
    "a= x\n",
    "print(a.shape)\n",
    "x= x.reshape(5,2)\n",
    "print(x)\n",
    "print(x.shape)\n",
    "\n",
    "# Измение размерности ТРАНСПОНИРОВНИМЕ\n",
    "x.T"
   ],
   "metadata": {
    "collapsed": false,
    "pycharm": {
     "name": "#%%\n"
    }
   },
   "execution_count": 42,
   "outputs": [
    {
     "name": "stdout",
     "output_type": "stream",
     "text": [
      "(10,)\n",
      "[[0 1]\n",
      " [2 3]\n",
      " [4 5]\n",
      " [6 7]\n",
      " [8 9]]\n",
      "(5, 2)\n"
     ]
    },
    {
     "data": {
      "text/plain": "array([[0, 2, 4, 6, 8],\n       [1, 3, 5, 7, 9]])"
     },
     "execution_count": 42,
     "metadata": {},
     "output_type": "execute_result"
    }
   ]
  },
  {
   "cell_type": "code",
   "execution_count": 48,
   "outputs": [
    {
     "name": "stdout",
     "output_type": "stream",
     "text": [
      "[list([2, 3, 4]) list([2, 3, 4, 6])]\n"
     ]
    },
    {
     "name": "stderr",
     "output_type": "stream",
     "text": [
      "c:\\python37\\lib\\site-packages\\ipykernel_launcher.py:2: VisibleDeprecationWarning: Creating an ndarray from ragged nested sequences (which is a list-or-tuple of lists-or-tuples-or ndarrays with different lengths or shapes) is deprecated. If you meant to do this, you must specify 'dtype=object' when creating the ndarray\n",
      "  \n"
     ]
    }
   ],
   "source": [
    "# склеиваине массивов\n",
    "x = np.array([[1,2,3,4], [2,3,4,6]])\n",
    "print(x.ravel())"
   ],
   "metadata": {
    "collapsed": false,
    "pycharm": {
     "name": "#%%\n"
    }
   }
  },
  {
   "cell_type": "markdown",
   "source": [
    "#### Создание матриц"
   ],
   "metadata": {
    "collapsed": false
   }
  },
  {
   "cell_type": "code",
   "execution_count": 52,
   "outputs": [
    {
     "data": {
      "text/plain": "array([0., 0.])"
     },
     "execution_count": 52,
     "metadata": {},
     "output_type": "execute_result"
    }
   ],
   "source": [
    "# нулевой вектор заданной размерности\n",
    "np.zeros(2)"
   ],
   "metadata": {
    "collapsed": false,
    "pycharm": {
     "name": "#%%\n"
    }
   }
  },
  {
   "cell_type": "code",
   "execution_count": 67,
   "outputs": [
    {
     "data": {
      "text/plain": "array([[ 0,  0,  0,  0,  0,  0,  0,  0,  0],\n       [ 0,  0,  0,  0,  0,  0,  0,  0,  0],\n       [ 0,  0,  0,  0,  0,  0,  0,  0,  0],\n       [ 0,  0,  0,  0,  0,  0,  0,  0,  0],\n       [ 0,  0,  0,  0,  0,  0,  0,  0,  0],\n       [ 2,  0,  0,  0,  0,  0,  0,  0,  0],\n       [ 0, 17,  0,  0,  0,  0,  0,  0,  0],\n       [ 0,  0, 32,  0,  0,  0,  0,  0,  0],\n       [ 0,  0,  0, 47,  0,  0,  0,  0,  0]])"
     },
     "execution_count": 67,
     "metadata": {},
     "output_type": "execute_result"
    }
   ],
   "source": [
    "# единичная матрица\n",
    "\n",
    "np.eye(5)\n",
    "\n",
    "# более общий случай диагональной матрицы\n",
    "np.diag(np.arange(2, 50, 15), k=-5)\n"
   ],
   "metadata": {
    "collapsed": false,
    "pycharm": {
     "name": "#%%\n"
    }
   }
  },
  {
   "cell_type": "code",
   "execution_count": 69,
   "outputs": [
    {
     "data": {
      "text/plain": "array([ 1.        ,  2.77777778,  4.55555556,  6.33333333,  8.11111111,\n        9.88888889, 11.66666667, 13.44444444, 15.22222222, 17.        ])"
     },
     "execution_count": 69,
     "metadata": {},
     "output_type": "execute_result"
    }
   ],
   "source": [
    "# матрица со случайными значениями\n",
    "\n",
    "np.random.random(10)\n",
    "\n",
    "np.linspace(1,17,10)"
   ],
   "metadata": {
    "collapsed": false,
    "pycharm": {
     "name": "#%%\n"
    }
   }
  },
  {
   "cell_type": "code",
   "execution_count": 77,
   "outputs": [
    {
     "name": "stdout",
     "output_type": "stream",
     "text": [
      "11.0\n"
     ]
    }
   ],
   "source": [
    "# Дана единичная матрица np.eye(10). Посчитайте сумму ее диагональных элементов.\n",
    "a = np.eye(11)\n",
    "print(sum(np.diagonal(a)))"
   ],
   "metadata": {
    "collapsed": false,
    "pycharm": {
     "name": "#%%\n"
    }
   }
  },
  {
   "cell_type": "markdown",
   "source": [
    "#### Скалярное произведение векторов\n",
    "\\begin{equation*}\n",
    "\\LARGE\n",
    "\\vec{a} \\dot{} \\vec{b} = |\\vec{a}| \\space |\\vec{b}| \\space cos(\\vec{a}, \\vec{b})\n",
    "\\end{equation*}"
   ],
   "metadata": {
    "collapsed": false,
    "pycharm": {
     "name": "#%% md\n"
    }
   }
  },
  {
   "cell_type": "code",
   "execution_count": null,
   "outputs": [],
   "source": [],
   "metadata": {
    "collapsed": false,
    "pycharm": {
     "name": "#%%\n",
     "is_executing": true
    }
   }
  }
 ],
 "metadata": {
  "kernelspec": {
   "display_name": "Python 3",
   "language": "python",
   "name": "python3"
  },
  "language_info": {
   "codemirror_mode": {
    "name": "ipython",
    "version": 2
   },
   "file_extension": ".py",
   "mimetype": "text/x-python",
   "name": "python",
   "nbconvert_exporter": "python",
   "pygments_lexer": "ipython2",
   "version": "2.7.6"
  }
 },
 "nbformat": 4,
 "nbformat_minor": 0
}