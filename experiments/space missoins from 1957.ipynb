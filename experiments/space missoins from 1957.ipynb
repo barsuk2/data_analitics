{
 "cells": [
  {
   "cell_type": "code",
   "execution_count": 145,
   "metadata": {
    "collapsed": true
   },
   "outputs": [
    {
     "data": {
      "text/plain": "  Company Name                                           Location  \\\n0       SpaceX         LC-39A, Kennedy Space Center, Florida, USA   \n1         CASC  Site 9401 (SLS-2), Jiuquan Satellite Launch Ce...   \n2       SpaceX                      Pad A, Boca Chica, Texas, USA   \n3    Roscosmos       Site 200/39, Baikonur Cosmodrome, Kazakhstan   \n4          ULA           SLC-41, Cape Canaveral AFS, Florida, USA   \n\n                        Datum                                        Detail  \\\n0  Fri Aug 07, 2020 05:12 UTC  Falcon 9 Block 5 | Starlink V1 L9 & BlackSky   \n1  Thu Aug 06, 2020 04:01 UTC           Long March 2D | Gaofen-9 04 & Q-SAT   \n2  Tue Aug 04, 2020 23:57 UTC            Starship Prototype | 150 Meter Hop   \n3  Thu Jul 30, 2020 21:25 UTC  Proton-M/Briz-M | Ekspress-80 & Ekspress-103   \n4  Thu Jul 30, 2020 11:50 UTC                    Atlas V 541 | Perseverance   \n\n  Status Rocket  Rocket Status Mission  \n0  StatusActive   50.0         Success  \n1  StatusActive  29.75         Success  \n2  StatusActive     NaN        Success  \n3  StatusActive   65.0         Success  \n4  StatusActive  145.0         Success  ",
      "text/html": "<div>\n<style scoped>\n    .dataframe tbody tr th:only-of-type {\n        vertical-align: middle;\n    }\n\n    .dataframe tbody tr th {\n        vertical-align: top;\n    }\n\n    .dataframe thead th {\n        text-align: right;\n    }\n</style>\n<table border=\"1\" class=\"dataframe\">\n  <thead>\n    <tr style=\"text-align: right;\">\n      <th></th>\n      <th>Company Name</th>\n      <th>Location</th>\n      <th>Datum</th>\n      <th>Detail</th>\n      <th>Status Rocket</th>\n      <th>Rocket</th>\n      <th>Status Mission</th>\n    </tr>\n  </thead>\n  <tbody>\n    <tr>\n      <th>0</th>\n      <td>SpaceX</td>\n      <td>LC-39A, Kennedy Space Center, Florida, USA</td>\n      <td>Fri Aug 07, 2020 05:12 UTC</td>\n      <td>Falcon 9 Block 5 | Starlink V1 L9 &amp; BlackSky</td>\n      <td>StatusActive</td>\n      <td>50.0</td>\n      <td>Success</td>\n    </tr>\n    <tr>\n      <th>1</th>\n      <td>CASC</td>\n      <td>Site 9401 (SLS-2), Jiuquan Satellite Launch Ce...</td>\n      <td>Thu Aug 06, 2020 04:01 UTC</td>\n      <td>Long March 2D | Gaofen-9 04 &amp; Q-SAT</td>\n      <td>StatusActive</td>\n      <td>29.75</td>\n      <td>Success</td>\n    </tr>\n    <tr>\n      <th>2</th>\n      <td>SpaceX</td>\n      <td>Pad A, Boca Chica, Texas, USA</td>\n      <td>Tue Aug 04, 2020 23:57 UTC</td>\n      <td>Starship Prototype | 150 Meter Hop</td>\n      <td>StatusActive</td>\n      <td>NaN</td>\n      <td>Success</td>\n    </tr>\n    <tr>\n      <th>3</th>\n      <td>Roscosmos</td>\n      <td>Site 200/39, Baikonur Cosmodrome, Kazakhstan</td>\n      <td>Thu Jul 30, 2020 21:25 UTC</td>\n      <td>Proton-M/Briz-M | Ekspress-80 &amp; Ekspress-103</td>\n      <td>StatusActive</td>\n      <td>65.0</td>\n      <td>Success</td>\n    </tr>\n    <tr>\n      <th>4</th>\n      <td>ULA</td>\n      <td>SLC-41, Cape Canaveral AFS, Florida, USA</td>\n      <td>Thu Jul 30, 2020 11:50 UTC</td>\n      <td>Atlas V 541 | Perseverance</td>\n      <td>StatusActive</td>\n      <td>145.0</td>\n      <td>Success</td>\n    </tr>\n  </tbody>\n</table>\n</div>"
     },
     "execution_count": 145,
     "metadata": {},
     "output_type": "execute_result"
    }
   ],
   "source": [
    "import os\n",
    "import pandas as pd\n",
    "path = r'C:\\Users\\egor\\DataScience_date'\n",
    "file = pd.read_csv(os.path.join(path,'datasets_828921_1417131_Space_Corrected.csv'))\n",
    "file.drop(columns=['Unnamed: 0','Unnamed: 0.1'],inplace=True)\n",
    "file.head()\n",
    "\n"
   ]
  },
  {
   "cell_type": "code",
   "execution_count": 25,
   "outputs": [
    {
     "name": "stdout",
     "output_type": "stream",
     "text": [
      "<class 'pandas.core.frame.DataFrame'>\n",
      "RangeIndex: 4324 entries, 0 to 4323\n",
      "Data columns (total 7 columns):\n",
      " #   Column          Non-Null Count  Dtype \n",
      "---  ------          --------------  ----- \n",
      " 0   Company Name    4324 non-null   object\n",
      " 1   Location        4324 non-null   object\n",
      " 2   Datum           4324 non-null   object\n",
      " 3   Detail          4324 non-null   object\n",
      " 4   Status Rocket   4324 non-null   object\n",
      " 5    Rocket         964 non-null    object\n",
      " 6   Status Mission  4324 non-null   object\n",
      "dtypes: object(7)\n",
      "memory usage: 236.6+ KB\n"
     ]
    }
   ],
   "source": [
    "file.info()"
   ],
   "metadata": {
    "collapsed": false,
    "pycharm": {
     "name": "#%%\n"
    }
   }
  },
  {
   "cell_type": "code",
   "execution_count": 36,
   "outputs": [
    {
     "data": {
      "text/plain": "                 Company Name  Location  Datum  Detail  Status Rocket   Rocket\nStatus Mission                                                                \nFailure                     3         3      3       3              3        0\nPartial Failure             1         1      1       1              1        1\nSuccess                    51        51     51      51             51       22",
      "text/html": "<div>\n<style scoped>\n    .dataframe tbody tr th:only-of-type {\n        vertical-align: middle;\n    }\n\n    .dataframe tbody tr th {\n        vertical-align: top;\n    }\n\n    .dataframe thead th {\n        text-align: right;\n    }\n</style>\n<table border=\"1\" class=\"dataframe\">\n  <thead>\n    <tr style=\"text-align: right;\">\n      <th></th>\n      <th>Company Name</th>\n      <th>Location</th>\n      <th>Datum</th>\n      <th>Detail</th>\n      <th>Status Rocket</th>\n      <th>Rocket</th>\n    </tr>\n    <tr>\n      <th>Status Mission</th>\n      <th></th>\n      <th></th>\n      <th></th>\n      <th></th>\n      <th></th>\n      <th></th>\n    </tr>\n  </thead>\n  <tbody>\n    <tr>\n      <th>Failure</th>\n      <td>3</td>\n      <td>3</td>\n      <td>3</td>\n      <td>3</td>\n      <td>3</td>\n      <td>0</td>\n    </tr>\n    <tr>\n      <th>Partial Failure</th>\n      <td>1</td>\n      <td>1</td>\n      <td>1</td>\n      <td>1</td>\n      <td>1</td>\n      <td>1</td>\n    </tr>\n    <tr>\n      <th>Success</th>\n      <td>51</td>\n      <td>51</td>\n      <td>51</td>\n      <td>51</td>\n      <td>51</td>\n      <td>22</td>\n    </tr>\n  </tbody>\n</table>\n</div>"
     },
     "execution_count": 36,
     "metadata": {},
     "output_type": "execute_result"
    }
   ],
   "source": [
    "file[file['Company Name'] == 'Roscosmos'].groupby('Status Mission').count()"
   ],
   "metadata": {
    "collapsed": false,
    "pycharm": {
     "name": "#%%\n"
    }
   }
  },
  {
   "cell_type": "code",
   "execution_count": 42,
   "outputs": [
    {
     "data": {
      "text/plain": "              Location  Datum  Detail  Status Rocket   Rocket  Status Mission\nCompany Name                                                                 \nRVSN USSR          579    579     579            579        2             579\nRoscosmos           47     47      47             47       20              47\nVKS RF              44     44      44             44        5              44\nKosmotras           12     12      12             12       12              12\nLand Launch          7      7       7              7        0               7",
      "text/html": "<div>\n<style scoped>\n    .dataframe tbody tr th:only-of-type {\n        vertical-align: middle;\n    }\n\n    .dataframe tbody tr th {\n        vertical-align: top;\n    }\n\n    .dataframe thead th {\n        text-align: right;\n    }\n</style>\n<table border=\"1\" class=\"dataframe\">\n  <thead>\n    <tr style=\"text-align: right;\">\n      <th></th>\n      <th>Location</th>\n      <th>Datum</th>\n      <th>Detail</th>\n      <th>Status Rocket</th>\n      <th>Rocket</th>\n      <th>Status Mission</th>\n    </tr>\n    <tr>\n      <th>Company Name</th>\n      <th></th>\n      <th></th>\n      <th></th>\n      <th></th>\n      <th></th>\n      <th></th>\n    </tr>\n  </thead>\n  <tbody>\n    <tr>\n      <th>RVSN USSR</th>\n      <td>579</td>\n      <td>579</td>\n      <td>579</td>\n      <td>579</td>\n      <td>2</td>\n      <td>579</td>\n    </tr>\n    <tr>\n      <th>Roscosmos</th>\n      <td>47</td>\n      <td>47</td>\n      <td>47</td>\n      <td>47</td>\n      <td>20</td>\n      <td>47</td>\n    </tr>\n    <tr>\n      <th>VKS RF</th>\n      <td>44</td>\n      <td>44</td>\n      <td>44</td>\n      <td>44</td>\n      <td>5</td>\n      <td>44</td>\n    </tr>\n    <tr>\n      <th>Kosmotras</th>\n      <td>12</td>\n      <td>12</td>\n      <td>12</td>\n      <td>12</td>\n      <td>12</td>\n      <td>12</td>\n    </tr>\n    <tr>\n      <th>Land Launch</th>\n      <td>7</td>\n      <td>7</td>\n      <td>7</td>\n      <td>7</td>\n      <td>0</td>\n      <td>7</td>\n    </tr>\n  </tbody>\n</table>\n</div>"
     },
     "execution_count": 42,
     "metadata": {},
     "output_type": "execute_result"
    }
   ],
   "source": [
    "\n",
    "file[file['Location'].str.contains('Kazakhstan')].groupby('Company Name').count()\\\n",
    "    .sort_values('Location', ascending=False).head(5)"
   ],
   "metadata": {
    "collapsed": false,
    "pycharm": {
     "name": "#%%\n"
    }
   }
  },
  {
   "cell_type": "code",
   "execution_count": 52,
   "outputs": [
    {
     "data": {
      "text/plain": "              Location  Datum  Detail  Status Rocket   Rocket  Status Mission\nCompany Name                                                                 \nRVSN USSR         1666   1666    1666           1666        2            1666\nVKS RF             200    200     200            200       33             200\nRoscosmos           50     50      50             50       21              50\nEurockot            13     13      13             13       13              13\nKosmotras           12     12      12             12       12              12\nLand Launch          7      7       7              7        0               7\nILS                  6      6       6              6        5               6\nArianespace          2      2       2              2        2               2\nMITT                 2      2       2              2        0               2\nOKB-586              2      2       2              2        0               2\nYuzhmash             2      2       2              2        0               2\nKhrunichev           1      1       1              1        0               1\nStarsem              1      1       1              1        0               1",
      "text/html": "<div>\n<style scoped>\n    .dataframe tbody tr th:only-of-type {\n        vertical-align: middle;\n    }\n\n    .dataframe tbody tr th {\n        vertical-align: top;\n    }\n\n    .dataframe thead th {\n        text-align: right;\n    }\n</style>\n<table border=\"1\" class=\"dataframe\">\n  <thead>\n    <tr style=\"text-align: right;\">\n      <th></th>\n      <th>Location</th>\n      <th>Datum</th>\n      <th>Detail</th>\n      <th>Status Rocket</th>\n      <th>Rocket</th>\n      <th>Status Mission</th>\n    </tr>\n    <tr>\n      <th>Company Name</th>\n      <th></th>\n      <th></th>\n      <th></th>\n      <th></th>\n      <th></th>\n      <th></th>\n    </tr>\n  </thead>\n  <tbody>\n    <tr>\n      <th>RVSN USSR</th>\n      <td>1666</td>\n      <td>1666</td>\n      <td>1666</td>\n      <td>1666</td>\n      <td>2</td>\n      <td>1666</td>\n    </tr>\n    <tr>\n      <th>VKS RF</th>\n      <td>200</td>\n      <td>200</td>\n      <td>200</td>\n      <td>200</td>\n      <td>33</td>\n      <td>200</td>\n    </tr>\n    <tr>\n      <th>Roscosmos</th>\n      <td>50</td>\n      <td>50</td>\n      <td>50</td>\n      <td>50</td>\n      <td>21</td>\n      <td>50</td>\n    </tr>\n    <tr>\n      <th>Eurockot</th>\n      <td>13</td>\n      <td>13</td>\n      <td>13</td>\n      <td>13</td>\n      <td>13</td>\n      <td>13</td>\n    </tr>\n    <tr>\n      <th>Kosmotras</th>\n      <td>12</td>\n      <td>12</td>\n      <td>12</td>\n      <td>12</td>\n      <td>12</td>\n      <td>12</td>\n    </tr>\n    <tr>\n      <th>Land Launch</th>\n      <td>7</td>\n      <td>7</td>\n      <td>7</td>\n      <td>7</td>\n      <td>0</td>\n      <td>7</td>\n    </tr>\n    <tr>\n      <th>ILS</th>\n      <td>6</td>\n      <td>6</td>\n      <td>6</td>\n      <td>6</td>\n      <td>5</td>\n      <td>6</td>\n    </tr>\n    <tr>\n      <th>Arianespace</th>\n      <td>2</td>\n      <td>2</td>\n      <td>2</td>\n      <td>2</td>\n      <td>2</td>\n      <td>2</td>\n    </tr>\n    <tr>\n      <th>MITT</th>\n      <td>2</td>\n      <td>2</td>\n      <td>2</td>\n      <td>2</td>\n      <td>0</td>\n      <td>2</td>\n    </tr>\n    <tr>\n      <th>OKB-586</th>\n      <td>2</td>\n      <td>2</td>\n      <td>2</td>\n      <td>2</td>\n      <td>0</td>\n      <td>2</td>\n    </tr>\n    <tr>\n      <th>Yuzhmash</th>\n      <td>2</td>\n      <td>2</td>\n      <td>2</td>\n      <td>2</td>\n      <td>0</td>\n      <td>2</td>\n    </tr>\n    <tr>\n      <th>Khrunichev</th>\n      <td>1</td>\n      <td>1</td>\n      <td>1</td>\n      <td>1</td>\n      <td>0</td>\n      <td>1</td>\n    </tr>\n    <tr>\n      <th>Starsem</th>\n      <td>1</td>\n      <td>1</td>\n      <td>1</td>\n      <td>1</td>\n      <td>0</td>\n      <td>1</td>\n    </tr>\n  </tbody>\n</table>\n</div>"
     },
     "execution_count": 52,
     "metadata": {},
     "output_type": "execute_result"
    }
   ],
   "source": [
    "\n",
    "file[file['Location'].str.contains('Kazakhstan') | file['Location'].str.contains('Ple')].\\\n",
    "    groupby('Company Name').count().sort_values('Location', ascending=False)"
   ],
   "metadata": {
    "collapsed": false,
    "pycharm": {
     "name": "#%%\n"
    }
   }
  },
  {
   "cell_type": "code",
   "execution_count": 63,
   "outputs": [
    {
     "data": {
      "text/plain": "137"
     },
     "execution_count": 63,
     "metadata": {},
     "output_type": "execute_result"
    }
   ],
   "source": [
    "file['Location'].nunique()"
   ],
   "metadata": {
    "collapsed": false,
    "pycharm": {
     "name": "#%%\n"
    }
   }
  },
  {
   "cell_type": "code",
   "execution_count": 73,
   "outputs": [],
   "source": [
    "s= file.pivot_table(index='Company Name', values = 'Status Rocket', columns='Location', aggfunc='count')\n",
    "s.to_excel(r'C:\\Users\\egor\\DataScience_date\\output1.xlsx', engine='xlsxwriter')\n",
    "\n"
   ],
   "metadata": {
    "collapsed": false,
    "pycharm": {
     "name": "#%%\n"
    }
   }
  },
  {
   "cell_type": "code",
   "execution_count": 146,
   "outputs": [
    {
     "data": {
      "text/plain": "  Company Name                                           Location  \\\n0       SpaceX         LC-39A, Kennedy Space Center, Florida, USA   \n1         CASC  Site 9401 (SLS-2), Jiuquan Satellite Launch Ce...   \n2       SpaceX                      Pad A, Boca Chica, Texas, USA   \n3    Roscosmos       Site 200/39, Baikonur Cosmodrome, Kazakhstan   \n4          ULA           SLC-41, Cape Canaveral AFS, Florida, USA   \n\n                        Datum                                        Detail  \\\n0  Fri Aug 07, 2020 05:12 UTC  Falcon 9 Block 5 | Starlink V1 L9 & BlackSky   \n1  Thu Aug 06, 2020 04:01 UTC           Long March 2D | Gaofen-9 04 & Q-SAT   \n2  Tue Aug 04, 2020 23:57 UTC            Starship Prototype | 150 Meter Hop   \n3  Thu Jul 30, 2020 21:25 UTC  Proton-M/Briz-M | Ekspress-80 & Ekspress-103   \n4  Thu Jul 30, 2020 11:50 UTC                    Atlas V 541 | Perseverance   \n\n  Status Rocket  Rocket Status Mission Country_launch  \n0  StatusActive   50.0         Success            USA  \n1  StatusActive  29.75         Success          China  \n2  StatusActive     NaN        Success            USA  \n3  StatusActive   65.0         Success     Kazakhstan  \n4  StatusActive  145.0         Success            USA  ",
      "text/html": "<div>\n<style scoped>\n    .dataframe tbody tr th:only-of-type {\n        vertical-align: middle;\n    }\n\n    .dataframe tbody tr th {\n        vertical-align: top;\n    }\n\n    .dataframe thead th {\n        text-align: right;\n    }\n</style>\n<table border=\"1\" class=\"dataframe\">\n  <thead>\n    <tr style=\"text-align: right;\">\n      <th></th>\n      <th>Company Name</th>\n      <th>Location</th>\n      <th>Datum</th>\n      <th>Detail</th>\n      <th>Status Rocket</th>\n      <th>Rocket</th>\n      <th>Status Mission</th>\n      <th>Country_launch</th>\n    </tr>\n  </thead>\n  <tbody>\n    <tr>\n      <th>0</th>\n      <td>SpaceX</td>\n      <td>LC-39A, Kennedy Space Center, Florida, USA</td>\n      <td>Fri Aug 07, 2020 05:12 UTC</td>\n      <td>Falcon 9 Block 5 | Starlink V1 L9 &amp; BlackSky</td>\n      <td>StatusActive</td>\n      <td>50.0</td>\n      <td>Success</td>\n      <td>USA</td>\n    </tr>\n    <tr>\n      <th>1</th>\n      <td>CASC</td>\n      <td>Site 9401 (SLS-2), Jiuquan Satellite Launch Ce...</td>\n      <td>Thu Aug 06, 2020 04:01 UTC</td>\n      <td>Long March 2D | Gaofen-9 04 &amp; Q-SAT</td>\n      <td>StatusActive</td>\n      <td>29.75</td>\n      <td>Success</td>\n      <td>China</td>\n    </tr>\n    <tr>\n      <th>2</th>\n      <td>SpaceX</td>\n      <td>Pad A, Boca Chica, Texas, USA</td>\n      <td>Tue Aug 04, 2020 23:57 UTC</td>\n      <td>Starship Prototype | 150 Meter Hop</td>\n      <td>StatusActive</td>\n      <td>NaN</td>\n      <td>Success</td>\n      <td>USA</td>\n    </tr>\n    <tr>\n      <th>3</th>\n      <td>Roscosmos</td>\n      <td>Site 200/39, Baikonur Cosmodrome, Kazakhstan</td>\n      <td>Thu Jul 30, 2020 21:25 UTC</td>\n      <td>Proton-M/Briz-M | Ekspress-80 &amp; Ekspress-103</td>\n      <td>StatusActive</td>\n      <td>65.0</td>\n      <td>Success</td>\n      <td>Kazakhstan</td>\n    </tr>\n    <tr>\n      <th>4</th>\n      <td>ULA</td>\n      <td>SLC-41, Cape Canaveral AFS, Florida, USA</td>\n      <td>Thu Jul 30, 2020 11:50 UTC</td>\n      <td>Atlas V 541 | Perseverance</td>\n      <td>StatusActive</td>\n      <td>145.0</td>\n      <td>Success</td>\n      <td>USA</td>\n    </tr>\n  </tbody>\n</table>\n</div>"
     },
     "execution_count": 146,
     "metadata": {},
     "output_type": "execute_result"
    }
   ],
   "source": [
    "def country(row):\n",
    "    import re\n",
    "    return re.search(r'\\w*$' , row).group()\n",
    "\n",
    "file['Country_launch'] = file['Location'].apply(country)\n",
    "\n",
    "# q = 'Wenchang, Satellite Launch Center, China'\n",
    "# math = re.search(r'\\w*$' , q)\n",
    "# print(math.group())\n",
    "file.head()"
   ],
   "metadata": {
    "collapsed": false,
    "pycharm": {
     "name": "#%%\n"
    }
   }
  },
  {
   "cell_type": "code",
   "execution_count": 113,
   "outputs": [
    {
     "data": {
      "text/plain": "     Company Name Country_launch\n3       Roscosmos     Kazakhstan\n6       Roscosmos     Kazakhstan\n33      Roscosmos     Kazakhstan\n37      Roscosmos     Kazakhstan\n40    Arianespace     Kazakhstan\n...           ...            ...\n4301    RVSN USSR     Kazakhstan\n4313    RVSN USSR     Kazakhstan\n4315    RVSN USSR     Kazakhstan\n4322    RVSN USSR     Kazakhstan\n4323    RVSN USSR     Kazakhstan\n\n[701 rows x 2 columns]",
      "text/html": "<div>\n<style scoped>\n    .dataframe tbody tr th:only-of-type {\n        vertical-align: middle;\n    }\n\n    .dataframe tbody tr th {\n        vertical-align: top;\n    }\n\n    .dataframe thead th {\n        text-align: right;\n    }\n</style>\n<table border=\"1\" class=\"dataframe\">\n  <thead>\n    <tr style=\"text-align: right;\">\n      <th></th>\n      <th>Company Name</th>\n      <th>Country_launch</th>\n    </tr>\n  </thead>\n  <tbody>\n    <tr>\n      <th>3</th>\n      <td>Roscosmos</td>\n      <td>Kazakhstan</td>\n    </tr>\n    <tr>\n      <th>6</th>\n      <td>Roscosmos</td>\n      <td>Kazakhstan</td>\n    </tr>\n    <tr>\n      <th>33</th>\n      <td>Roscosmos</td>\n      <td>Kazakhstan</td>\n    </tr>\n    <tr>\n      <th>37</th>\n      <td>Roscosmos</td>\n      <td>Kazakhstan</td>\n    </tr>\n    <tr>\n      <th>40</th>\n      <td>Arianespace</td>\n      <td>Kazakhstan</td>\n    </tr>\n    <tr>\n      <th>...</th>\n      <td>...</td>\n      <td>...</td>\n    </tr>\n    <tr>\n      <th>4301</th>\n      <td>RVSN USSR</td>\n      <td>Kazakhstan</td>\n    </tr>\n    <tr>\n      <th>4313</th>\n      <td>RVSN USSR</td>\n      <td>Kazakhstan</td>\n    </tr>\n    <tr>\n      <th>4315</th>\n      <td>RVSN USSR</td>\n      <td>Kazakhstan</td>\n    </tr>\n    <tr>\n      <th>4322</th>\n      <td>RVSN USSR</td>\n      <td>Kazakhstan</td>\n    </tr>\n    <tr>\n      <th>4323</th>\n      <td>RVSN USSR</td>\n      <td>Kazakhstan</td>\n    </tr>\n  </tbody>\n</table>\n<p>701 rows × 2 columns</p>\n</div>"
     },
     "execution_count": 113,
     "metadata": {},
     "output_type": "execute_result"
    }
   ],
   "source": [
    "file[['Company Name','Country_launch']][file.Country_launch == 'Kazakhstan']"
   ],
   "metadata": {
    "collapsed": false,
    "pycharm": {
     "name": "#%%\n"
    }
   }
  },
  {
   "cell_type": "code",
   "execution_count": 124,
   "outputs": [
    {
     "data": {
      "text/plain": "             Country_launch\nCompany Name               \nArianespace      Kazakhstan\nILS              Kazakhstan\nKosmotras        Kazakhstan\nLand Launch      Kazakhstan\nOKB-586          Kazakhstan\nRVSN USSR        Kazakhstan\nRoscosmos        Kazakhstan\nStarsem          Kazakhstan\nVKS RF           Kazakhstan\nYuzhmash         Kazakhstan",
      "text/html": "<div>\n<style scoped>\n    .dataframe tbody tr th:only-of-type {\n        vertical-align: middle;\n    }\n\n    .dataframe tbody tr th {\n        vertical-align: top;\n    }\n\n    .dataframe thead th {\n        text-align: right;\n    }\n</style>\n<table border=\"1\" class=\"dataframe\">\n  <thead>\n    <tr style=\"text-align: right;\">\n      <th></th>\n      <th>Country_launch</th>\n    </tr>\n    <tr>\n      <th>Company Name</th>\n      <th></th>\n    </tr>\n  </thead>\n  <tbody>\n    <tr>\n      <th>Arianespace</th>\n      <td>Kazakhstan</td>\n    </tr>\n    <tr>\n      <th>ILS</th>\n      <td>Kazakhstan</td>\n    </tr>\n    <tr>\n      <th>Kosmotras</th>\n      <td>Kazakhstan</td>\n    </tr>\n    <tr>\n      <th>Land Launch</th>\n      <td>Kazakhstan</td>\n    </tr>\n    <tr>\n      <th>OKB-586</th>\n      <td>Kazakhstan</td>\n    </tr>\n    <tr>\n      <th>RVSN USSR</th>\n      <td>Kazakhstan</td>\n    </tr>\n    <tr>\n      <th>Roscosmos</th>\n      <td>Kazakhstan</td>\n    </tr>\n    <tr>\n      <th>Starsem</th>\n      <td>Kazakhstan</td>\n    </tr>\n    <tr>\n      <th>VKS RF</th>\n      <td>Kazakhstan</td>\n    </tr>\n    <tr>\n      <th>Yuzhmash</th>\n      <td>Kazakhstan</td>\n    </tr>\n  </tbody>\n</table>\n</div>"
     },
     "execution_count": 124,
     "metadata": {},
     "output_type": "execute_result"
    }
   ],
   "source": [
    "d = file[['Company Name', 'Country_launch']]\n",
    "d[file.Country_launch == 'Kazakhstan'].groupby('Company Name').max()"
   ],
   "metadata": {
    "collapsed": false,
    "pycharm": {
     "name": "#%%\n"
    }
   }
  },
  {
   "cell_type": "code",
   "execution_count": 128,
   "outputs": [
    {
     "name": "stdout",
     "output_type": "stream",
     "text": [
      "['USA' 'China' 'Kazakhstan' 'Japan' 'Israel' 'Zealand' 'Russia' 'Site'\n",
      " 'France' 'Iran' 'India' 'Mexico' 'Sea' 'Korea' 'Facility' 'Ocean'\n",
      " 'Brazil' 'Canaria' 'Kenya' 'Australia']\n"
     ]
    },
    {
     "data": {
      "text/plain": "20"
     },
     "execution_count": 128,
     "metadata": {},
     "output_type": "execute_result"
    }
   ],
   "source": [
    "print(file.Country_launch.unique())\n",
    "file.Country_launch.nunique()"
   ],
   "metadata": {
    "collapsed": false,
    "pycharm": {
     "name": "#%%\n"
    }
   }
  },
  {
   "cell_type": "code",
   "execution_count": 130,
   "outputs": [
    {
     "data": {
      "text/plain": "             Country_launch\nCompany Name               \nASI                   Kenya",
      "text/html": "<div>\n<style scoped>\n    .dataframe tbody tr th:only-of-type {\n        vertical-align: middle;\n    }\n\n    .dataframe tbody tr th {\n        vertical-align: top;\n    }\n\n    .dataframe thead th {\n        text-align: right;\n    }\n</style>\n<table border=\"1\" class=\"dataframe\">\n  <thead>\n    <tr style=\"text-align: right;\">\n      <th></th>\n      <th>Country_launch</th>\n    </tr>\n    <tr>\n      <th>Company Name</th>\n      <th></th>\n    </tr>\n  </thead>\n  <tbody>\n    <tr>\n      <th>ASI</th>\n      <td>Kenya</td>\n    </tr>\n  </tbody>\n</table>\n</div>"
     },
     "execution_count": 130,
     "metadata": {},
     "output_type": "execute_result"
    }
   ],
   "source": [
    "file[['Company Name', 'Country_launch']][file.Country_launch == 'Kenya'].groupby('Company Name').max()\n",
    "\n"
   ],
   "metadata": {
    "collapsed": false,
    "pycharm": {
     "name": "#%%\n"
    }
   }
  },
  {
   "cell_type": "code",
   "execution_count": 141,
   "outputs": [
    {
     "data": {
      "text/plain": "array(['SM Launch Tab, San Marco Launch Platform, Kenya',\n       'Santa Rita 2, San Marco Launch Platform, Kenya'], dtype=object)"
     },
     "execution_count": 141,
     "metadata": {},
     "output_type": "execute_result"
    }
   ],
   "source": [
    "file[file['Location'].str.contains('Kenya')]['Location'].unique()"
   ],
   "metadata": {
    "collapsed": false,
    "pycharm": {
     "name": "#%%\n"
    }
   }
  },
  {
   "cell_type": "code",
   "execution_count": 140,
   "outputs": [
    {
     "data": {
      "text/plain": "array(['LC-39A, Kennedy Space Center, Florida, USA',\n       'Pad A, Boca Chica, Texas, USA',\n       'SLC-41, Cape Canaveral AFS, Florida, USA',\n       'SLC-40, Cape Canaveral AFS, Florida, USA',\n       'LP-0B, Wallops Flight Facility, Virginia, USA',\n       'Cosmic Girl, Mojave Air and Space Port, California, USA',\n       'LP-0A, Wallops Flight Facility, Virginia, USA',\n       'Blue Origin Launch Site, West Texas, Texas, USA',\n       'Stargazer, Cape Canaveral AFS, Florida, USA',\n       'SLC-37B, Cape Canaveral AFS, Florida, USA',\n       'SLC-4E, Vandenberg AFB, California, USA',\n       'SLC-6, Vandenberg AFB, California, USA',\n       'SLC-2W, Vandenberg AFB, California, USA',\n       'SLC-3E, Vandenberg AFB, California, USA',\n       'SLC-576E, Vandenberg AFB, California, USA',\n       'SLC-46, Cape Canaveral AFS, Florida, USA',\n       'Stargazer, Vandenberg AFB, California, USA',\n       'Stargazer, Ronald Reagan Ballistic Missile Defense Test Site, Marshall Islands, USA',\n       'LP-1, Pacific Spaceport Complex, Alaska, USA',\n       'SLC-17B, Cape Canaveral AFS, Florida, USA',\n       'SLC-8, Vandenberg AFB, California, USA',\n       'LC-39B, Kennedy Space Center, Florida, USA',\n       'SLC-17A, Cape Canaveral AFS, Florida, USA',\n       'Omelek Island, Ronald Reagan Ballistic Missile Defense Test Site, Marshall Islands, USA',\n       'SLC-36B, Cape Canaveral AFS, Florida, USA',\n       'SLC-36A, Cape Canaveral AFS, Florida, USA',\n       'SLC-4W, Vandenberg AFB, California, USA',\n       'Stargazer, Wallops Flight Facility, Virginia, USA',\n       'SLC-3W, Vandenberg AFB, California, USA',\n       'NB-52B Carrier, Edwards AFB, California, USA',\n       'NB-52B Carrier, Cape Canaveral AFS, Florida, USA',\n       'LC-13, Cape Canaveral AFS, Florida, USA',\n       'LC-576A1, Vandenberg AFB, California, USA',\n       'LC-576A2, Vandenberg AFB, California, USA',\n       'LC-34, Cape Canaveral AFS, Florida, USA',\n       'LC-12, Cape Canaveral AFS, Florida, USA',\n       'LC-576B3, Vandenberg AFB, California, USA',\n       'LC-19, Cape Canaveral AFS, Florida, USA',\n       'LC-14, Cape Canaveral AFS, Florida, USA',\n       'SLC-20, Cape Canaveral AFS, Florida, USA',\n       'SLC-5, Vandenberg AFB, California, USA',\n       'LA-3, Wallops Flight Facility, Virginia, USA',\n       'SLC-1E (75-3-5), Vandenberg AFB, California, USA',\n       'SLC-2E (75-1-1), Vandenberg AFB, California, USA',\n       'SLC-1W (75-3-4), Vandenberg AFB, California, USA',\n       'LC-18B, Cape Canaveral AFS, Florida, USA',\n       'LC-5, Cape Canaveral AFS, Florida, USA',\n       'LC-18A, Cape Canaveral AFS, Florida, USA',\n       'LC-11, Cape Canaveral AFS, Florida, USA',\n       'Douglas F4D Skyray, Naval Air Station Point Mugu, California, USA',\n       'LC-26A, Cape Canaveral AFS, Florida, USA'], dtype=object)"
     },
     "execution_count": 140,
     "metadata": {},
     "output_type": "execute_result"
    }
   ],
   "source": [
    "file[file['Location'].str.contains('USA')]['Location'].unique()"
   ],
   "metadata": {
    "collapsed": false,
    "pycharm": {
     "name": "#%%\n"
    }
   }
  },
  {
   "cell_type": "code",
   "execution_count": 144,
   "outputs": [
    {
     "data": {
      "text/plain": "   Company Name                                     Location  \\\n35         IRGC  Launch Plateform, Shahrud Missile Test Site   \n\n                         Datum          Detail Status Rocket  Rocket  \\\n35  Wed Apr 22, 2020 03:59 UTC  Qased | Noor 1  StatusActive     NaN   \n\n   Status Mission coutry Country_launch  \n35        Success   Site           Site  ",
      "text/html": "<div>\n<style scoped>\n    .dataframe tbody tr th:only-of-type {\n        vertical-align: middle;\n    }\n\n    .dataframe tbody tr th {\n        vertical-align: top;\n    }\n\n    .dataframe thead th {\n        text-align: right;\n    }\n</style>\n<table border=\"1\" class=\"dataframe\">\n  <thead>\n    <tr style=\"text-align: right;\">\n      <th></th>\n      <th>Company Name</th>\n      <th>Location</th>\n      <th>Datum</th>\n      <th>Detail</th>\n      <th>Status Rocket</th>\n      <th>Rocket</th>\n      <th>Status Mission</th>\n      <th>coutry</th>\n      <th>Country_launch</th>\n    </tr>\n  </thead>\n  <tbody>\n    <tr>\n      <th>35</th>\n      <td>IRGC</td>\n      <td>Launch Plateform, Shahrud Missile Test Site</td>\n      <td>Wed Apr 22, 2020 03:59 UTC</td>\n      <td>Qased | Noor 1</td>\n      <td>StatusActive</td>\n      <td>NaN</td>\n      <td>Success</td>\n      <td>Site</td>\n      <td>Site</td>\n    </tr>\n  </tbody>\n</table>\n</div>"
     },
     "execution_count": 144,
     "metadata": {},
     "output_type": "execute_result"
    }
   ],
   "source": [
    "file[file['Country_launch'] == 'Site']\n",
    "\n"
   ],
   "metadata": {
    "collapsed": false,
    "pycharm": {
     "name": "#%%\n"
    }
   }
  },
  {
   "cell_type": "markdown",
   "source": [
    "Визуализация"
   ],
   "metadata": {
    "collapsed": false,
    "pycharm": {
     "name": "#%% md\n"
    }
   }
  },
  {
   "cell_type": "code",
   "execution_count": 162,
   "outputs": [
    {
     "data": {
      "text/plain": "[<matplotlib.lines.Line2D at 0x1d4dcdd8>]"
     },
     "execution_count": 162,
     "metadata": {},
     "output_type": "execute_result"
    },
    {
     "data": {
      "text/plain": "<Figure size 864x648 with 1 Axes>",
      "image/png": "[encoded data removed]"
     },
     "metadata": {
      "needs_background": "light"
     },
     "output_type": "display_data"
    }
   ],
   "source": [
    "from pylab import rcParams\n",
    "rcParams['figure.figsize'] = 12,9\n",
    "import matplotlib.pyplot as pl\n",
    "x = 20\n",
    "l = [x**2  for x in range(-x ,x,1)]\n",
    "l2 = [2*x for x in range(-x,x,1)]\n",
    "pl.plot(range(-x,x,1), l )\n",
    "pl.plot(range(-x,x,1), l2 )\n",
    "\n",
    "\n",
    "\n"
   ],
   "metadata": {
    "collapsed": false,
    "pycharm": {
     "name": "#%%\n"
    }
   }
  }
 ],
 "metadata": {
  "kernelspec": {
   "display_name": "Python 3",
   "language": "python",
   "name": "python3"
  },
  "language_info": {
   "codemirror_mode": {
    "name": "ipython",
    "version": 2
   },
   "file_extension": ".py",
   "mimetype": "text/x-python",
   "name": "python",
   "nbconvert_exporter": "python",
   "pygments_lexer": "ipython2",
   "version": "2.7.6"
  }
 },
 "nbformat": 4,
 "nbformat_minor": 0
}