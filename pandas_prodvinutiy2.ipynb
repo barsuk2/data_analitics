{
 "cells": [
  {
   "cell_type": "code",
   "execution_count": 4,
   "outputs": [
    {
     "data": {
      "text/plain": "   user_id     category  cost\n0        1  Электроника    87\n1        1         Дача    10\n2        1         Дети     2\n3        1         Дача   199\n4        2         Авто     3\n5        2         Авто    35\n6        3         Дети     8\n7        9         Дети    17",
      "text/html": "<div>\n<style scoped>\n    .dataframe tbody tr th:only-of-type {\n        vertical-align: middle;\n    }\n\n    .dataframe tbody tr th {\n        vertical-align: top;\n    }\n\n    .dataframe thead th {\n        text-align: right;\n    }\n</style>\n<table border=\"1\" class=\"dataframe\">\n  <thead>\n    <tr style=\"text-align: right;\">\n      <th></th>\n      <th>user_id</th>\n      <th>category</th>\n      <th>cost</th>\n    </tr>\n  </thead>\n  <tbody>\n    <tr>\n      <th>0</th>\n      <td>1</td>\n      <td>Электроника</td>\n      <td>87</td>\n    </tr>\n    <tr>\n      <th>1</th>\n      <td>1</td>\n      <td>Дача</td>\n      <td>10</td>\n    </tr>\n    <tr>\n      <th>2</th>\n      <td>1</td>\n      <td>Дети</td>\n      <td>2</td>\n    </tr>\n    <tr>\n      <th>3</th>\n      <td>1</td>\n      <td>Дача</td>\n      <td>199</td>\n    </tr>\n    <tr>\n      <th>4</th>\n      <td>2</td>\n      <td>Авто</td>\n      <td>3</td>\n    </tr>\n    <tr>\n      <th>5</th>\n      <td>2</td>\n      <td>Авто</td>\n      <td>35</td>\n    </tr>\n    <tr>\n      <th>6</th>\n      <td>3</td>\n      <td>Дети</td>\n      <td>8</td>\n    </tr>\n    <tr>\n      <th>7</th>\n      <td>9</td>\n      <td>Дети</td>\n      <td>17</td>\n    </tr>\n  </tbody>\n</table>\n</div>"
     },
     "execution_count": 4,
     "metadata": {},
     "output_type": "execute_result"
    }
   ],
   "source": [
    "import pandas as pd\n",
    "path = r'D:\\Фильмы\\Лекции школы\\[Нетология] Python для работы с данными ' \\\n",
    "       r'(2020)\\15. Продвинутый pandas часть 2\\sales_db'\n",
    "\n",
    "sales = pd.read_csv(fr'{path}\\sales_db.csv')\n",
    "sales"
   ],
   "metadata": {
    "collapsed": false,
    "pycharm": {
     "name": "#%%\n"
    }
   }
  },
  {
   "cell_type": "code",
   "execution_count": 41,
   "outputs": [
    {
     "data": {
      "text/plain": "        cost\n         max\nuser_id     \n1        199\n2         35\n3          8\n9         17",
      "text/html": "<div>\n<style scoped>\n    .dataframe tbody tr th:only-of-type {\n        vertical-align: middle;\n    }\n\n    .dataframe tbody tr th {\n        vertical-align: top;\n    }\n\n    .dataframe thead tr th {\n        text-align: left;\n    }\n\n    .dataframe thead tr:last-of-type th {\n        text-align: right;\n    }\n</style>\n<table border=\"1\" class=\"dataframe\">\n  <thead>\n    <tr>\n      <th></th>\n      <th>cost</th>\n    </tr>\n    <tr>\n      <th></th>\n      <th>max</th>\n    </tr>\n    <tr>\n      <th>user_id</th>\n      <th></th>\n    </tr>\n  </thead>\n  <tbody>\n    <tr>\n      <th>1</th>\n      <td>199</td>\n    </tr>\n    <tr>\n      <th>2</th>\n      <td>35</td>\n    </tr>\n    <tr>\n      <th>3</th>\n      <td>8</td>\n    </tr>\n    <tr>\n      <th>9</th>\n      <td>17</td>\n    </tr>\n  </tbody>\n</table>\n</div>"
     },
     "execution_count": 41,
     "metadata": {},
     "output_type": "execute_result"
    }
   ],
   "source": [
    "sales.groupby('user_id').agg({'cost': {'max'}}) # asdasd"
   ],
   "metadata": {
    "collapsed": false,
    "pycharm": {
     "name": "#%%\n"
    }
   }
  },
  {
   "cell_type": "code",
   "execution_count": 18,
   "outputs": [],
   "source": [
    "\n"
   ],
   "metadata": {
    "collapsed": false,
    "pycharm": {
     "name": "#%%\n"
    }
   }
  }
 ],
 "metadata": {
  "kernelspec": {
   "display_name": "Python 3",
   "language": "python",
   "name": "python3"
  },
  "language_info": {
   "codemirror_mode": {
    "name": "ipython",
    "version": 2
   },
   "file_extension": ".py",
   "mimetype": "text/x-python",
   "name": "python",
   "nbconvert_exporter": "python",
   "pygments_lexer": "ipython2",
   "version": "2.7.6"
  }
 },
 "nbformat": 4,
 "nbformat_minor": 0
}