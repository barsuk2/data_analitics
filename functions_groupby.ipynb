{
 "cells": [
  {
   "cell_type": "code",
   "execution_count": 27,
   "outputs": [
    {
     "data": {
      "text/plain": "   user_id  clicks  orders  watcher  conversion\n0        1     123       2        0         125\n1        2     322       4        0         326\n2        3     344       0        1         345",
      "text/html": "<div>\n<style scoped>\n    .dataframe tbody tr th:only-of-type {\n        vertical-align: middle;\n    }\n\n    .dataframe tbody tr th {\n        vertical-align: top;\n    }\n\n    .dataframe thead th {\n        text-align: right;\n    }\n</style>\n<table border=\"1\" class=\"dataframe\">\n  <thead>\n    <tr style=\"text-align: right;\">\n      <th></th>\n      <th>user_id</th>\n      <th>clicks</th>\n      <th>orders</th>\n      <th>watcher</th>\n      <th>conversion</th>\n    </tr>\n  </thead>\n  <tbody>\n    <tr>\n      <th>0</th>\n      <td>1</td>\n      <td>123</td>\n      <td>2</td>\n      <td>0</td>\n      <td>125</td>\n    </tr>\n    <tr>\n      <th>1</th>\n      <td>2</td>\n      <td>322</td>\n      <td>4</td>\n      <td>0</td>\n      <td>326</td>\n    </tr>\n    <tr>\n      <th>2</th>\n      <td>3</td>\n      <td>344</td>\n      <td>0</td>\n      <td>1</td>\n      <td>345</td>\n    </tr>\n  </tbody>\n</table>\n</div>"
     },
     "execution_count": 27,
     "metadata": {},
     "output_type": "execute_result"
    }
   ],
   "source": [
    "import pandas as pd\n",
    "\n",
    "df = pd.DataFrame({'user_id':[1,2,3],'clicks': [123,322,344],'orders':[2,4,0]})\n",
    "\n",
    "def watcher(param):\n",
    "    ''' Мне только посмотреть'''\n",
    "    if param ==0:\n",
    "        return 1\n",
    "    else:\n",
    "        return 0\n",
    "\n",
    "def conversion(row):\n",
    "        return row['clicks'] +row['orders'] + row['watcher']\n",
    "\n",
    "\n",
    "# применть функцию к одному столбцу\n",
    "df['watcher'] = df['orders'].apply(watcher)\n",
    "# применть функцию к сроке Dataframe\n",
    "df['conversion'] = df.apply(conversion, axis=1)\n",
    "df"
   ],
   "metadata": {
    "collapsed": false,
    "pycharm": {
     "name": "#%%\n"
    }
   }
  },
  {
   "cell_type": "code",
   "execution_count": 29,
   "outputs": [],
   "source": [
    "def metriks(row):\n",
    "    \"\"\"Возвращает новый столбец в зависимости от значения user_id\"\"\"\n",
    "    user_id = row.user_id\n",
    "\n",
    "    return pd.Series({'col_{}'.format(user_id): 1})"
   ],
   "metadata": {
    "collapsed": false,
    "pycharm": {
     "name": "#%%\n"
    }
   }
  },
  {
   "cell_type": "code",
   "execution_count": 30,
   "outputs": [
    {
     "ename": "AttributeError",
     "evalue": "'Series' object has no attribute 'user_id'",
     "output_type": "error",
     "traceback": [
      "\u001B[1;31m---------------------------------------------------------------------------\u001B[0m",
      "\u001B[1;31mAttributeError\u001B[0m                            Traceback (most recent call last)",
      "\u001B[1;32m<ipython-input-30-a0d6b96f3415>\u001B[0m in \u001B[0;36m<module>\u001B[1;34m\u001B[0m\n\u001B[1;32m----> 1\u001B[1;33m \u001B[0mdf\u001B[0m \u001B[1;33m=\u001B[0m \u001B[0mdf\u001B[0m\u001B[1;33m.\u001B[0m\u001B[0mapply\u001B[0m\u001B[1;33m(\u001B[0m\u001B[0mmetriks\u001B[0m\u001B[1;33m,\u001B[0m \u001B[0maxis\u001B[0m\u001B[1;33m=\u001B[0m\u001B[1;36m1\u001B[0m\u001B[1;33m)\u001B[0m\u001B[1;33m\u001B[0m\u001B[1;33m\u001B[0m\u001B[0m\n\u001B[0m\u001B[0;32m      2\u001B[0m \u001B[0mdf\u001B[0m\u001B[1;33m\u001B[0m\u001B[1;33m\u001B[0m\u001B[0m\n\u001B[0;32m      3\u001B[0m \u001B[1;33m\u001B[0m\u001B[0m\n",
      "\u001B[1;32mc:\\python37\\lib\\site-packages\\pandas\\core\\frame.py\u001B[0m in \u001B[0;36mapply\u001B[1;34m(self, func, axis, raw, result_type, args, **kwds)\u001B[0m\n\u001B[0;32m   6876\u001B[0m             \u001B[0mkwds\u001B[0m\u001B[1;33m=\u001B[0m\u001B[0mkwds\u001B[0m\u001B[1;33m,\u001B[0m\u001B[1;33m\u001B[0m\u001B[1;33m\u001B[0m\u001B[0m\n\u001B[0;32m   6877\u001B[0m         )\n\u001B[1;32m-> 6878\u001B[1;33m         \u001B[1;32mreturn\u001B[0m \u001B[0mop\u001B[0m\u001B[1;33m.\u001B[0m\u001B[0mget_result\u001B[0m\u001B[1;33m(\u001B[0m\u001B[1;33m)\u001B[0m\u001B[1;33m\u001B[0m\u001B[1;33m\u001B[0m\u001B[0m\n\u001B[0m\u001B[0;32m   6879\u001B[0m \u001B[1;33m\u001B[0m\u001B[0m\n\u001B[0;32m   6880\u001B[0m     \u001B[1;32mdef\u001B[0m \u001B[0mapplymap\u001B[0m\u001B[1;33m(\u001B[0m\u001B[0mself\u001B[0m\u001B[1;33m,\u001B[0m \u001B[0mfunc\u001B[0m\u001B[1;33m)\u001B[0m \u001B[1;33m->\u001B[0m \u001B[1;34m\"DataFrame\"\u001B[0m\u001B[1;33m:\u001B[0m\u001B[1;33m\u001B[0m\u001B[1;33m\u001B[0m\u001B[0m\n",
      "\u001B[1;32mc:\\python37\\lib\\site-packages\\pandas\\core\\apply.py\u001B[0m in \u001B[0;36mget_result\u001B[1;34m(self)\u001B[0m\n\u001B[0;32m    184\u001B[0m             \u001B[1;32mreturn\u001B[0m \u001B[0mself\u001B[0m\u001B[1;33m.\u001B[0m\u001B[0mapply_raw\u001B[0m\u001B[1;33m(\u001B[0m\u001B[1;33m)\u001B[0m\u001B[1;33m\u001B[0m\u001B[1;33m\u001B[0m\u001B[0m\n\u001B[0;32m    185\u001B[0m \u001B[1;33m\u001B[0m\u001B[0m\n\u001B[1;32m--> 186\u001B[1;33m         \u001B[1;32mreturn\u001B[0m \u001B[0mself\u001B[0m\u001B[1;33m.\u001B[0m\u001B[0mapply_standard\u001B[0m\u001B[1;33m(\u001B[0m\u001B[1;33m)\u001B[0m\u001B[1;33m\u001B[0m\u001B[1;33m\u001B[0m\u001B[0m\n\u001B[0m\u001B[0;32m    187\u001B[0m \u001B[1;33m\u001B[0m\u001B[0m\n\u001B[0;32m    188\u001B[0m     \u001B[1;32mdef\u001B[0m \u001B[0mapply_empty_result\u001B[0m\u001B[1;33m(\u001B[0m\u001B[0mself\u001B[0m\u001B[1;33m)\u001B[0m\u001B[1;33m:\u001B[0m\u001B[1;33m\u001B[0m\u001B[1;33m\u001B[0m\u001B[0m\n",
      "\u001B[1;32mc:\\python37\\lib\\site-packages\\pandas\\core\\apply.py\u001B[0m in \u001B[0;36mapply_standard\u001B[1;34m(self)\u001B[0m\n\u001B[0;32m    294\u001B[0m             \u001B[1;32mtry\u001B[0m\u001B[1;33m:\u001B[0m\u001B[1;33m\u001B[0m\u001B[1;33m\u001B[0m\u001B[0m\n\u001B[0;32m    295\u001B[0m                 result = libreduction.compute_reduction(\n\u001B[1;32m--> 296\u001B[1;33m                     \u001B[0mvalues\u001B[0m\u001B[1;33m,\u001B[0m \u001B[0mself\u001B[0m\u001B[1;33m.\u001B[0m\u001B[0mf\u001B[0m\u001B[1;33m,\u001B[0m \u001B[0maxis\u001B[0m\u001B[1;33m=\u001B[0m\u001B[0mself\u001B[0m\u001B[1;33m.\u001B[0m\u001B[0maxis\u001B[0m\u001B[1;33m,\u001B[0m \u001B[0mdummy\u001B[0m\u001B[1;33m=\u001B[0m\u001B[0mdummy\u001B[0m\u001B[1;33m,\u001B[0m \u001B[0mlabels\u001B[0m\u001B[1;33m=\u001B[0m\u001B[0mlabels\u001B[0m\u001B[1;33m\u001B[0m\u001B[1;33m\u001B[0m\u001B[0m\n\u001B[0m\u001B[0;32m    297\u001B[0m                 )\n\u001B[0;32m    298\u001B[0m             \u001B[1;32mexcept\u001B[0m \u001B[0mValueError\u001B[0m \u001B[1;32mas\u001B[0m \u001B[0merr\u001B[0m\u001B[1;33m:\u001B[0m\u001B[1;33m\u001B[0m\u001B[1;33m\u001B[0m\u001B[0m\n",
      "\u001B[1;32mpandas\\_libs\\reduction.pyx\u001B[0m in \u001B[0;36mpandas._libs.reduction.compute_reduction\u001B[1;34m()\u001B[0m\n",
      "\u001B[1;32mpandas\\_libs\\reduction.pyx\u001B[0m in \u001B[0;36mpandas._libs.reduction.Reducer.get_result\u001B[1;34m()\u001B[0m\n",
      "\u001B[1;32m<ipython-input-29-2d7b66b5c8db>\u001B[0m in \u001B[0;36mmetriks\u001B[1;34m(row)\u001B[0m\n\u001B[0;32m      1\u001B[0m \u001B[1;32mdef\u001B[0m \u001B[0mmetriks\u001B[0m\u001B[1;33m(\u001B[0m\u001B[0mrow\u001B[0m\u001B[1;33m)\u001B[0m\u001B[1;33m:\u001B[0m\u001B[1;33m\u001B[0m\u001B[1;33m\u001B[0m\u001B[0m\n\u001B[0;32m      2\u001B[0m     \u001B[1;34m\"\"\"Возвращает новый столбец в зависимости от значения user_id\"\"\"\u001B[0m\u001B[1;33m\u001B[0m\u001B[1;33m\u001B[0m\u001B[0m\n\u001B[1;32m----> 3\u001B[1;33m     \u001B[0muser_id\u001B[0m \u001B[1;33m=\u001B[0m \u001B[0mrow\u001B[0m\u001B[1;33m.\u001B[0m\u001B[0muser_id\u001B[0m\u001B[1;33m\u001B[0m\u001B[1;33m\u001B[0m\u001B[0m\n\u001B[0m\u001B[0;32m      4\u001B[0m \u001B[1;33m\u001B[0m\u001B[0m\n\u001B[0;32m      5\u001B[0m     \u001B[1;32mreturn\u001B[0m \u001B[0mpd\u001B[0m\u001B[1;33m.\u001B[0m\u001B[0mSeries\u001B[0m\u001B[1;33m(\u001B[0m\u001B[1;33m{\u001B[0m\u001B[1;34m'col_{}'\u001B[0m\u001B[1;33m.\u001B[0m\u001B[0mformat\u001B[0m\u001B[1;33m(\u001B[0m\u001B[0muser_id\u001B[0m\u001B[1;33m)\u001B[0m\u001B[1;33m:\u001B[0m \u001B[1;36m1\u001B[0m\u001B[1;33m}\u001B[0m\u001B[1;33m)\u001B[0m\u001B[1;33m\u001B[0m\u001B[1;33m\u001B[0m\u001B[0m\n",
      "\u001B[1;32mc:\\python37\\lib\\site-packages\\pandas\\core\\generic.py\u001B[0m in \u001B[0;36m__getattr__\u001B[1;34m(self, name)\u001B[0m\n\u001B[0;32m   5272\u001B[0m             \u001B[1;32mif\u001B[0m \u001B[0mself\u001B[0m\u001B[1;33m.\u001B[0m\u001B[0m_info_axis\u001B[0m\u001B[1;33m.\u001B[0m\u001B[0m_can_hold_identifiers_and_holds_name\u001B[0m\u001B[1;33m(\u001B[0m\u001B[0mname\u001B[0m\u001B[1;33m)\u001B[0m\u001B[1;33m:\u001B[0m\u001B[1;33m\u001B[0m\u001B[1;33m\u001B[0m\u001B[0m\n\u001B[0;32m   5273\u001B[0m                 \u001B[1;32mreturn\u001B[0m \u001B[0mself\u001B[0m\u001B[1;33m[\u001B[0m\u001B[0mname\u001B[0m\u001B[1;33m]\u001B[0m\u001B[1;33m\u001B[0m\u001B[1;33m\u001B[0m\u001B[0m\n\u001B[1;32m-> 5274\u001B[1;33m             \u001B[1;32mreturn\u001B[0m \u001B[0mobject\u001B[0m\u001B[1;33m.\u001B[0m\u001B[0m__getattribute__\u001B[0m\u001B[1;33m(\u001B[0m\u001B[0mself\u001B[0m\u001B[1;33m,\u001B[0m \u001B[0mname\u001B[0m\u001B[1;33m)\u001B[0m\u001B[1;33m\u001B[0m\u001B[1;33m\u001B[0m\u001B[0m\n\u001B[0m\u001B[0;32m   5275\u001B[0m \u001B[1;33m\u001B[0m\u001B[0m\n\u001B[0;32m   5276\u001B[0m     \u001B[1;32mdef\u001B[0m \u001B[0m__setattr__\u001B[0m\u001B[1;33m(\u001B[0m\u001B[0mself\u001B[0m\u001B[1;33m,\u001B[0m \u001B[0mname\u001B[0m\u001B[1;33m:\u001B[0m \u001B[0mstr\u001B[0m\u001B[1;33m,\u001B[0m \u001B[0mvalue\u001B[0m\u001B[1;33m)\u001B[0m \u001B[1;33m->\u001B[0m \u001B[1;32mNone\u001B[0m\u001B[1;33m:\u001B[0m\u001B[1;33m\u001B[0m\u001B[1;33m\u001B[0m\u001B[0m\n",
      "\u001B[1;31mAttributeError\u001B[0m: 'Series' object has no attribute 'user_id'"
     ]
    }
   ],
   "source": [
    "df = df.apply(metriks, axis=1)\n",
    "df"
   ],
   "metadata": {
    "collapsed": false,
    "pycharm": {
     "name": "#%%\n"
    }
   }
  },
  {
   "cell_type": "markdown",
   "source": [
    "Анализ рекламных компаний\n"
   ],
   "metadata": {
    "collapsed": false
   }
  },
  {
   "cell_type": "code",
   "execution_count": 1,
   "outputs": [],
   "source": [
    "import pandas as pd"
   ],
   "metadata": {
    "collapsed": false,
    "pycharm": {
     "name": "#%%\n"
    }
   }
  },
  {
   "cell_type": "code",
   "execution_count": 7,
   "outputs": [
    {
     "data": {
      "text/plain": "               group                                             phrase  \\\n0  мрт менделеевская                              \"!мрт !менделеевская\"   \n1            мрт цао                                \"мрт менделеевская\"   \n2            мрт цао  мрт менделеевская -головы -позвоночника -сдела...   \n3            мрт цао                                        \"!мрт !цао\"   \n4            мрт сао                                          \"мрт цао\"   \n\n   effect       ad_id                          title  \\\n0     4.5  2101704995  МРТ на Менделеевской от 2000₽   \n1     4.5  2101704995  МРТ на Менделеевской от 2000₽   \n2     7.4  2101704995  МРТ на Менделеевской от 2000₽   \n3     5.0  2101704999   МРТ в ЦАО от 2000₽. Звоните!   \n4     5.0  2101704999   МРТ в ЦАО от 2000₽. Звоните!   \n\n                                                text  \\\n0  24 часа. МРТ в день обращения. Консультация вр...   \n1  24 часа. МРТ в день обращения. Консультация вр...   \n2  24 часа. МРТ в день обращения. Консультация вр...   \n3  24 часа. МРТ в день обращения. Консультация вр...   \n4  24 часа. МРТ в день обращения. Консультация вр...   \n\n                                                link  \n0  https://awesome-site.ru/?utm_source=yandex&utm...  \n1  https://awesome-site.ru/?utm_source=yandex&utm...  \n2  https://awesome-site.ru/?utm_source=yandex&utm...  \n3  https://awesome-site.ru/?utm_source=yandex&utm...  \n4  https://awesome-site.ru/?utm_source=yandex&utm...  ",
      "text/html": "<div>\n<style scoped>\n    .dataframe tbody tr th:only-of-type {\n        vertical-align: middle;\n    }\n\n    .dataframe tbody tr th {\n        vertical-align: top;\n    }\n\n    .dataframe thead th {\n        text-align: right;\n    }\n</style>\n<table border=\"1\" class=\"dataframe\">\n  <thead>\n    <tr style=\"text-align: right;\">\n      <th></th>\n      <th>group</th>\n      <th>phrase</th>\n      <th>effect</th>\n      <th>ad_id</th>\n      <th>title</th>\n      <th>text</th>\n      <th>link</th>\n    </tr>\n  </thead>\n  <tbody>\n    <tr>\n      <th>0</th>\n      <td>мрт менделеевская</td>\n      <td>\"!мрт !менделеевская\"</td>\n      <td>4.5</td>\n      <td>2101704995</td>\n      <td>МРТ на Менделеевской от 2000₽</td>\n      <td>24 часа. МРТ в день обращения. Консультация вр...</td>\n      <td>https://awesome-site.ru/?utm_source=yandex&amp;utm...</td>\n    </tr>\n    <tr>\n      <th>1</th>\n      <td>мрт цао</td>\n      <td>\"мрт менделеевская\"</td>\n      <td>4.5</td>\n      <td>2101704995</td>\n      <td>МРТ на Менделеевской от 2000₽</td>\n      <td>24 часа. МРТ в день обращения. Консультация вр...</td>\n      <td>https://awesome-site.ru/?utm_source=yandex&amp;utm...</td>\n    </tr>\n    <tr>\n      <th>2</th>\n      <td>мрт цао</td>\n      <td>мрт менделеевская -головы -позвоночника -сдела...</td>\n      <td>7.4</td>\n      <td>2101704995</td>\n      <td>МРТ на Менделеевской от 2000₽</td>\n      <td>24 часа. МРТ в день обращения. Консультация вр...</td>\n      <td>https://awesome-site.ru/?utm_source=yandex&amp;utm...</td>\n    </tr>\n    <tr>\n      <th>3</th>\n      <td>мрт цао</td>\n      <td>\"!мрт !цао\"</td>\n      <td>5.0</td>\n      <td>2101704999</td>\n      <td>МРТ в ЦАО от 2000₽. Звоните!</td>\n      <td>24 часа. МРТ в день обращения. Консультация вр...</td>\n      <td>https://awesome-site.ru/?utm_source=yandex&amp;utm...</td>\n    </tr>\n    <tr>\n      <th>4</th>\n      <td>мрт сао</td>\n      <td>\"мрт цао\"</td>\n      <td>5.0</td>\n      <td>2101704999</td>\n      <td>МРТ в ЦАО от 2000₽. Звоните!</td>\n      <td>24 часа. МРТ в день обращения. Консультация вр...</td>\n      <td>https://awesome-site.ru/?utm_source=yandex&amp;utm...</td>\n    </tr>\n  </tbody>\n</table>\n</div>"
     },
     "execution_count": 7,
     "metadata": {},
     "output_type": "execute_result"
    }
   ],
   "source": [
    "static = pd.read_excel(r'D:\\Фильмы\\Лекции школы\\[Нетология] Python для работы с данными (2020)\\13. Функции и работа с данными\\Python_13_functions_groupby\\ad_campaigns.xlsx')\n",
    "static.head()\n",
    "static.columns = ['group','phrase', 'effect','ad_id', 'title', 'text', 'link']\n",
    "static.head()"
   ],
   "metadata": {
    "collapsed": false,
    "pycharm": {
     "name": "#%%\n"
    }
   }
  },
  {
   "cell_type": "code",
   "execution_count": 12,
   "outputs": [
    {
     "data": {
      "text/plain": "                group              phrase  effect       ad_id  \\\n9  мрт в москве в сао  \"мрт в москве сао\"     6.5  2101705001   \n\n                         title  \\\n9  МРТ в Москве в САО от 2000₽   \n\n                                                text  \\\n9  24 часа. МРТ в день обращения. Консультация вр...   \n\n                                                link  \n9  https://awesome-site.ru/?utm_source=yandex&utm...  ",
      "text/html": "<div>\n<style scoped>\n    .dataframe tbody tr th:only-of-type {\n        vertical-align: middle;\n    }\n\n    .dataframe tbody tr th {\n        vertical-align: top;\n    }\n\n    .dataframe thead th {\n        text-align: right;\n    }\n</style>\n<table border=\"1\" class=\"dataframe\">\n  <thead>\n    <tr style=\"text-align: right;\">\n      <th></th>\n      <th>group</th>\n      <th>phrase</th>\n      <th>effect</th>\n      <th>ad_id</th>\n      <th>title</th>\n      <th>text</th>\n      <th>link</th>\n    </tr>\n  </thead>\n  <tbody>\n    <tr>\n      <th>9</th>\n      <td>мрт в москве в сао</td>\n      <td>\"мрт в москве сао\"</td>\n      <td>6.5</td>\n      <td>2101705001</td>\n      <td>МРТ в Москве в САО от 2000₽</td>\n      <td>24 часа. МРТ в день обращения. Консультация вр...</td>\n      <td>https://awesome-site.ru/?utm_source=yandex&amp;utm...</td>\n    </tr>\n  </tbody>\n</table>\n</div>"
     },
     "execution_count": 12,
     "metadata": {},
     "output_type": "execute_result"
    }
   ],
   "source": [
    "static[9:10]\n",
    "\n"
   ],
   "metadata": {
    "collapsed": false,
    "pycharm": {
     "name": "#%%\n"
    }
   }
  },
  {
   "cell_type": "code",
   "execution_count": 17,
   "outputs": [
    {
     "data": {
      "text/plain": "               group                                             phrase  \\\n0  мрт менделеевская                              \"!мрт !менделеевская\"   \n1            мрт цао                                \"мрт менделеевская\"   \n2            мрт цао  мрт менделеевская -головы -позвоночника -сдела...   \n3            мрт цао                                        \"!мрт !цао\"   \n4            мрт сао                                          \"мрт цао\"   \n\n   effect       ad_id                          title  \\\n0     4.5  2101704995  МРТ на Менделеевской от 2000₽   \n1     4.5  2101704995  МРТ на Менделеевской от 2000₽   \n2     7.4  2101704995  МРТ на Менделеевской от 2000₽   \n3     5.0  2101704999   МРТ в ЦАО от 2000₽. Звоните!   \n4     5.0  2101704999   МРТ в ЦАО от 2000₽. Звоните!   \n\n                                                text  \\\n0  24 часа. МРТ в день обращения. Консультация вр...   \n1  24 часа. МРТ в день обращения. Консультация вр...   \n2  24 часа. МРТ в день обращения. Консультация вр...   \n3  24 часа. МРТ в день обращения. Консультация вр...   \n4  24 часа. МРТ в день обращения. Консультация вр...   \n\n                                                link  \n0  https://awesome-site.ru/?utm_source=yandex&utm...  \n1  https://awesome-site.ru/?utm_source=yandex&utm...  \n2  https://awesome-site.ru/?utm_source=yandex&utm...  \n3  https://awesome-site.ru/?utm_source=yandex&utm...  \n4  https://awesome-site.ru/?utm_source=yandex&utm...  ",
      "text/html": "<div>\n<style scoped>\n    .dataframe tbody tr th:only-of-type {\n        vertical-align: middle;\n    }\n\n    .dataframe tbody tr th {\n        vertical-align: top;\n    }\n\n    .dataframe thead th {\n        text-align: right;\n    }\n</style>\n<table border=\"1\" class=\"dataframe\">\n  <thead>\n    <tr style=\"text-align: right;\">\n      <th></th>\n      <th>group</th>\n      <th>phrase</th>\n      <th>effect</th>\n      <th>ad_id</th>\n      <th>title</th>\n      <th>text</th>\n      <th>link</th>\n    </tr>\n  </thead>\n  <tbody>\n    <tr>\n      <th>0</th>\n      <td>мрт менделеевская</td>\n      <td>\"!мрт !менделеевская\"</td>\n      <td>4.5</td>\n      <td>2101704995</td>\n      <td>МРТ на Менделеевской от 2000₽</td>\n      <td>24 часа. МРТ в день обращения. Консультация вр...</td>\n      <td>https://awesome-site.ru/?utm_source=yandex&amp;utm...</td>\n    </tr>\n    <tr>\n      <th>1</th>\n      <td>мрт цао</td>\n      <td>\"мрт менделеевская\"</td>\n      <td>4.5</td>\n      <td>2101704995</td>\n      <td>МРТ на Менделеевской от 2000₽</td>\n      <td>24 часа. МРТ в день обращения. Консультация вр...</td>\n      <td>https://awesome-site.ru/?utm_source=yandex&amp;utm...</td>\n    </tr>\n    <tr>\n      <th>2</th>\n      <td>мрт цао</td>\n      <td>мрт менделеевская -головы -позвоночника -сдела...</td>\n      <td>7.4</td>\n      <td>2101704995</td>\n      <td>МРТ на Менделеевской от 2000₽</td>\n      <td>24 часа. МРТ в день обращения. Консультация вр...</td>\n      <td>https://awesome-site.ru/?utm_source=yandex&amp;utm...</td>\n    </tr>\n    <tr>\n      <th>3</th>\n      <td>мрт цао</td>\n      <td>\"!мрт !цао\"</td>\n      <td>5.0</td>\n      <td>2101704999</td>\n      <td>МРТ в ЦАО от 2000₽. Звоните!</td>\n      <td>24 часа. МРТ в день обращения. Консультация вр...</td>\n      <td>https://awesome-site.ru/?utm_source=yandex&amp;utm...</td>\n    </tr>\n    <tr>\n      <th>4</th>\n      <td>мрт сао</td>\n      <td>\"мрт цао\"</td>\n      <td>5.0</td>\n      <td>2101704999</td>\n      <td>МРТ в ЦАО от 2000₽. Звоните!</td>\n      <td>24 часа. МРТ в день обращения. Консультация вр...</td>\n      <td>https://awesome-site.ru/?utm_source=yandex&amp;utm...</td>\n    </tr>\n  </tbody>\n</table>\n</div>"
     },
     "execution_count": 17,
     "metadata": {},
     "output_type": "execute_result"
    }
   ],
   "source": [
    "df = static\n",
    "df.head()\n",
    "\n"
   ],
   "metadata": {
    "collapsed": false,
    "pycharm": {
     "name": "#%%\n"
    }
   }
  }
 ],
 "metadata": {
  "kernelspec": {
   "display_name": "Python 3",
   "language": "python",
   "name": "python3"
  },
  "language_info": {
   "codemirror_mode": {
    "name": "ipython",
    "version": 2
   },
   "file_extension": ".py",
   "mimetype": "text/x-python",
   "name": "python",
   "nbconvert_exporter": "python",
   "pygments_lexer": "ipython2",
   "version": "2.7.6"
  }
 },
 "nbformat": 4,
 "nbformat_minor": 0
}