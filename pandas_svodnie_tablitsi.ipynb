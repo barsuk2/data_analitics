{
 "cells": [
  {
   "cell_type": "code",
   "execution_count": null,
   "outputs": [],
   "source": [
    "import pandas as pd\n",
    "\n",
    "path = r'D:\\Фильмы\\Лекции школы\\[Нетология] Python для работы с данными (2020)\\14. Продвинутый pandas часть 1\\Python_14_pivot_and_str\\ml-latest-small'\n",
    "\n",
    "data = pd. read_csv(fr'{path}\\ratings.csv')\n",
    "data.head()"
   ],
   "metadata": {
    "collapsed": false,
    "pycharm": {
     "name": "#%%\n"
    }
   }
  },
  {
   "cell_type": "markdown",
   "source": [
    "## Какие оценки поставил пользователь 1"
   ],
   "metadata": {
    "collapsed": false,
    "pycharm": {
     "name": "#%% md\n"
    }
   }
  },
  {
   "cell_type": "code",
   "execution_count": null,
   "outputs": [],
   "source": [
    "# data[data['userId'] == 1].rating.unique()['userId']\n",
    "# data[['userId','rating']][data['userId'] == 1].rating.unique()['userId']\n",
    "data[data['userId'] == 1].rating.value_counts()"
   ],
   "metadata": {
    "collapsed": false,
    "pycharm": {
     "name": "#%%\n"
    }
   }
  },
  {
   "cell_type": "code",
   "execution_count": null,
   "outputs": [],
   "source": [
    "# userId\tmovieId\trating\ttimestamp\n",
    "data.pivot_table(index='userId',columns= 'rating',values = 'movieId',aggfunc='count', fill_value=0).head()"
   ],
   "metadata": {
    "collapsed": false,
    "pycharm": {
     "name": "#%%\n"
    }
   }
  },
  {
   "cell_type": "code",
   "execution_count": null,
   "outputs": [],
   "source": [
    "da = data.pivot_table(index = 'userId', columns = 'rating',\n",
    "                    values = 'timestamp', aggfunc = 'count', fill_value = 0, margins = True)\n",
    "da[5.0].sort_values(ascending=False).head()"
   ],
   "metadata": {
    "collapsed": false,
    "pycharm": {
     "name": "#%%\n"
    }
   }
  },
  {
   "cell_type": "markdown",
   "source": [
    "Какой пользователь поставил больше пятерок\n"
   ],
   "metadata": {
    "collapsed": false
   }
  },
  {
   "cell_type": "code",
   "execution_count": null,
   "outputs": [],
   "source": [
    "# data.groupby('userId').count().sort_values('movieId', ascending= False).head()\n",
    "\n",
    "data[['userId','rating']][data['rating'] == 5].groupby('userId').count()\\\n",
    "    .sort_values('rating', ascending= False)\n",
    "# [data['rating'] == 5]\n"
   ],
   "metadata": {
    "collapsed": false,
    "pycharm": {
     "name": "#%%\n"
    }
   }
  },
  {
   "cell_type": "code",
   "execution_count": null,
   "outputs": [],
   "source": [
    "da = data.pivot_table(index = 'userId', columns = 'rating',\n",
    "                    values = 'timestamp', aggfunc = 'count', fill_value = 0, margins = True)\n",
    "da[5.0].sort_values(ascending=False).head()\n",
    "da.sort_values(5,ascending=False).head()\n"
   ],
   "metadata": {
    "collapsed": false,
    "pycharm": {
     "name": "#%%\n"
    }
   }
  },
  {
   "cell_type": "markdown",
   "source": [
    "Методы фильтрации Loc и iloc\n"
   ],
   "metadata": {
    "collapsed": false
   }
  },
  {
   "cell_type": "code",
   "execution_count": null,
   "outputs": [],
   "source": [
    "path = r'D:\\Фильмы\\Лекции школы\\[Нетология] Python для работы с данными (2020)\\14. Продвинутый pandas часть 1\\Python_14_pivot_and_str'\n",
    "logs = pd. read_csv(fr'{path}\\visit_log.csv', sep=';')\n",
    "logs.head()"
   ],
   "metadata": {
    "collapsed": false,
    "pycharm": {
     "name": "#%%\n"
    }
   }
  },
  {
   "cell_type": "markdown",
   "source": [
    "Сколько различныйх страниц есть в столбце url/ Постройте топ -5 страниц по посещаемости"
   ],
   "metadata": {
    "collapsed": false
   }
  },
  {
   "cell_type": "code",
   "execution_count": null,
   "outputs": [],
   "source": [
    "len(logs.url.unique())"
   ],
   "metadata": {
    "collapsed": false,
    "pycharm": {
     "name": "#%%\n"
    }
   }
  },
  {
   "cell_type": "code",
   "execution_count": null,
   "outputs": [],
   "source": [
    "logs.url.nunique()"
   ],
   "metadata": {
    "collapsed": false,
    "pycharm": {
     "name": "#%%\n"
    }
   }
  },
  {
   "cell_type": "code",
   "execution_count": null,
   "outputs": [],
   "source": [
    "from urllib import parse\n",
    "logs['url_uniq'] = logs.url.apply(lambda x: parse.urlsplit(x)[2][1:])\n",
    "# logs[:2]\n",
    "logs[['url_uniq','url','visit_id']].\\\n",
    "    groupby('url_uniq').count().sort_values('visit_id', ascending= False).\\\n",
    "    reset_index().head(5)\n",
    "\n",
    "\t# user_id\ttraffic_source"
   ],
   "metadata": {
    "collapsed": false,
    "pycharm": {
     "name": "#%%\n"
    }
   }
  },
  {
   "cell_type": "code",
   "execution_count": null,
   "outputs": [],
   "source": [
    "logs.url.value_counts().head(5)\n",
    "\n"
   ],
   "metadata": {
    "collapsed": false,
    "pycharm": {
     "name": "#%%\n"
    }
   }
  },
  {
   "cell_type": "markdown",
   "source": [
    "Методы фильтрации Loc и iloc\n"
   ],
   "metadata": {
    "collapsed": false,
    "pycharm": {
     "name": "#%% md\n"
    }
   }
  },
  {
   "cell_type": "code",
   "execution_count": null,
   "outputs": [],
   "source": [
    "logs.loc[:3,['url_uniq', 'url']]\n"
   ],
   "metadata": {
    "collapsed": false,
    "pycharm": {
     "name": "#%%\n"
    }
   }
  },
  {
   "cell_type": "code",
   "execution_count": null,
   "outputs": [],
   "source": [
    "logs.iloc[:3,[-2,-1]]"
   ],
   "metadata": {
    "collapsed": false,
    "pycharm": {
     "name": "#%%\n"
    }
   }
  },
  {
   "cell_type": "code",
   "execution_count": null,
   "outputs": [],
   "source": [
    "logs.loc[logs.region == 'RUssia'.lower().capitalize()]"
   ],
   "metadata": {
    "collapsed": false,
    "pycharm": {
     "name": "#%%\n"
    }
   }
  },
  {
   "cell_type": "code",
   "execution_count": null,
   "outputs": [],
   "source": [
    "logs.loc[logs.region == 'RUssia'.lower().capitalize(), 'VAT'] = 1.2\n",
    "logs"
   ],
   "metadata": {
    "collapsed": false,
    "pycharm": {
     "name": "#%%\n"
    }
   }
  },
  {
   "cell_type": "code",
   "execution_count": null,
   "outputs": [],
   "source": [
    "logs.loc[lambda row: row.region == 'RUssia'.lower().capitalize()]\n"
   ],
   "metadata": {
    "collapsed": false,
    "pycharm": {
     "name": "#%%\n"
    }
   }
  },
  {
   "cell_type": "markdown",
   "source": [
    "Самостоятельная"
   ],
   "metadata": {
    "collapsed": false,
    "pycharm": {
     "name": "#%% md\n"
    }
   }
  },
  {
   "cell_type": "code",
   "execution_count": null,
   "outputs": [],
   "source": [
    "import pandas as pd\n",
    "\n",
    "path = r'D:\\Фильмы\\Лекции школы\\[Нетология] Python для работы с данными (2020)\\14. Продвинутый pandas часть 1\\Python_14_pivot_and_str\\ml-latest-small'\n",
    "\n",
    "data = pd. read_csv(fr'{path}\\ratings.csv')\n",
    "data.head()"
   ],
   "metadata": {
    "collapsed": false,
    "pycharm": {
     "name": "#%%\n"
    }
   }
  },
  {
   "cell_type": "code",
   "execution_count": null,
   "outputs": [],
   "source": [
    "# data.info()\n",
    "# data.describe()\n",
    "pivot_d = data.pivot_table( index='movieId', columns = 'rating',values = 'timestamp', aggfunc = 'count', margins=True )\n",
    "pivot_d"
   ],
   "metadata": {
    "collapsed": false,
    "pycharm": {
     "name": "#%%\n"
    }
   }
  },
  {
   "cell_type": "code",
   "execution_count": null,
   "outputs": [],
   "source": [
    "data.groupby('rating').count()\n"
   ],
   "metadata": {
    "collapsed": false,
    "pycharm": {
     "name": "#%%\n"
    }
   }
  },
  {
   "cell_type": "code",
   "execution_count": null,
   "outputs": [],
   "source": [
    "data.movieId.sort_values().tail(10)"
   ],
   "metadata": {
    "collapsed": false,
    "pycharm": {
     "name": "#%%\n"
    }
   }
  },
  {
   "cell_type": "code",
   "execution_count": null,
   "outputs": [],
   "source": [
    "movies = pd.read_csv(fr'{path}\\movies.csv')\n",
    "\n",
    "\n",
    "pivot_d1 = pivot_d.merge(movies, on='movieId', how='left')\n",
    "pivot_d1\n"
   ],
   "metadata": {
    "collapsed": false,
    "pycharm": {
     "name": "#%%\n"
    }
   }
  },
  {
   "cell_type": "code",
   "execution_count": 42,
   "outputs": [
    {
     "data": {
      "text/plain": "    timestamp    visit_id                                 url  region  \\\n0  1549980692  e3b0c44298  https://host.ru/3c19b4ef7371864fa3  Russia   \n1  1549980704  6e340b9cff  https://host.ru/c8d9213a31839f9a3a  Russia   \n2  1549980715  96a296d224  https://host.ru/b8b58337d272ee7b15  Russia   \n3  1549980725  709e80c884  https://host.ru/b8b58337d272ee7b15  Russia   \n4  1549980736  df3f619804  https://host.ru/b8b58337d272ee7b15  Russia   \n\n      user_id traffic_source  \n0  b1613cc09f         yandex  \n1  4c3ec14bee         direct  \n2  a8c40697fb         yandex  \n3  521ac1d6a0         yandex  \n4  d7323c571c         yandex  ",
      "text/html": "<div>\n<style scoped>\n    .dataframe tbody tr th:only-of-type {\n        vertical-align: middle;\n    }\n\n    .dataframe tbody tr th {\n        vertical-align: top;\n    }\n\n    .dataframe thead th {\n        text-align: right;\n    }\n</style>\n<table border=\"1\" class=\"dataframe\">\n  <thead>\n    <tr style=\"text-align: right;\">\n      <th></th>\n      <th>timestamp</th>\n      <th>visit_id</th>\n      <th>url</th>\n      <th>region</th>\n      <th>user_id</th>\n      <th>traffic_source</th>\n    </tr>\n  </thead>\n  <tbody>\n    <tr>\n      <th>0</th>\n      <td>1549980692</td>\n      <td>e3b0c44298</td>\n      <td>https://host.ru/3c19b4ef7371864fa3</td>\n      <td>Russia</td>\n      <td>b1613cc09f</td>\n      <td>yandex</td>\n    </tr>\n    <tr>\n      <th>1</th>\n      <td>1549980704</td>\n      <td>6e340b9cff</td>\n      <td>https://host.ru/c8d9213a31839f9a3a</td>\n      <td>Russia</td>\n      <td>4c3ec14bee</td>\n      <td>direct</td>\n    </tr>\n    <tr>\n      <th>2</th>\n      <td>1549980715</td>\n      <td>96a296d224</td>\n      <td>https://host.ru/b8b58337d272ee7b15</td>\n      <td>Russia</td>\n      <td>a8c40697fb</td>\n      <td>yandex</td>\n    </tr>\n    <tr>\n      <th>3</th>\n      <td>1549980725</td>\n      <td>709e80c884</td>\n      <td>https://host.ru/b8b58337d272ee7b15</td>\n      <td>Russia</td>\n      <td>521ac1d6a0</td>\n      <td>yandex</td>\n    </tr>\n    <tr>\n      <th>4</th>\n      <td>1549980736</td>\n      <td>df3f619804</td>\n      <td>https://host.ru/b8b58337d272ee7b15</td>\n      <td>Russia</td>\n      <td>d7323c571c</td>\n      <td>yandex</td>\n    </tr>\n  </tbody>\n</table>\n</div>"
     },
     "execution_count": 42,
     "metadata": {},
     "output_type": "execute_result"
    }
   ],
   "source": [
    "import pandas as pd\n",
    "\n",
    "path = r'D:\\Фильмы\\Лекции школы\\[Нетология] Python для работы с данными (2020)\\14. Продвинутый pandas часть 1\\Python_14_pivot_and_str'\n",
    "logs = pd. read_csv(fr'{path}\\visit_log.csv', sep=';')\n",
    "logs.head()\n"
   ],
   "metadata": {
    "collapsed": false,
    "pycharm": {
     "name": "#%%\n"
    }
   }
  },
  {
   "cell_type": "code",
   "execution_count": null,
   "outputs": [],
   "source": [
    "logs.loc[logs.region == 'Russia', 'RUS'] = 1\n",
    "logs.RUS"
   ],
   "metadata": {
    "collapsed": false,
    "pycharm": {
     "name": "#%%\n"
    }
   }
  },
  {
   "cell_type": "code",
   "execution_count": null,
   "outputs": [],
   "source": [
    "# logs.index.name = 'index'\n",
    "logs.loc[lambda x: x.region == 'Russia', ['timestamp','visit_id', 'region']]\n"
   ],
   "metadata": {
    "collapsed": false,
    "pycharm": {
     "name": "#%%\n"
    }
   }
  },
  {
   "cell_type": "code",
   "execution_count": 6,
   "outputs": [],
   "source": [
    "import pandas as pd\n",
    "path = r'D:\\Фильмы\\Лекции школы\\[Нетология] Python для работы с данными (2020)\\14. Продвинутый pandas часть 1\\Python_14_pivot_and_str\\ml-latest-small'\n",
    "movies = pd.read_csv(fr'{path}\\movies.csv')\n",
    "ratings = pd.read_csv(fr'{path}\\ratings.csv')\n",
    "joins = ratings.merge(movies ,  on = 'movieId').sort_values('movieId')"
   ],
   "metadata": {
    "collapsed": false,
    "pycharm": {
     "name": "#%%\n"
    }
   }
  },
  {
   "cell_type": "code",
   "execution_count": 7,
   "outputs": [
    {
     "name": "stdout",
     "output_type": "stream",
     "text": [
      "Wall time: 3.19 s\n"
     ]
    }
   ],
   "source": [
    "%%time\n",
    "joins['Adventure'] = joins.apply(lambda row:  row['rating'] if 'Adventure'.rstrip() in row.genres else None, axis=1)\n",
    "# joins"
   ],
   "metadata": {
    "collapsed": false,
    "pycharm": {
     "name": "#%%\n"
    }
   }
  },
  {
   "cell_type": "code",
   "execution_count": 8,
   "outputs": [
    {
     "name": "stdout",
     "output_type": "stream",
     "text": [
      "Wall time: 338 ms\n"
     ]
    }
   ],
   "source": [
    "%%time\n",
    "joins.loc[joins.genres.str.contains('Adventure'),'Adventure'] = joins.rating\n",
    "# joins"
   ],
   "metadata": {
    "collapsed": false,
    "pycharm": {
     "name": "#%%\n"
    }
   }
  },
  {
   "cell_type": "code",
   "execution_count": 45,
   "outputs": [],
   "source": [
    "import pandas as pd\n",
    "path = r'D:\\Фильмы\\Лекции школы\\[Нетология] Python для работы с данными (2020)\\14. Продвинутый pandas часть 1\\Python_14_pivot_and_str'\n",
    "logs = pd. read_csv(fr'{path}\\visit_log.csv', sep=';')\n",
    "# logs.head()"
   ],
   "metadata": {
    "collapsed": false,
    "pycharm": {
     "name": "#%%\n"
    }
   }
  },
  {
   "cell_type": "code",
   "execution_count": 47,
   "outputs": [
    {
     "name": "stdout",
     "output_type": "stream",
     "text": [
      "['yandex' 'direct' 'paid' 'email' 'google']\n",
      "Wall time: 42 ms\n"
     ]
    }
   ],
   "source": [
    "%%time\n",
    "# print(logs.head())\n",
    "print(logs.traffic_source.unique())\n",
    "\n",
    "logs.loc[logs.traffic_source.str.contains('yandex|google') ,'qweqwe'] = 'organic'\n",
    "# logs.loc[(logs.traffic_source == 'google') | (logs.traffic_source == 'yandex')]\n"
   ],
   "metadata": {
    "collapsed": false,
    "pycharm": {
     "name": "#%%\n"
    }
   }
  },
  {
   "cell_type": "code",
   "execution_count": 48,
   "outputs": [
    {
     "name": "stdout",
     "output_type": "stream",
     "text": [
      "Wall time: 99 ms\n"
     ]
    }
   ],
   "source": [
    "%%time\n",
    "logs = pd. read_csv(fr'{path}\\visit_log.csv', sep=';')\n",
    "for i in ('yandex','google'):\n",
    "   logs.loc[logs.traffic_source.str.contains(i) ,'qweqwe'] = 'organic'\n"
   ],
   "metadata": {
    "collapsed": false,
    "pycharm": {
     "name": "#%%\n"
    }
   }
  },
  {
   "cell_type": "code",
   "execution_count": 69,
   "outputs": [
    {
     "name": "stdout",
     "output_type": "stream",
     "text": [
      "Wall time: 50 ms\n"
     ]
    }
   ],
   "source": [
    "%%time\n",
    "logs = pd. read_csv(fr'{path}\\visit_log.csv', sep=';')\n",
    "logs.loc[logs.traffic_source.isin(['yandex','google']) ,'qweqwe'] = 'organic'\n",
    "\n"
   ],
   "metadata": {
    "collapsed": false,
    "pycharm": {
     "name": "#%%\n"
    }
   }
  },
  {
   "cell_type": "markdown",
   "source": [
    "Фильтрация пустых значений ISNULL ISNA"
   ],
   "metadata": {
    "collapsed": false,
    "pycharm": {
     "name": "#%% md\n"
    }
   }
  },
  {
   "cell_type": "code",
   "source": [
    "logs"
   ],
   "metadata": {
    "collapsed": false,
    "pycharm": {
     "name": "#%%\n"
    }
   },
   "execution_count": 70,
   "outputs": [
    {
     "data": {
      "text/plain": "        timestamp    visit_id                                 url   region  \\\n0      1549980692  e3b0c44298  https://host.ru/3c19b4ef7371864fa3   Russia   \n1      1549980704  6e340b9cff  https://host.ru/c8d9213a31839f9a3a   Russia   \n2      1549980715  96a296d224  https://host.ru/b8b58337d272ee7b15   Russia   \n3      1549980725  709e80c884  https://host.ru/b8b58337d272ee7b15   Russia   \n4      1549980736  df3f619804  https://host.ru/b8b58337d272ee7b15   Russia   \n...           ...         ...                                 ...      ...   \n18933  1550094288  57e5ba8560  https://host.ru/c2382eb3d6afc8d0f3  Belarus   \n18934  1550094296  6f9389ec1b  https://host.ru/f1eb4601740d627ab0   Russia   \n18935  1550094308  e8cf2eb8e6  https://host.ru/a5dda93e70318570c0  Belarus   \n18936  1550094314  79530b9a67  https://host.ru/6fda01ec57f23abc9e   Russia   \n18937  1550094323  b3b634f824  https://host.ru/39fa884393666d45fc   Russia   \n\n          user_id traffic_source   qweqwe  \n0      b1613cc09f         yandex  organic  \n1      4c3ec14bee         direct      NaN  \n2      a8c40697fb         yandex  organic  \n3      521ac1d6a0         yandex  organic  \n4      d7323c571c         yandex  organic  \n...           ...            ...      ...  \n18933  98b19810d0           paid      NaN  \n18934  32ebb20c13           paid      NaN  \n18935  b85baa8c73         yandex  organic  \n18936  e154b06121           paid      NaN  \n18937  7d27a58fb8          email      NaN  \n\n[18938 rows x 7 columns]",
      "text/html": "<div>\n<style scoped>\n    .dataframe tbody tr th:only-of-type {\n        vertical-align: middle;\n    }\n\n    .dataframe tbody tr th {\n        vertical-align: top;\n    }\n\n    .dataframe thead th {\n        text-align: right;\n    }\n</style>\n<table border=\"1\" class=\"dataframe\">\n  <thead>\n    <tr style=\"text-align: right;\">\n      <th></th>\n      <th>timestamp</th>\n      <th>visit_id</th>\n      <th>url</th>\n      <th>region</th>\n      <th>user_id</th>\n      <th>traffic_source</th>\n      <th>qweqwe</th>\n    </tr>\n  </thead>\n  <tbody>\n    <tr>\n      <th>0</th>\n      <td>1549980692</td>\n      <td>e3b0c44298</td>\n      <td>https://host.ru/3c19b4ef7371864fa3</td>\n      <td>Russia</td>\n      <td>b1613cc09f</td>\n      <td>yandex</td>\n      <td>organic</td>\n    </tr>\n    <tr>\n      <th>1</th>\n      <td>1549980704</td>\n      <td>6e340b9cff</td>\n      <td>https://host.ru/c8d9213a31839f9a3a</td>\n      <td>Russia</td>\n      <td>4c3ec14bee</td>\n      <td>direct</td>\n      <td>NaN</td>\n    </tr>\n    <tr>\n      <th>2</th>\n      <td>1549980715</td>\n      <td>96a296d224</td>\n      <td>https://host.ru/b8b58337d272ee7b15</td>\n      <td>Russia</td>\n      <td>a8c40697fb</td>\n      <td>yandex</td>\n      <td>organic</td>\n    </tr>\n    <tr>\n      <th>3</th>\n      <td>1549980725</td>\n      <td>709e80c884</td>\n      <td>https://host.ru/b8b58337d272ee7b15</td>\n      <td>Russia</td>\n      <td>521ac1d6a0</td>\n      <td>yandex</td>\n      <td>organic</td>\n    </tr>\n    <tr>\n      <th>4</th>\n      <td>1549980736</td>\n      <td>df3f619804</td>\n      <td>https://host.ru/b8b58337d272ee7b15</td>\n      <td>Russia</td>\n      <td>d7323c571c</td>\n      <td>yandex</td>\n      <td>organic</td>\n    </tr>\n    <tr>\n      <th>...</th>\n      <td>...</td>\n      <td>...</td>\n      <td>...</td>\n      <td>...</td>\n      <td>...</td>\n      <td>...</td>\n      <td>...</td>\n    </tr>\n    <tr>\n      <th>18933</th>\n      <td>1550094288</td>\n      <td>57e5ba8560</td>\n      <td>https://host.ru/c2382eb3d6afc8d0f3</td>\n      <td>Belarus</td>\n      <td>98b19810d0</td>\n      <td>paid</td>\n      <td>NaN</td>\n    </tr>\n    <tr>\n      <th>18934</th>\n      <td>1550094296</td>\n      <td>6f9389ec1b</td>\n      <td>https://host.ru/f1eb4601740d627ab0</td>\n      <td>Russia</td>\n      <td>32ebb20c13</td>\n      <td>paid</td>\n      <td>NaN</td>\n    </tr>\n    <tr>\n      <th>18935</th>\n      <td>1550094308</td>\n      <td>e8cf2eb8e6</td>\n      <td>https://host.ru/a5dda93e70318570c0</td>\n      <td>Belarus</td>\n      <td>b85baa8c73</td>\n      <td>yandex</td>\n      <td>organic</td>\n    </tr>\n    <tr>\n      <th>18936</th>\n      <td>1550094314</td>\n      <td>79530b9a67</td>\n      <td>https://host.ru/6fda01ec57f23abc9e</td>\n      <td>Russia</td>\n      <td>e154b06121</td>\n      <td>paid</td>\n      <td>NaN</td>\n    </tr>\n    <tr>\n      <th>18937</th>\n      <td>1550094323</td>\n      <td>b3b634f824</td>\n      <td>https://host.ru/39fa884393666d45fc</td>\n      <td>Russia</td>\n      <td>7d27a58fb8</td>\n      <td>email</td>\n      <td>NaN</td>\n    </tr>\n  </tbody>\n</table>\n<p>18938 rows × 7 columns</p>\n</div>"
     },
     "execution_count": 70,
     "metadata": {},
     "output_type": "execute_result"
    }
   ]
  },
  {
   "cell_type": "code",
   "execution_count": 58,
   "outputs": [
    {
     "data": {
      "text/plain": "        timestamp    visit_id                                 url     region  \\\n0      1549980692  e3b0c44298  https://host.ru/3c19b4ef7371864fa3     Russia   \n2      1549980715  96a296d224  https://host.ru/b8b58337d272ee7b15     Russia   \n3      1549980725  709e80c884  https://host.ru/b8b58337d272ee7b15     Russia   \n4      1549980736  df3f619804  https://host.ru/b8b58337d272ee7b15     Russia   \n5      1549980742  8855508aad  https://host.ru/df646c3676cc259fa0     Russia   \n...           ...         ...                                 ...        ...   \n18919  1550094214  6da87e20bd  https://host.ru/39fa884393666d45fc      China   \n18926  1550094236  098c3666b2  https://host.ru/b8b58337d272ee7b15    Ukraine   \n18928  1550094255  c7e4bce62a  https://host.ru/8880fd00cf23066541  Australia   \n18932  1550094280  5001544772  https://host.ru/9f90e5c423a5f976d4     Russia   \n18935  1550094308  e8cf2eb8e6  https://host.ru/a5dda93e70318570c0    Belarus   \n\n          user_id traffic_source   qweqwe  \n0      b1613cc09f         yandex  organic  \n2      a8c40697fb         yandex  organic  \n3      521ac1d6a0         yandex  organic  \n4      d7323c571c         yandex  organic  \n5      fc43898e47         yandex  organic  \n...           ...            ...      ...  \n18919  a8ba7ec720         yandex  organic  \n18926  1dfd030cba         google  organic  \n18928  e721d23ec6         yandex  organic  \n18932  072148e3ba         google  organic  \n18935  b85baa8c73         yandex  organic  \n\n[5407 rows x 7 columns]",
      "text/html": "<div>\n<style scoped>\n    .dataframe tbody tr th:only-of-type {\n        vertical-align: middle;\n    }\n\n    .dataframe tbody tr th {\n        vertical-align: top;\n    }\n\n    .dataframe thead th {\n        text-align: right;\n    }\n</style>\n<table border=\"1\" class=\"dataframe\">\n  <thead>\n    <tr style=\"text-align: right;\">\n      <th></th>\n      <th>timestamp</th>\n      <th>visit_id</th>\n      <th>url</th>\n      <th>region</th>\n      <th>user_id</th>\n      <th>traffic_source</th>\n      <th>qweqwe</th>\n    </tr>\n  </thead>\n  <tbody>\n    <tr>\n      <th>0</th>\n      <td>1549980692</td>\n      <td>e3b0c44298</td>\n      <td>https://host.ru/3c19b4ef7371864fa3</td>\n      <td>Russia</td>\n      <td>b1613cc09f</td>\n      <td>yandex</td>\n      <td>organic</td>\n    </tr>\n    <tr>\n      <th>2</th>\n      <td>1549980715</td>\n      <td>96a296d224</td>\n      <td>https://host.ru/b8b58337d272ee7b15</td>\n      <td>Russia</td>\n      <td>a8c40697fb</td>\n      <td>yandex</td>\n      <td>organic</td>\n    </tr>\n    <tr>\n      <th>3</th>\n      <td>1549980725</td>\n      <td>709e80c884</td>\n      <td>https://host.ru/b8b58337d272ee7b15</td>\n      <td>Russia</td>\n      <td>521ac1d6a0</td>\n      <td>yandex</td>\n      <td>organic</td>\n    </tr>\n    <tr>\n      <th>4</th>\n      <td>1549980736</td>\n      <td>df3f619804</td>\n      <td>https://host.ru/b8b58337d272ee7b15</td>\n      <td>Russia</td>\n      <td>d7323c571c</td>\n      <td>yandex</td>\n      <td>organic</td>\n    </tr>\n    <tr>\n      <th>5</th>\n      <td>1549980742</td>\n      <td>8855508aad</td>\n      <td>https://host.ru/df646c3676cc259fa0</td>\n      <td>Russia</td>\n      <td>fc43898e47</td>\n      <td>yandex</td>\n      <td>organic</td>\n    </tr>\n    <tr>\n      <th>...</th>\n      <td>...</td>\n      <td>...</td>\n      <td>...</td>\n      <td>...</td>\n      <td>...</td>\n      <td>...</td>\n      <td>...</td>\n    </tr>\n    <tr>\n      <th>18919</th>\n      <td>1550094214</td>\n      <td>6da87e20bd</td>\n      <td>https://host.ru/39fa884393666d45fc</td>\n      <td>China</td>\n      <td>a8ba7ec720</td>\n      <td>yandex</td>\n      <td>organic</td>\n    </tr>\n    <tr>\n      <th>18926</th>\n      <td>1550094236</td>\n      <td>098c3666b2</td>\n      <td>https://host.ru/b8b58337d272ee7b15</td>\n      <td>Ukraine</td>\n      <td>1dfd030cba</td>\n      <td>google</td>\n      <td>organic</td>\n    </tr>\n    <tr>\n      <th>18928</th>\n      <td>1550094255</td>\n      <td>c7e4bce62a</td>\n      <td>https://host.ru/8880fd00cf23066541</td>\n      <td>Australia</td>\n      <td>e721d23ec6</td>\n      <td>yandex</td>\n      <td>organic</td>\n    </tr>\n    <tr>\n      <th>18932</th>\n      <td>1550094280</td>\n      <td>5001544772</td>\n      <td>https://host.ru/9f90e5c423a5f976d4</td>\n      <td>Russia</td>\n      <td>072148e3ba</td>\n      <td>google</td>\n      <td>organic</td>\n    </tr>\n    <tr>\n      <th>18935</th>\n      <td>1550094308</td>\n      <td>e8cf2eb8e6</td>\n      <td>https://host.ru/a5dda93e70318570c0</td>\n      <td>Belarus</td>\n      <td>b85baa8c73</td>\n      <td>yandex</td>\n      <td>organic</td>\n    </tr>\n  </tbody>\n</table>\n<p>5407 rows × 7 columns</p>\n</div>"
     },
     "execution_count": 58,
     "metadata": {},
     "output_type": "execute_result"
    }
   ],
   "source": [
    "print(logs.loc[pd.isna(logs.qweqwe)])\n",
    "logs.loc[~pd.isna(logs.qweqwe)]"
   ],
   "metadata": {
    "collapsed": false,
    "pycharm": {
     "name": "#%%\n"
    }
   }
  },
  {
   "cell_type": "markdown",
   "source": [
    "Работа со временем"
   ],
   "metadata": {
    "collapsed": false
   }
  },
  {
   "cell_type": "code",
   "execution_count": 75,
   "outputs": [
    {
     "data": {
      "text/plain": "<bound method NDFrame.head of 0       2019-02-12 14:11:32\n1       2019-02-12 14:11:44\n2       2019-02-12 14:11:55\n3       2019-02-12 14:12:05\n4       2019-02-12 14:12:16\n                ...        \n18933   2019-02-13 21:44:48\n18934   2019-02-13 21:44:56\n18935   2019-02-13 21:45:08\n18936   2019-02-13 21:45:14\n18937   2019-02-13 21:45:23\nName: data, Length: 18938, dtype: datetime64[ns]>"
     },
     "execution_count": 75,
     "metadata": {},
     "output_type": "execute_result"
    }
   ],
   "source": [
    "logs['data'] = pd.to_datetime(logs['timestamp'], unit='s')\n",
    "logs.data.head\n"
   ],
   "metadata": {
    "collapsed": false,
    "pycharm": {
     "name": "#%%\n"
    }
   }
  },
  {
   "cell_type": "code",
   "execution_count": 79,
   "outputs": [
    {
     "name": "stdout",
     "output_type": "stream",
     "text": [
      "<class 'pandas.core.frame.DataFrame'>\n",
      "RangeIndex: 18938 entries, 0 to 18937\n",
      "Data columns (total 8 columns):\n",
      " #   Column          Non-Null Count  Dtype         \n",
      "---  ------          --------------  -----         \n",
      " 0   timestamp       18938 non-null  int64         \n",
      " 1   visit_id        18938 non-null  object        \n",
      " 2   url             18938 non-null  object        \n",
      " 3   region          18938 non-null  object        \n",
      " 4   user_id         18938 non-null  object        \n",
      " 5   traffic_source  18938 non-null  object        \n",
      " 6   qweqwe          5407 non-null   object        \n",
      " 7   data            18938 non-null  datetime64[ns]\n",
      "dtypes: datetime64[ns](1), int64(1), object(6)\n",
      "memory usage: 1.2+ MB\n"
     ]
    }
   ],
   "source": [
    "logs['data'] = pd.to_datetime(logs['timestamp'])\n",
    "logs.data.head\n",
    "logs['data'] = pd.to_datetime(logs['timestamp'], unit='s')\n",
    "logs.data.head\n",
    "logs.info()"
   ],
   "metadata": {
    "collapsed": false,
    "pycharm": {
     "name": "#%%\n"
    }
   }
  },
  {
   "cell_type": "markdown",
   "source": [
    "Работа со строками"
   ],
   "metadata": {
    "collapsed": false
   }
  },
  {
   "cell_type": "code",
   "source": [
    "logs.url.str."
   ],
   "metadata": {
    "collapsed": false,
    "pycharm": {
     "name": "#%%\n"
    }
   },
   "execution_count": 80,
   "outputs": [
    {
     "data": {
      "text/plain": "        timestamp    visit_id                                 url   region  \\\n0      1549980692  e3b0c44298  https://host.ru/3c19b4ef7371864fa3   Russia   \n1      1549980704  6e340b9cff  https://host.ru/c8d9213a31839f9a3a   Russia   \n2      1549980715  96a296d224  https://host.ru/b8b58337d272ee7b15   Russia   \n3      1549980725  709e80c884  https://host.ru/b8b58337d272ee7b15   Russia   \n4      1549980736  df3f619804  https://host.ru/b8b58337d272ee7b15   Russia   \n...           ...         ...                                 ...      ...   \n18933  1550094288  57e5ba8560  https://host.ru/c2382eb3d6afc8d0f3  Belarus   \n18934  1550094296  6f9389ec1b  https://host.ru/f1eb4601740d627ab0   Russia   \n18935  1550094308  e8cf2eb8e6  https://host.ru/a5dda93e70318570c0  Belarus   \n18936  1550094314  79530b9a67  https://host.ru/6fda01ec57f23abc9e   Russia   \n18937  1550094323  b3b634f824  https://host.ru/39fa884393666d45fc   Russia   \n\n          user_id traffic_source   qweqwe                data  \n0      b1613cc09f         yandex  organic 2019-02-12 14:11:32  \n1      4c3ec14bee         direct      NaN 2019-02-12 14:11:44  \n2      a8c40697fb         yandex  organic 2019-02-12 14:11:55  \n3      521ac1d6a0         yandex  organic 2019-02-12 14:12:05  \n4      d7323c571c         yandex  organic 2019-02-12 14:12:16  \n...           ...            ...      ...                 ...  \n18933  98b19810d0           paid      NaN 2019-02-13 21:44:48  \n18934  32ebb20c13           paid      NaN 2019-02-13 21:44:56  \n18935  b85baa8c73         yandex  organic 2019-02-13 21:45:08  \n18936  e154b06121           paid      NaN 2019-02-13 21:45:14  \n18937  7d27a58fb8          email      NaN 2019-02-13 21:45:23  \n\n[18938 rows x 8 columns]",
      "text/html": "<div>\n<style scoped>\n    .dataframe tbody tr th:only-of-type {\n        vertical-align: middle;\n    }\n\n    .dataframe tbody tr th {\n        vertical-align: top;\n    }\n\n    .dataframe thead th {\n        text-align: right;\n    }\n</style>\n<table border=\"1\" class=\"dataframe\">\n  <thead>\n    <tr style=\"text-align: right;\">\n      <th></th>\n      <th>timestamp</th>\n      <th>visit_id</th>\n      <th>url</th>\n      <th>region</th>\n      <th>user_id</th>\n      <th>traffic_source</th>\n      <th>qweqwe</th>\n      <th>data</th>\n    </tr>\n  </thead>\n  <tbody>\n    <tr>\n      <th>0</th>\n      <td>1549980692</td>\n      <td>e3b0c44298</td>\n      <td>https://host.ru/3c19b4ef7371864fa3</td>\n      <td>Russia</td>\n      <td>b1613cc09f</td>\n      <td>yandex</td>\n      <td>organic</td>\n      <td>2019-02-12 14:11:32</td>\n    </tr>\n    <tr>\n      <th>1</th>\n      <td>1549980704</td>\n      <td>6e340b9cff</td>\n      <td>https://host.ru/c8d9213a31839f9a3a</td>\n      <td>Russia</td>\n      <td>4c3ec14bee</td>\n      <td>direct</td>\n      <td>NaN</td>\n      <td>2019-02-12 14:11:44</td>\n    </tr>\n    <tr>\n      <th>2</th>\n      <td>1549980715</td>\n      <td>96a296d224</td>\n      <td>https://host.ru/b8b58337d272ee7b15</td>\n      <td>Russia</td>\n      <td>a8c40697fb</td>\n      <td>yandex</td>\n      <td>organic</td>\n      <td>2019-02-12 14:11:55</td>\n    </tr>\n    <tr>\n      <th>3</th>\n      <td>1549980725</td>\n      <td>709e80c884</td>\n      <td>https://host.ru/b8b58337d272ee7b15</td>\n      <td>Russia</td>\n      <td>521ac1d6a0</td>\n      <td>yandex</td>\n      <td>organic</td>\n      <td>2019-02-12 14:12:05</td>\n    </tr>\n    <tr>\n      <th>4</th>\n      <td>1549980736</td>\n      <td>df3f619804</td>\n      <td>https://host.ru/b8b58337d272ee7b15</td>\n      <td>Russia</td>\n      <td>d7323c571c</td>\n      <td>yandex</td>\n      <td>organic</td>\n      <td>2019-02-12 14:12:16</td>\n    </tr>\n    <tr>\n      <th>...</th>\n      <td>...</td>\n      <td>...</td>\n      <td>...</td>\n      <td>...</td>\n      <td>...</td>\n      <td>...</td>\n      <td>...</td>\n      <td>...</td>\n    </tr>\n    <tr>\n      <th>18933</th>\n      <td>1550094288</td>\n      <td>57e5ba8560</td>\n      <td>https://host.ru/c2382eb3d6afc8d0f3</td>\n      <td>Belarus</td>\n      <td>98b19810d0</td>\n      <td>paid</td>\n      <td>NaN</td>\n      <td>2019-02-13 21:44:48</td>\n    </tr>\n    <tr>\n      <th>18934</th>\n      <td>1550094296</td>\n      <td>6f9389ec1b</td>\n      <td>https://host.ru/f1eb4601740d627ab0</td>\n      <td>Russia</td>\n      <td>32ebb20c13</td>\n      <td>paid</td>\n      <td>NaN</td>\n      <td>2019-02-13 21:44:56</td>\n    </tr>\n    <tr>\n      <th>18935</th>\n      <td>1550094308</td>\n      <td>e8cf2eb8e6</td>\n      <td>https://host.ru/a5dda93e70318570c0</td>\n      <td>Belarus</td>\n      <td>b85baa8c73</td>\n      <td>yandex</td>\n      <td>organic</td>\n      <td>2019-02-13 21:45:08</td>\n    </tr>\n    <tr>\n      <th>18936</th>\n      <td>1550094314</td>\n      <td>79530b9a67</td>\n      <td>https://host.ru/6fda01ec57f23abc9e</td>\n      <td>Russia</td>\n      <td>e154b06121</td>\n      <td>paid</td>\n      <td>NaN</td>\n      <td>2019-02-13 21:45:14</td>\n    </tr>\n    <tr>\n      <th>18937</th>\n      <td>1550094323</td>\n      <td>b3b634f824</td>\n      <td>https://host.ru/39fa884393666d45fc</td>\n      <td>Russia</td>\n      <td>7d27a58fb8</td>\n      <td>email</td>\n      <td>NaN</td>\n      <td>2019-02-13 21:45:23</td>\n    </tr>\n  </tbody>\n</table>\n<p>18938 rows × 8 columns</p>\n</div>"
     },
     "execution_count": 80,
     "metadata": {},
     "output_type": "execute_result"
    }
   ]
  }
 ],
 "metadata": {
  "kernelspec": {
   "display_name": "Python 3",
   "language": "python",
   "name": "python3"
  },
  "language_info": {
   "codemirror_mode": {
    "name": "ipython",
    "version": 2
   },
   "file_extension": ".py",
   "mimetype": "text/x-python",
   "name": "python",
   "nbconvert_exporter": "python",
   "pygments_lexer": "ipython2",
   "version": "2.7.6"
  }
 },
 "nbformat": 4,
 "nbformat_minor": 0
}