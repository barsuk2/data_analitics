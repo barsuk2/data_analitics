{
 "cells": [
  {
   "cell_type": "markdown",
   "source": [
    "## Библиотека matplotlib"
   ],
   "metadata": {
    "collapsed": false
   }
  },
  {
   "cell_type": "code",
   "execution_count": 1,
   "outputs": [],
   "source": [
    "from pylab import rcParams\n",
    "rcParams['figure.figsize'] = 12,9\n",
    "import matplotlib.pyplot as plt\n",
    "import pandas as pd\n",
    "# plt.rc_context({'axes.edgecolor':'orange', 'xtick.color':'red', 'ytick.color':'green'})\n",
    "plt.rc_context({'xtick.color':'white', 'ytick.color':'white'})\n",
    "path = r'D:\\Фильмы\\Лекции школы\\[Нетология] Python для работы с данными (2020)\\16. Библиотека Matplotlib & Seaborn. Визуализация данных\\16 лекция. Визуализация данных\\names'"
   ],
   "metadata": {
    "collapsed": false,
    "pycharm": {
     "name": "#%%\n"
    }
   }
  },
  {
   "cell_type": "markdown",
   "source": [
    "### Модуль pyplot\n",
    "plt. plot(x,y) - построение линейного графика\n",
    "plt. scatter(x,y) - построение точечной диаграммы\n",
    "plt. bar(x,y) - построение столбчатой диаграммы\n",
    "plt. hist(x,y) - построение гистограммы\n",
    "plt. pie(x,y) - построение круговой диаграммы\n",
    "plt. boxplot(x,y) - построение boxplot диаграммы ( Ящик с усами)\n",
    "plt. show - отобразить визуализацию"
   ],
   "metadata": {
    "collapsed": false
   }
  },
  {
   "cell_type": "code",
   "execution_count": 2,
   "outputs": [
    {
     "data": {
      "text/plain": "[<matplotlib.lines.Line2D at 0x1175e0b8>]"
     },
     "execution_count": 2,
     "metadata": {},
     "output_type": "execute_result"
    },
    {
     "data": {
      "text/plain": "<Figure size 864x648 with 1 Axes>",
      "image/png": "[encoded data removed]"
     },
     "metadata": {
      "needs_background": "dark"
     },
     "output_type": "display_data"
    }
   ],
   "source": [
    "# d = pd.DataFrame(range(100))\n",
    "# d.plot()\n",
    "plt.plot([2,5,7,8,9,20,6,7,8,89])\n",
    "plt.plot([34,30,24,19,17,10,8])"
   ],
   "metadata": {
    "collapsed": false,
    "pycharm": {
     "name": "#%%\n"
    }
   }
  },
  {
   "cell_type": "code",
   "execution_count": 3,
   "outputs": [
    {
     "ename": "TypeError",
     "evalue": "bar() missing 1 required positional argument: 'height'",
     "output_type": "error",
     "traceback": [
      "\u001B[1;31m---------------------------------------------------------------------------\u001B[0m",
      "\u001B[1;31mTypeError\u001B[0m                                 Traceback (most recent call last)",
      "\u001B[1;32m<ipython-input-3-34a649d6744e>\u001B[0m in \u001B[0;36m<module>\u001B[1;34m\u001B[0m\n\u001B[0;32m      3\u001B[0m \u001B[0mtable\u001B[0m \u001B[1;33m=\u001B[0m \u001B[0mpd\u001B[0m\u001B[1;33m.\u001B[0m\u001B[0mread_csv\u001B[0m\u001B[1;33m(\u001B[0m\u001B[1;34mrf'{path}\\yob1880.txt'\u001B[0m\u001B[1;33m,\u001B[0m \u001B[0mnames\u001B[0m\u001B[1;33m=\u001B[0m\u001B[1;33m[\u001B[0m\u001B[1;34m'name'\u001B[0m\u001B[1;33m,\u001B[0m \u001B[1;34m'gender'\u001B[0m\u001B[1;33m,\u001B[0m \u001B[1;34m'count'\u001B[0m\u001B[1;33m]\u001B[0m\u001B[1;33m)\u001B[0m\u001B[1;33m\u001B[0m\u001B[1;33m\u001B[0m\u001B[0m\n\u001B[0;32m      4\u001B[0m \u001B[0mvis\u001B[0m \u001B[1;33m=\u001B[0m \u001B[0mtable\u001B[0m\u001B[1;33m.\u001B[0m\u001B[0mloc\u001B[0m\u001B[1;33m[\u001B[0m\u001B[0mtable\u001B[0m\u001B[1;33m[\u001B[0m\u001B[1;34m'gender'\u001B[0m\u001B[1;33m]\u001B[0m \u001B[1;33m==\u001B[0m \u001B[1;34m'F'\u001B[0m\u001B[1;33m]\u001B[0m\u001B[1;33m.\u001B[0m\u001B[0mhead\u001B[0m\u001B[1;33m(\u001B[0m\u001B[1;36m15\u001B[0m\u001B[1;33m)\u001B[0m\u001B[1;33m\u001B[0m\u001B[1;33m\u001B[0m\u001B[0m\n\u001B[1;32m----> 5\u001B[1;33m \u001B[0mplt\u001B[0m\u001B[1;33m.\u001B[0m\u001B[0mbar\u001B[0m\u001B[1;33m(\u001B[0m\u001B[0mvis\u001B[0m\u001B[1;33m.\u001B[0m\u001B[0mname\u001B[0m\u001B[1;33m)\u001B[0m\u001B[1;33m\u001B[0m\u001B[1;33m\u001B[0m\u001B[0m\n\u001B[0m\u001B[0;32m      6\u001B[0m \u001B[1;33m\u001B[0m\u001B[0m\n\u001B[0;32m      7\u001B[0m \u001B[1;33m\u001B[0m\u001B[0m\n",
      "\u001B[1;31mTypeError\u001B[0m: bar() missing 1 required positional argument: 'height'"
     ]
    }
   ],
   "source": [
    "path = r'D:\\Фильмы\\Лекции школы\\[Нетология] Python для работы с данными (2020)\\16. Библиотека Matplotlib & Seaborn. Визуализация данных\\16 лекция. Визуализация данных\\names'\n",
    "\n",
    "table = pd.read_csv(rf'{path}\\yob1880.txt', names=['name', 'gender', 'count'])\n",
    "vis = table.loc[table['gender'] == 'F'].head(15)\n",
    "plt.bar\n",
    "\n"
   ],
   "metadata": {
    "collapsed": false,
    "pycharm": {
     "name": "#%%\n"
    }
   }
  },
  {
   "cell_type": "code",
   "execution_count": null,
   "outputs": [],
   "source": [
    "table = pd.read_csv(rf'{path}\\yob2017.txt', names=['name', 'gender', 'count'])\n",
    "vis = table.loc[table['gender'] == 'F'].head(15)\n",
    "plt.barh(vis['name'],vis['count'])\n",
    "plt.xlabel('quantity')\n",
    "plt.grid()\n"
   ],
   "metadata": {
    "collapsed": false,
    "pycharm": {
     "name": "#%%\n"
    }
   }
  },
  {
   "cell_type": "markdown",
   "source": [
    "Построим линейчатый график раседеления колличества имен в разрезе пола (количество мальчикив и девочек) с 1880 по 2017\n"
   ],
   "metadata": {
    "collapsed": false,
    "pycharm": {
     "name": "#%% md\n"
    }
   }
  },
  {
   "cell_type": "code",
   "execution_count": 4,
   "outputs": [],
   "source": [
    "name_by_yaar = {}\n",
    "for year in range(1880, 2018):\n",
    "    name_by_yaar[year] = pd.read_csv(rf'{path}\\yob{year}.txt', names=['name', 'gender', 'count'])"
   ],
   "metadata": {
    "collapsed": false,
    "pycharm": {
     "name": "#%%\n"
    }
   }
  },
  {
   "cell_type": "code",
   "execution_count": null,
   "outputs": [],
   "source": [
    "# name_by_yaar[1881]\n",
    "name_all = pd.concat(name_by_yaar)\n",
    "name_all.info()\n",
    "name_all = pd.concat(name_by_yaar)\n",
    "name_all.reset_index(level=1, drop=True)\n",
    "name_all.info()\n",
    "name_all"
   ],
   "metadata": {
    "collapsed": false,
    "pycharm": {
     "name": "#%%\n"
    }
   }
  },
  {
   "cell_type": "code",
   "execution_count": null,
   "outputs": [],
   "source": [
    "gender_dynamics = name_all.groupby([name_all.index, 'gender']).sum()\n",
    "gender_dynamics.unstack('gender').plot()\n",
    "\n"
   ],
   "metadata": {
    "collapsed": false,
    "pycharm": {
     "name": "#%%\n"
    }
   }
  },
  {
   "cell_type": "code",
   "execution_count": null,
   "outputs": [],
   "source": [
    "names={'name': [1,2], 'gender': [2,3], 'count': [3,4]}\n",
    "names_w = pd.DataFrame(names)\n",
    "names_w"
   ],
   "metadata": {
    "collapsed": false,
    "pycharm": {
     "name": "#%%\n"
    }
   }
  },
  {
   "cell_type": "code",
   "execution_count": null,
   "outputs": [],
   "source": [
    "names1={'name': [3,4], 'gender': [5,6], 'count': [7,8]}\n",
    "names_w1 = pd.DataFrame(names1)\n",
    "names_w1"
   ],
   "metadata": {
    "collapsed": false,
    "pycharm": {
     "name": "#%%\n"
    }
   }
  },
  {
   "cell_type": "code",
   "execution_count": null,
   "outputs": [],
   "source": [
    "dict_ = {1980:names_w, 1981: names_w1}\n",
    "dict_"
   ],
   "metadata": {
    "collapsed": false,
    "pycharm": {
     "name": "#%%\n"
    }
   }
  },
  {
   "cell_type": "code",
   "execution_count": null,
   "outputs": [],
   "source": [
    "names_w12 = pd.concat(dict_).reset_index(level=1, drop=True)\n",
    "print(names_w12)\n",
    "names_w12.info()"
   ],
   "metadata": {
    "collapsed": false,
    "pycharm": {
     "name": "#%%\n"
    }
   }
  },
  {
   "cell_type": "code",
   "execution_count": null,
   "outputs": [],
   "source": [
    "\n"
   ],
   "metadata": {
    "collapsed": false,
    "pycharm": {
     "name": "#%%\n"
    }
   }
  }
 ],
 "metadata": {
  "kernelspec": {
   "display_name": "Python 3",
   "language": "python",
   "name": "python3"
  },
  "language_info": {
   "codemirror_mode": {
    "name": "ipython",
    "version": 2
   },
   "file_extension": ".py",
   "mimetype": "text/x-python",
   "name": "python",
   "nbconvert_exporter": "python",
   "pygments_lexer": "ipython2",
   "version": "2.7.6"
  }
 },
 "nbformat": 4,
 "nbformat_minor": 0
}