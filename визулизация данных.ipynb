{
 "cells": [
  {
   "cell_type": "markdown",
   "source": [
    "## Библиотека matplotlib"
   ],
   "metadata": {
    "collapsed": false
   }
  },
  {
   "cell_type": "code",
   "execution_count": 3,
   "outputs": [],
   "source": [
    "from pylab import rcParams\n",
    "rcParams['figure.figsize'] = 12,9\n",
    "import matplotlib.pyplot as plt\n",
    "import pandas as pd\n",
    "# plt.rc_context({'axes.edgecolor':'orange', 'xtick.color':'red', 'ytick.color':'green'})\n",
    "plt.rc_context({'xtick.color':'white', 'ytick.color':'white'})\n",
    "path = r'D:\\Фильмы\\Лекции школы\\[Нетология] Python для работы с данными (2020)\\16. Библиотека Matplotlib & Seaborn. Визуализация данных\\16 лекция. Визуализация данных\\names'"
   ],
   "metadata": {
    "collapsed": false,
    "pycharm": {
     "name": "#%%\n"
    }
   }
  },
  {
   "cell_type": "markdown",
   "source": [
    "### Модуль pyplot\n",
    "plt. plot(x,y) - построение линейного графика\n",
    "plt. scatter(x,y) - построение точечной диаграммы\n",
    "plt. bar(x,y) - построение столбчатой диаграммы\n",
    "plt. hist(x,y) - построение гистограммы\n",
    "plt. pie(x,y) - построение круговой диаграммы\n",
    "plt. boxplot(x,y) - построение boxplot диаграммы ( Ящик с усами)\n",
    "plt. show - отобразить визуализацию"
   ],
   "metadata": {
    "collapsed": false
   }
  },
  {
   "cell_type": "code",
   "execution_count": null,
   "outputs": [],
   "source": [
    "# d = pd.DataFrame(range(100))\n",
    "# d.plot()\n",
    "plt.plot([2,5,7,8,9,20,6,7,8,89])\n",
    "plt.plot([34,30,24,19,17,10,8])"
   ],
   "metadata": {
    "collapsed": false,
    "pycharm": {
     "name": "#%%\n"
    }
   }
  },
  {
   "cell_type": "code",
   "execution_count": null,
   "outputs": [],
   "source": [
    "path = r'D:\\Фильмы\\Лекции школы\\[Нетология] Python для работы с данными (2020)\\16. Библиотека Matplotlib & Seaborn. Визуализация данных\\16 лекция. Визуализация данных\\names'\n",
    "\n",
    "table = pd.read_csv(rf'{path}\\yob1880.txt', names=['name', 'gender', 'count'])\n",
    "vis = table.loc[table['gender'] == 'F'].head(15)\n",
    "plt.bar(vis.name)\n",
    "\n",
    "\n"
   ],
   "metadata": {
    "collapsed": false,
    "pycharm": {
     "name": "#%%\n"
    }
   }
  },
  {
   "cell_type": "code",
   "execution_count": null,
   "outputs": [],
   "source": [
    "table = pd.read_csv(rf'{path}\\yob2017.txt', names=['name', 'gender', 'count'])\n",
    "vis = table.loc[table['gender'] == 'F'].head(15)\n",
    "plt.barh(vis['name'],vis['count'])\n",
    "plt.xlabel('quantity')\n",
    "plt.grid()\n"
   ],
   "metadata": {
    "collapsed": false,
    "pycharm": {
     "name": "#%%\n"
    }
   }
  },
  {
   "cell_type": "markdown",
   "source": [
    "Построим линейчатый график раседеления колличества имен в разрезе пола (количество мальчикив и девочек) с 1880 по 2017\n"
   ],
   "metadata": {
    "collapsed": false,
    "pycharm": {
     "name": "#%% md\n"
    }
   }
  },
  {
   "cell_type": "code",
   "execution_count": 4,
   "outputs": [],
   "source": [
    "name_by_yaar = {}\n",
    "for year in range(1880, 2018):\n",
    "    name_by_yaar[year] = pd.read_csv(rf'{path}\\yob{year}.txt', names=['name', 'gender', 'count'])"
   ],
   "metadata": {
    "collapsed": false,
    "pycharm": {
     "name": "#%%\n"
    }
   }
  },
  {
   "cell_type": "code",
   "execution_count": 16,
   "outputs": [
    {
     "name": "stdout",
     "output_type": "stream",
     "text": [
      "<class 'pandas.core.frame.DataFrame'>\n",
      "MultiIndex: 1924665 entries, (1880, 0) to (2017, 32468)\n",
      "Data columns (total 3 columns):\n",
      " #   Column  Dtype \n",
      "---  ------  ----- \n",
      " 0   name    object\n",
      " 1   gender  object\n",
      " 2   count   int64 \n",
      "dtypes: int64(1), object(2)\n",
      "memory usage: 55.3+ MB\n",
      "<class 'pandas.core.frame.DataFrame'>\n",
      "MultiIndex: 1924665 entries, (1880, 0) to (2017, 32468)\n",
      "Data columns (total 3 columns):\n",
      " #   Column  Dtype \n",
      "---  ------  ----- \n",
      " 0   name    object\n",
      " 1   gender  object\n",
      " 2   count   int64 \n",
      "dtypes: int64(1), object(2)\n",
      "memory usage: 55.3+ MB\n"
     ]
    },
    {
     "data": {
      "text/plain": "                 name gender  count\n1880 0           Mary      F   7065\n     1           Anna      F   2604\n     2           Emma      F   2003\n     3      Elizabeth      F   1939\n     4         Minnie      F   1746\n...               ...    ...    ...\n2017 32464      Zykai      M      5\n     32465     Zykeem      M      5\n     32466      Zylin      M      5\n     32467      Zylis      M      5\n     32468      Zyrie      M      5\n\n[1924665 rows x 3 columns]",
      "text/html": "<div>\n<style scoped>\n    .dataframe tbody tr th:only-of-type {\n        vertical-align: middle;\n    }\n\n    .dataframe tbody tr th {\n        vertical-align: top;\n    }\n\n    .dataframe thead th {\n        text-align: right;\n    }\n</style>\n<table border=\"1\" class=\"dataframe\">\n  <thead>\n    <tr style=\"text-align: right;\">\n      <th></th>\n      <th></th>\n      <th>name</th>\n      <th>gender</th>\n      <th>count</th>\n    </tr>\n  </thead>\n  <tbody>\n    <tr>\n      <th rowspan=\"5\" valign=\"top\">1880</th>\n      <th>0</th>\n      <td>Mary</td>\n      <td>F</td>\n      <td>7065</td>\n    </tr>\n    <tr>\n      <th>1</th>\n      <td>Anna</td>\n      <td>F</td>\n      <td>2604</td>\n    </tr>\n    <tr>\n      <th>2</th>\n      <td>Emma</td>\n      <td>F</td>\n      <td>2003</td>\n    </tr>\n    <tr>\n      <th>3</th>\n      <td>Elizabeth</td>\n      <td>F</td>\n      <td>1939</td>\n    </tr>\n    <tr>\n      <th>4</th>\n      <td>Minnie</td>\n      <td>F</td>\n      <td>1746</td>\n    </tr>\n    <tr>\n      <th>...</th>\n      <th>...</th>\n      <td>...</td>\n      <td>...</td>\n      <td>...</td>\n    </tr>\n    <tr>\n      <th rowspan=\"5\" valign=\"top\">2017</th>\n      <th>32464</th>\n      <td>Zykai</td>\n      <td>M</td>\n      <td>5</td>\n    </tr>\n    <tr>\n      <th>32465</th>\n      <td>Zykeem</td>\n      <td>M</td>\n      <td>5</td>\n    </tr>\n    <tr>\n      <th>32466</th>\n      <td>Zylin</td>\n      <td>M</td>\n      <td>5</td>\n    </tr>\n    <tr>\n      <th>32467</th>\n      <td>Zylis</td>\n      <td>M</td>\n      <td>5</td>\n    </tr>\n    <tr>\n      <th>32468</th>\n      <td>Zyrie</td>\n      <td>M</td>\n      <td>5</td>\n    </tr>\n  </tbody>\n</table>\n<p>1924665 rows × 3 columns</p>\n</div>"
     },
     "execution_count": 16,
     "metadata": {},
     "output_type": "execute_result"
    }
   ],
   "source": [
    "# name_by_yaar[1881]\n",
    "name_all = pd.concat(name_by_yaar)\n",
    "name_all.info()\n",
    "name_all = pd.concat(name_by_yaar)\n",
    "name_all.reset_index(level=1, drop=True)\n",
    "name_all.info()\n",
    "name_all"
   ],
   "metadata": {
    "collapsed": false,
    "pycharm": {
     "name": "#%%\n"
    }
   }
  },
  {
   "cell_type": "code",
   "execution_count": null,
   "outputs": [],
   "source": [
    "gender_dynamics = name_all.groupby([name_all.index, 'gender']).sum()\n",
    "gender_dynamics.unstack('gender').plot()\n",
    "\n"
   ],
   "metadata": {
    "collapsed": false,
    "pycharm": {
     "name": "#%%\n"
    }
   }
  },
  {
   "cell_type": "code",
   "execution_count": 10,
   "outputs": [
    {
     "data": {
      "text/plain": "   name  gender  count\n0     1       2      3\n1     2       3      4",
      "text/html": "<div>\n<style scoped>\n    .dataframe tbody tr th:only-of-type {\n        vertical-align: middle;\n    }\n\n    .dataframe tbody tr th {\n        vertical-align: top;\n    }\n\n    .dataframe thead th {\n        text-align: right;\n    }\n</style>\n<table border=\"1\" class=\"dataframe\">\n  <thead>\n    <tr style=\"text-align: right;\">\n      <th></th>\n      <th>name</th>\n      <th>gender</th>\n      <th>count</th>\n    </tr>\n  </thead>\n  <tbody>\n    <tr>\n      <th>0</th>\n      <td>1</td>\n      <td>2</td>\n      <td>3</td>\n    </tr>\n    <tr>\n      <th>1</th>\n      <td>2</td>\n      <td>3</td>\n      <td>4</td>\n    </tr>\n  </tbody>\n</table>\n</div>"
     },
     "execution_count": 10,
     "metadata": {},
     "output_type": "execute_result"
    }
   ],
   "source": [
    "names={'name': [1,2], 'gender': [2,3], 'count': [3,4]}\n",
    "names_w = pd.DataFrame(names)\n",
    "names_w"
   ],
   "metadata": {
    "collapsed": false,
    "pycharm": {
     "name": "#%%\n"
    }
   }
  },
  {
   "cell_type": "code",
   "execution_count": 11,
   "outputs": [
    {
     "data": {
      "text/plain": "   name  gender  count\n0     3       5      7\n1     4       6      8",
      "text/html": "<div>\n<style scoped>\n    .dataframe tbody tr th:only-of-type {\n        vertical-align: middle;\n    }\n\n    .dataframe tbody tr th {\n        vertical-align: top;\n    }\n\n    .dataframe thead th {\n        text-align: right;\n    }\n</style>\n<table border=\"1\" class=\"dataframe\">\n  <thead>\n    <tr style=\"text-align: right;\">\n      <th></th>\n      <th>name</th>\n      <th>gender</th>\n      <th>count</th>\n    </tr>\n  </thead>\n  <tbody>\n    <tr>\n      <th>0</th>\n      <td>3</td>\n      <td>5</td>\n      <td>7</td>\n    </tr>\n    <tr>\n      <th>1</th>\n      <td>4</td>\n      <td>6</td>\n      <td>8</td>\n    </tr>\n  </tbody>\n</table>\n</div>"
     },
     "execution_count": 11,
     "metadata": {},
     "output_type": "execute_result"
    }
   ],
   "source": [
    "names1={'name': [3,4], 'gender': [5,6], 'count': [7,8]}\n",
    "names_w1 = pd.DataFrame(names1)\n",
    "names_w1"
   ],
   "metadata": {
    "collapsed": false,
    "pycharm": {
     "name": "#%%\n"
    }
   }
  },
  {
   "cell_type": "code",
   "execution_count": 12,
   "outputs": [
    {
     "data": {
      "text/plain": "{1980:    name  gender  count\n 0     1       2      3\n 1     2       3      4,\n 1981:    name  gender  count\n 0     3       5      7\n 1     4       6      8}"
     },
     "execution_count": 12,
     "metadata": {},
     "output_type": "execute_result"
    }
   ],
   "source": [
    "dict_ = {1980:names_w, 1981: names_w1}\n",
    "dict_"
   ],
   "metadata": {
    "collapsed": false,
    "pycharm": {
     "name": "#%%\n"
    }
   }
  },
  {
   "cell_type": "code",
   "execution_count": 20,
   "outputs": [
    {
     "name": "stdout",
     "output_type": "stream",
     "text": [
      "      name  gender  count\n",
      "1980     1       2      3\n",
      "1980     2       3      4\n",
      "1981     3       5      7\n",
      "1981     4       6      8\n",
      "<class 'pandas.core.frame.DataFrame'>\n",
      "Int64Index: 4 entries, 1980 to 1981\n",
      "Data columns (total 3 columns):\n",
      " #   Column  Non-Null Count  Dtype\n",
      "---  ------  --------------  -----\n",
      " 0   name    4 non-null      int64\n",
      " 1   gender  4 non-null      int64\n",
      " 2   count   4 non-null      int64\n",
      "dtypes: int64(3)\n",
      "memory usage: 128.0 bytes\n"
     ]
    }
   ],
   "source": [
    "names_w12 = pd.concat(dict_).reset_index(level=1, drop=True)\n",
    "print(names_w12)\n",
    "names_w12.info()"
   ],
   "metadata": {
    "collapsed": false,
    "pycharm": {
     "name": "#%%\n"
    }
   }
  },
  {
   "cell_type": "code",
   "execution_count": null,
   "outputs": [],
   "source": [
    "\n"
   ],
   "metadata": {
    "collapsed": false,
    "pycharm": {
     "name": "#%%\n"
    }
   }
  }
 ],
 "metadata": {
  "kernelspec": {
   "display_name": "Python 3",
   "language": "python",
   "name": "python3"
  },
  "language_info": {
   "codemirror_mode": {
    "name": "ipython",
    "version": 2
   },
   "file_extension": ".py",
   "mimetype": "text/x-python",
   "name": "python",
   "nbconvert_exporter": "python",
   "pygments_lexer": "ipython2",
   "version": "2.7.6"
  }
 },
 "nbformat": 4,
 "nbformat_minor": 0
}