{
 "cells": [
  {
   "cell_type": "code",
   "execution_count": 1,
   "outputs": [],
   "source": [
    "import pandas as pd"
   ],
   "metadata": {
    "collapsed": false,
    "pycharm": {
     "name": "#%%\n"
    }
   }
  },
  {
   "cell_type": "markdown",
   "source": [
    "## Series\n",
    "https://khashtamov.com/ru/pandas-introduction/"
   ],
   "metadata": {
    "collapsed": false
   }
  },
  {
   "cell_type": "code",
   "execution_count": 4,
   "outputs": [
    {
     "data": {
      "text/plain": "qweq    [5, 6, 7, 8, 9, 10]\ndtype: object"
     },
     "execution_count": 4,
     "metadata": {},
     "output_type": "execute_result"
    }
   ],
   "source": [
    "my_series = pd.Series({'qweq': [5, 6, 7, 8, 9, 10]})\n",
    "my_series"
   ],
   "metadata": {
    "collapsed": false,
    "pycharm": {
     "name": "#%%\n"
    }
   }
  },
  {
   "cell_type": "code",
   "execution_count": 25,
   "outputs": [
    {
     "data": {
      "text/plain": "a    5\nb    6\nc    7\nd    8\ndtype: int64"
     },
     "execution_count": 25,
     "metadata": {},
     "output_type": "execute_result"
    }
   ],
   "source": [
    "my_series3 = pd.Series({'a': 5, 'b': 6, 'c': 7, 'd': 8})\n",
    "my_series3"
   ],
   "metadata": {
    "collapsed": false,
    "pycharm": {
     "name": "#%%\n"
    }
   }
  },
  {
   "cell_type": "markdown",
   "source": [
    "У объекта Series есть атрибуты через которые можно\n",
    "получить список элементов и индексы, это values и index соответственно"
   ],
   "metadata": {
    "collapsed": false,
    "pycharm": {
     "name": "#%% md\n"
    }
   }
  },
  {
   "cell_type": "code",
   "execution_count": null,
   "outputs": [],
   "source": [
    "print(my_series.index)\n",
    "print(my_series.values)"
   ],
   "metadata": {
    "collapsed": false,
    "pycharm": {
     "name": "#%%\n"
    }
   }
  },
  {
   "cell_type": "markdown",
   "source": [
    "Доступ к элементам объекта Series возможны по их индексу"
   ],
   "metadata": {
    "collapsed": false
   }
  },
  {
   "cell_type": "code",
   "source": [
    "my_series[5]"
   ],
   "metadata": {
    "collapsed": false,
    "pycharm": {
     "name": "#%%\n"
    }
   },
   "execution_count": 10,
   "outputs": [
    {
     "data": {
      "text/plain": "10"
     },
     "execution_count": 10,
     "metadata": {},
     "output_type": "execute_result"
    }
   ]
  },
  {
   "cell_type": "markdown",
   "source": [
    "Индексы можно задавать явн"
   ],
   "metadata": {
    "collapsed": false
   }
  },
  {
   "cell_type": "code",
   "execution_count": 14,
   "outputs": [
    {
     "name": "stdout",
     "output_type": "stream",
     "text": [
      "a     5\n",
      "b     6\n",
      "c     7\n",
      "d     8\n",
      "e     9\n",
      "f    10\n",
      "dtype: int64\n"
     ]
    },
    {
     "data": {
      "text/plain": "10"
     },
     "execution_count": 14,
     "metadata": {},
     "output_type": "execute_result"
    }
   ],
   "source": [
    "my_series2 = pd.Series(range(5,11),index=['a','b','c','d',\n",
    "                                          'e','f'])\n",
    "print(my_series2)\n",
    "my_series2['f']"
   ],
   "metadata": {
    "collapsed": false,
    "pycharm": {
     "name": "#%%\n"
    }
   }
  },
  {
   "cell_type": "markdown",
   "source": [
    "Доступ по нескольким индексам и осуществлять групповое присваивание"
   ],
   "metadata": {
    "collapsed": false
   }
  },
  {
   "cell_type": "code",
   "execution_count": 19,
   "outputs": [
    {
     "data": {
      "text/plain": "a    5\nb    6\nc    7\nd    8\ne    0\nf    0\ndtype: int64"
     },
     "execution_count": 19,
     "metadata": {},
     "output_type": "execute_result"
    }
   ],
   "source": [
    "my_series2[['e','f']]\n",
    "my_series2[['e','f']] = 0\n",
    "my_series2"
   ],
   "metadata": {
    "collapsed": false,
    "pycharm": {
     "name": "#%%\n"
    }
   }
  },
  {
   "cell_type": "markdown",
   "source": [
    "Фильтровать Series"
   ],
   "metadata": {
    "collapsed": false,
    "pycharm": {
     "name": "#%% md\n"
    }
   }
  },
  {
   "cell_type": "code",
   "execution_count": 22,
   "outputs": [
    {
     "data": {
      "text/plain": "a    5\nb    6\nc    7\ndtype: int64"
     },
     "execution_count": 22,
     "metadata": {},
     "output_type": "execute_result"
    }
   ],
   "source": [
    "my_series2[my_series2 > 0][my_series2 < 8]"
   ],
   "metadata": {
    "collapsed": false,
    "pycharm": {
     "name": "#%%\n"
    }
   }
  },
  {
   "cell_type": "code",
   "execution_count": 23,
   "outputs": [
    {
     "data": {
      "text/plain": "a    10\nb    12\nc    14\nd    16\ndtype: int64"
     },
     "execution_count": 23,
     "metadata": {},
     "output_type": "execute_result"
    }
   ],
   "source": [
    "my_series2[my_series2>3]*2"
   ],
   "metadata": {
    "collapsed": false,
    "pycharm": {
     "name": "#%%\n"
    }
   }
  },
  {
   "cell_type": "markdown",
   "source": [
    "У объекта Series и его индекса есть атрибут name"
   ],
   "metadata": {
    "collapsed": false,
    "pycharm": {
     "name": "#%% md\n"
    }
   }
  },
  {
   "cell_type": "code",
   "execution_count": 31,
   "outputs": [
    {
     "data": {
      "text/plain": "litter\na    5\nb    6\nc    7\nd    8\nName: цифры, dtype: int64"
     },
     "execution_count": 31,
     "metadata": {},
     "output_type": "execute_result"
    }
   ],
   "source": [
    "my_series3.name = 'цифры'\n",
    "my_series3.index.name = 'litter'\n",
    "# my_series3.values.name = 'number'\n",
    "my_series3"
   ],
   "metadata": {
    "collapsed": false,
    "pycharm": {
     "name": "#%%\n"
    }
   }
  },
  {
   "cell_type": "markdown",
   "source": [
    "У объекта Series Индекс можно поменять \"на лету\""
   ],
   "metadata": {
    "collapsed": false
   }
  },
  {
   "cell_type": "code",
   "execution_count": 33,
   "outputs": [
    {
     "data": {
      "text/plain": "A    5\nB    6\nC    7\nD    8\nName: цифры, dtype: int64"
     },
     "execution_count": 33,
     "metadata": {},
     "output_type": "execute_result"
    }
   ],
   "source": [
    "my_series3.index = ['A', 'B', 'C', 'D']\n",
    "my_series3\n",
    "\n"
   ],
   "metadata": {
    "collapsed": false,
    "pycharm": {
     "name": "#%%\n"
    }
   }
  },
  {
   "cell_type": "code",
   "execution_count": 34,
   "outputs": [
    {
     "data": {
      "text/plain": "A    5\nB    6\nC    7\nD    8\nName: цифры, dtype: int64"
     },
     "execution_count": 34,
     "metadata": {},
     "output_type": "execute_result"
    }
   ],
   "source": [
    "my_series3.reset_index()\n",
    "my_series3"
   ],
   "metadata": {
    "collapsed": false,
    "pycharm": {
     "name": "#%%\n"
    }
   }
  },
  {
   "cell_type": "markdown",
   "source": [
    "## DataFrame"
   ],
   "metadata": {
    "collapsed": false,
    "pycharm": {
     "name": "#%% md\n"
    }
   }
  },
  {
   "cell_type": "code",
   "execution_count": 37,
   "outputs": [
    {
     "data": {
      "text/plain": "      country  population    square\n0  Kazakhstan       17.04   2724902\n1      Russia      143.50  17125191\n2     Belarus        9.50    207600\n3     Ukraine       45.50    603628",
      "text/html": "<div>\n<style scoped>\n    .dataframe tbody tr th:only-of-type {\n        vertical-align: middle;\n    }\n\n    .dataframe tbody tr th {\n        vertical-align: top;\n    }\n\n    .dataframe thead th {\n        text-align: right;\n    }\n</style>\n<table border=\"1\" class=\"dataframe\">\n  <thead>\n    <tr style=\"text-align: right;\">\n      <th></th>\n      <th>country</th>\n      <th>population</th>\n      <th>square</th>\n    </tr>\n  </thead>\n  <tbody>\n    <tr>\n      <th>0</th>\n      <td>Kazakhstan</td>\n      <td>17.04</td>\n      <td>2724902</td>\n    </tr>\n    <tr>\n      <th>1</th>\n      <td>Russia</td>\n      <td>143.50</td>\n      <td>17125191</td>\n    </tr>\n    <tr>\n      <th>2</th>\n      <td>Belarus</td>\n      <td>9.50</td>\n      <td>207600</td>\n    </tr>\n    <tr>\n      <th>3</th>\n      <td>Ukraine</td>\n      <td>45.50</td>\n      <td>603628</td>\n    </tr>\n  </tbody>\n</table>\n</div>"
     },
     "execution_count": 37,
     "metadata": {},
     "output_type": "execute_result"
    }
   ],
   "source": [
    "df = pd.DataFrame({\n",
    "    'country': ['Kazakhstan', 'Russia', 'Belarus', 'Ukraine'],\n",
    "    'population': [17.04, 143.5, 9.5, 45.5],\n",
    "    'square': [2724902, 17125191, 207600, 603628]})\n",
    "\n",
    "df"
   ],
   "metadata": {
    "collapsed": false,
    "pycharm": {
     "name": "#%%\n"
    }
   }
  },
  {
   "cell_type": "markdown",
   "source": [
    "## Чтобы убедиться, что столбец в DataFrame это Series, извлекаем"
   ],
   "metadata": {
    "collapsed": false
   }
  },
  {
   "cell_type": "code",
   "execution_count": 40,
   "outputs": [
    {
     "name": "stdout",
     "output_type": "stream",
     "text": [
      "<class 'pandas.core.series.Series'>\n",
      "<class 'pandas.core.series.Series'>\n"
     ]
    },
    {
     "data": {
      "text/plain": "0    Kazakhstan\n1        Russia\n2       Belarus\n3       Ukraine\nName: country, dtype: object"
     },
     "execution_count": 40,
     "metadata": {},
     "output_type": "execute_result"
    }
   ],
   "source": [
    "print(type(df.country))\n",
    "print(type(df['country']))\n",
    "df.country"
   ],
   "metadata": {
    "collapsed": false,
    "pycharm": {
     "name": "#%%\n"
    }
   }
  },
  {
   "cell_type": "markdown",
   "source": [
    "Доступ по индексу в DataFrame"
   ],
   "metadata": {
    "collapsed": false
   }
  },
  {
   "cell_type": "code",
   "execution_count": 43,
   "outputs": [
    {
     "data": {
      "text/plain": "             country  population    square\nCoun_cod                                  \nKZ        Kazakhstan       17.04   2724902\nRU            Russia      143.50  17125191\nBY           Belarus        9.50    207600\nUA           Ukraine       45.50    603628",
      "text/html": "<div>\n<style scoped>\n    .dataframe tbody tr th:only-of-type {\n        vertical-align: middle;\n    }\n\n    .dataframe tbody tr th {\n        vertical-align: top;\n    }\n\n    .dataframe thead th {\n        text-align: right;\n    }\n</style>\n<table border=\"1\" class=\"dataframe\">\n  <thead>\n    <tr style=\"text-align: right;\">\n      <th></th>\n      <th>country</th>\n      <th>population</th>\n      <th>square</th>\n    </tr>\n    <tr>\n      <th>Coun_cod</th>\n      <th></th>\n      <th></th>\n      <th></th>\n    </tr>\n  </thead>\n  <tbody>\n    <tr>\n      <th>KZ</th>\n      <td>Kazakhstan</td>\n      <td>17.04</td>\n      <td>2724902</td>\n    </tr>\n    <tr>\n      <th>RU</th>\n      <td>Russia</td>\n      <td>143.50</td>\n      <td>17125191</td>\n    </tr>\n    <tr>\n      <th>BY</th>\n      <td>Belarus</td>\n      <td>9.50</td>\n      <td>207600</td>\n    </tr>\n    <tr>\n      <th>UA</th>\n      <td>Ukraine</td>\n      <td>45.50</td>\n      <td>603628</td>\n    </tr>\n  </tbody>\n</table>\n</div>"
     },
     "execution_count": 43,
     "metadata": {},
     "output_type": "execute_result"
    }
   ],
   "source": [
    "df.index = ['KZ', 'RU', 'BY', 'UA']\n",
    "df.index.name = 'Coun_cod'\n",
    "df"
   ],
   "metadata": {
    "collapsed": false,
    "pycharm": {
     "name": "#%%\n"
    }
   }
  },
  {
   "cell_type": "code",
   "execution_count": 58,
   "outputs": [],
   "source": [
    "df1 = pd.DataFrame({\n",
    "    'country': ['Kazakhstan', 'Russia', 'Belarus', 'Ukraine'],\n",
    "    'population': [17.04, 143.5, 9.5, 45.5],\n",
    "    'square': [2724902, 17125191, 207600, 603628]})\n"
   ],
   "metadata": {
    "collapsed": false,
    "pycharm": {
     "name": "#%%\n"
    }
   }
  },
  {
   "cell_type": "code",
   "execution_count": 84,
   "outputs": [
    {
     "name": "stdout",
     "output_type": "stream",
     "text": [
      "      country  population    square\n",
      "0  Kazakhstan       17.04   2724902\n",
      "1      Russia      143.50  17125191\n",
      "2     Belarus        9.50    207600\n",
      "3     Ukraine       45.50    603628\n",
      "********** \n",
      "0     17.04\n",
      "1    143.50\n",
      "2      9.50\n",
      "3     45.50\n",
      "Name: population, dtype: float64\n"
     ]
    },
    {
     "data": {
      "text/plain": "   population\n0       17.04\n1      143.50",
      "text/html": "<div>\n<style scoped>\n    .dataframe tbody tr th:only-of-type {\n        vertical-align: middle;\n    }\n\n    .dataframe tbody tr th {\n        vertical-align: top;\n    }\n\n    .dataframe thead th {\n        text-align: right;\n    }\n</style>\n<table border=\"1\" class=\"dataframe\">\n  <thead>\n    <tr style=\"text-align: right;\">\n      <th></th>\n      <th>population</th>\n    </tr>\n  </thead>\n  <tbody>\n    <tr>\n      <th>0</th>\n      <td>17.04</td>\n    </tr>\n    <tr>\n      <th>1</th>\n      <td>143.50</td>\n    </tr>\n  </tbody>\n</table>\n</div>"
     },
     "execution_count": 84,
     "metadata": {},
     "output_type": "execute_result"
    }
   ],
   "source": [
    "print(df1)\n",
    "print('*'*10,'')\n",
    "print(df1.loc[:,'population'])\n",
    "df1.iloc[:2,1:2]\n"
   ],
   "metadata": {
    "collapsed": false,
    "pycharm": {
     "name": "#%%\n"
    }
   }
  },
  {
   "cell_type": "code",
   "execution_count": 66,
   "outputs": [
    {
     "name": "stdout",
     "output_type": "stream",
     "text": [
      "             country  population    square\n",
      "Coun_cod                                  \n",
      "KZ        Kazakhstan       17.04   2724902\n",
      "RU            Russia      143.50  17125191\n",
      "BY           Belarus        9.50    207600\n",
      "UA           Ukraine       45.50    603628\n"
     ]
    },
    {
     "data": {
      "text/plain": "             country  population    square\nCoun_cod                                  \nKZ        Kazakhstan       17.04   2724902\nRU            Russia      143.50  17125191\nBY           Belarus        9.50    207600",
      "text/html": "<div>\n<style scoped>\n    .dataframe tbody tr th:only-of-type {\n        vertical-align: middle;\n    }\n\n    .dataframe tbody tr th {\n        vertical-align: top;\n    }\n\n    .dataframe thead th {\n        text-align: right;\n    }\n</style>\n<table border=\"1\" class=\"dataframe\">\n  <thead>\n    <tr style=\"text-align: right;\">\n      <th></th>\n      <th>country</th>\n      <th>population</th>\n      <th>square</th>\n    </tr>\n    <tr>\n      <th>Coun_cod</th>\n      <th></th>\n      <th></th>\n      <th></th>\n    </tr>\n  </thead>\n  <tbody>\n    <tr>\n      <th>KZ</th>\n      <td>Kazakhstan</td>\n      <td>17.04</td>\n      <td>2724902</td>\n    </tr>\n    <tr>\n      <th>RU</th>\n      <td>Russia</td>\n      <td>143.50</td>\n      <td>17125191</td>\n    </tr>\n    <tr>\n      <th>BY</th>\n      <td>Belarus</td>\n      <td>9.50</td>\n      <td>207600</td>\n    </tr>\n  </tbody>\n</table>\n</div>"
     },
     "execution_count": 66,
     "metadata": {},
     "output_type": "execute_result"
    }
   ],
   "source": [
    "print(df)\n",
    "df.loc['KZ':'BY']"
   ],
   "metadata": {
    "collapsed": false,
    "pycharm": {
     "name": "#%%\n"
    }
   }
  },
  {
   "cell_type": "markdown",
   "source": [
    "Фильтровать DataFrame\n"
   ],
   "metadata": {
    "collapsed": false
   }
  },
  {
   "cell_type": "code",
   "execution_count": 88,
   "outputs": [
    {
     "data": {
      "text/plain": "  Coun_cod     country  population    square\n0       KZ  Kazakhstan       17.04   2724902\n1       RU      Russia      143.50  17125191\n2       BY     Belarus        9.50    207600\n3       UA     Ukraine       45.50    603628",
      "text/html": "<div>\n<style scoped>\n    .dataframe tbody tr th:only-of-type {\n        vertical-align: middle;\n    }\n\n    .dataframe tbody tr th {\n        vertical-align: top;\n    }\n\n    .dataframe thead th {\n        text-align: right;\n    }\n</style>\n<table border=\"1\" class=\"dataframe\">\n  <thead>\n    <tr style=\"text-align: right;\">\n      <th></th>\n      <th>Coun_cod</th>\n      <th>country</th>\n      <th>population</th>\n      <th>square</th>\n    </tr>\n  </thead>\n  <tbody>\n    <tr>\n      <th>0</th>\n      <td>KZ</td>\n      <td>Kazakhstan</td>\n      <td>17.04</td>\n      <td>2724902</td>\n    </tr>\n    <tr>\n      <th>1</th>\n      <td>RU</td>\n      <td>Russia</td>\n      <td>143.50</td>\n      <td>17125191</td>\n    </tr>\n    <tr>\n      <th>2</th>\n      <td>BY</td>\n      <td>Belarus</td>\n      <td>9.50</td>\n      <td>207600</td>\n    </tr>\n    <tr>\n      <th>3</th>\n      <td>UA</td>\n      <td>Ukraine</td>\n      <td>45.50</td>\n      <td>603628</td>\n    </tr>\n  </tbody>\n</table>\n</div>"
     },
     "execution_count": 88,
     "metadata": {},
     "output_type": "execute_result"
    }
   ],
   "source": [
    "df =df.reset_index()\n",
    "df\n",
    "\n"
   ],
   "metadata": {
    "collapsed": false,
    "pycharm": {
     "name": "#%%\n"
    }
   }
  },
  {
   "cell_type": "code",
   "execution_count": 91,
   "outputs": [
    {
     "data": {
      "text/plain": "pandas.core.series.Series"
     },
     "execution_count": 91,
     "metadata": {},
     "output_type": "execute_result"
    }
   ],
   "source": [
    "type(df['country'])"
   ],
   "metadata": {
    "collapsed": false,
    "pycharm": {
     "name": "#%%\n"
    }
   }
  },
  {
   "cell_type": "code",
   "execution_count": 95,
   "outputs": [
    {
     "data": {
      "text/plain": "  Coun_cod     country  population    square\n0       KZ  Kazakhstan       17.04   2724902\n1       RU      Russia      143.50  17125191\n2       BY     Belarus        9.50    207600\n3       UA     Ukraine       45.50    603628",
      "text/html": "<div>\n<style scoped>\n    .dataframe tbody tr th:only-of-type {\n        vertical-align: middle;\n    }\n\n    .dataframe tbody tr th {\n        vertical-align: top;\n    }\n\n    .dataframe thead th {\n        text-align: right;\n    }\n</style>\n<table border=\"1\" class=\"dataframe\">\n  <thead>\n    <tr style=\"text-align: right;\">\n      <th></th>\n      <th>Coun_cod</th>\n      <th>country</th>\n      <th>population</th>\n      <th>square</th>\n    </tr>\n  </thead>\n  <tbody>\n    <tr>\n      <th>0</th>\n      <td>KZ</td>\n      <td>Kazakhstan</td>\n      <td>17.04</td>\n      <td>2724902</td>\n    </tr>\n    <tr>\n      <th>1</th>\n      <td>RU</td>\n      <td>Russia</td>\n      <td>143.50</td>\n      <td>17125191</td>\n    </tr>\n    <tr>\n      <th>2</th>\n      <td>BY</td>\n      <td>Belarus</td>\n      <td>9.50</td>\n      <td>207600</td>\n    </tr>\n    <tr>\n      <th>3</th>\n      <td>UA</td>\n      <td>Ukraine</td>\n      <td>45.50</td>\n      <td>603628</td>\n    </tr>\n  </tbody>\n</table>\n</div>"
     },
     "execution_count": 95,
     "metadata": {},
     "output_type": "execute_result"
    }
   ],
   "source": [
    "df['dennsity'] = df.population/df.square\n",
    "del df['dennsity']\n",
    "df"
   ],
   "metadata": {
    "collapsed": false,
    "pycharm": {
     "name": "#%%\n"
    }
   }
  },
  {
   "cell_type": "code",
   "execution_count": 96,
   "outputs": [
    {
     "data": {
      "text/plain": "  Coun_cod     country  population    square\n0       KZ  Kazakhstan       17.04   2724902\n1       RU      Russia      143.50  17125191\n2       BY     Belarus        9.50    207600\n3       UA     Ukraine       45.50    603628",
      "text/html": "<div>\n<style scoped>\n    .dataframe tbody tr th:only-of-type {\n        vertical-align: middle;\n    }\n\n    .dataframe tbody tr th {\n        vertical-align: top;\n    }\n\n    .dataframe thead th {\n        text-align: right;\n    }\n</style>\n<table border=\"1\" class=\"dataframe\">\n  <thead>\n    <tr style=\"text-align: right;\">\n      <th></th>\n      <th>Coun_cod</th>\n      <th>country</th>\n      <th>population</th>\n      <th>square</th>\n    </tr>\n  </thead>\n  <tbody>\n    <tr>\n      <th>0</th>\n      <td>KZ</td>\n      <td>Kazakhstan</td>\n      <td>17.04</td>\n      <td>2724902</td>\n    </tr>\n    <tr>\n      <th>1</th>\n      <td>RU</td>\n      <td>Russia</td>\n      <td>143.50</td>\n      <td>17125191</td>\n    </tr>\n    <tr>\n      <th>2</th>\n      <td>BY</td>\n      <td>Belarus</td>\n      <td>9.50</td>\n      <td>207600</td>\n    </tr>\n    <tr>\n      <th>3</th>\n      <td>UA</td>\n      <td>Ukraine</td>\n      <td>45.50</td>\n      <td>603628</td>\n    </tr>\n  </tbody>\n</table>\n</div>"
     },
     "execution_count": 96,
     "metadata": {},
     "output_type": "execute_result"
    }
   ],
   "source": [
    "df = df.rename(columns={'Country Code': 'country_code'})\n",
    "df\n"
   ],
   "metadata": {
    "collapsed": false,
    "pycharm": {
     "name": "#%%\n"
    }
   }
  },
  {
   "cell_type": "markdown",
   "source": [],
   "metadata": {
    "collapsed": false
   }
  },
  {
   "cell_type": "code",
   "execution_count": 104,
   "outputs": [
    {
     "data": {
      "text/plain": "   PassengerID                          Name PClass   Age     Sex  Survived  \\\n0            1  Allen, Miss Elisabeth Walton    1st  29.0  female         1   \n\n   SexCode  \n0        1  ",
      "text/html": "<div>\n<style scoped>\n    .dataframe tbody tr th:only-of-type {\n        vertical-align: middle;\n    }\n\n    .dataframe tbody tr th {\n        vertical-align: top;\n    }\n\n    .dataframe thead th {\n        text-align: right;\n    }\n</style>\n<table border=\"1\" class=\"dataframe\">\n  <thead>\n    <tr style=\"text-align: right;\">\n      <th></th>\n      <th>PassengerID</th>\n      <th>Name</th>\n      <th>PClass</th>\n      <th>Age</th>\n      <th>Sex</th>\n      <th>Survived</th>\n      <th>SexCode</th>\n    </tr>\n  </thead>\n  <tbody>\n    <tr>\n      <th>0</th>\n      <td>1</td>\n      <td>Allen, Miss Elisabeth Walton</td>\n      <td>1st</td>\n      <td>29.0</td>\n      <td>female</td>\n      <td>1</td>\n      <td>1</td>\n    </tr>\n  </tbody>\n</table>\n</div>"
     },
     "execution_count": 104,
     "metadata": {},
     "output_type": "execute_result"
    }
   ],
   "source": [
    "path2 = r'C:\\Users\\egor\\Downloads\\titanic.csv'\n",
    "\n",
    "df = pd.read_csv(path2)\n",
    "df.head(1)"
   ],
   "metadata": {
    "collapsed": false,
    "pycharm": {
     "name": "#%%\n"
    }
   }
  },
  {
   "cell_type": "code",
   "execution_count": 113,
   "outputs": [
    {
     "data": {
      "text/plain": "                 PassengerID\nSex    Survived             \nfemale 0                 154\n       1                 308\nmale   0                 709\n       1                 142",
      "text/html": "<div>\n<style scoped>\n    .dataframe tbody tr th:only-of-type {\n        vertical-align: middle;\n    }\n\n    .dataframe tbody tr th {\n        vertical-align: top;\n    }\n\n    .dataframe thead th {\n        text-align: right;\n    }\n</style>\n<table border=\"1\" class=\"dataframe\">\n  <thead>\n    <tr style=\"text-align: right;\">\n      <th></th>\n      <th></th>\n      <th>PassengerID</th>\n    </tr>\n    <tr>\n      <th>Sex</th>\n      <th>Survived</th>\n      <th></th>\n    </tr>\n  </thead>\n  <tbody>\n    <tr>\n      <th rowspan=\"2\" valign=\"top\">female</th>\n      <th>0</th>\n      <td>154</td>\n    </tr>\n    <tr>\n      <th>1</th>\n      <td>308</td>\n    </tr>\n    <tr>\n      <th rowspan=\"2\" valign=\"top\">male</th>\n      <th>0</th>\n      <td>709</td>\n    </tr>\n    <tr>\n      <th>1</th>\n      <td>142</td>\n    </tr>\n  </tbody>\n</table>\n</div>"
     },
     "execution_count": 113,
     "metadata": {},
     "output_type": "execute_result"
    }
   ],
   "source": [
    "# df.groupby(['Sex', 'Survived']).count()\n",
    "# df.groupby(['Sex'])['PassengerID'].count()\n",
    "df.groupby(['Sex', 'Survived'])[['PassengerID']].count()"
   ],
   "metadata": {
    "collapsed": false,
    "pycharm": {
     "name": "#%%\n"
    }
   }
  },
  {
   "cell_type": "code",
   "execution_count": 115,
   "outputs": [
    {
     "data": {
      "text/plain": "                 PassengerID\nPClass Survived             \n*      0                   1\n1st    0                 129\n       1                 193\n2nd    0                 160\n       1                 119\n3rd    0                 573\n       1                 138",
      "text/html": "<div>\n<style scoped>\n    .dataframe tbody tr th:only-of-type {\n        vertical-align: middle;\n    }\n\n    .dataframe tbody tr th {\n        vertical-align: top;\n    }\n\n    .dataframe thead th {\n        text-align: right;\n    }\n</style>\n<table border=\"1\" class=\"dataframe\">\n  <thead>\n    <tr style=\"text-align: right;\">\n      <th></th>\n      <th></th>\n      <th>PassengerID</th>\n    </tr>\n    <tr>\n      <th>PClass</th>\n      <th>Survived</th>\n      <th></th>\n    </tr>\n  </thead>\n  <tbody>\n    <tr>\n      <th>*</th>\n      <th>0</th>\n      <td>1</td>\n    </tr>\n    <tr>\n      <th rowspan=\"2\" valign=\"top\">1st</th>\n      <th>0</th>\n      <td>129</td>\n    </tr>\n    <tr>\n      <th>1</th>\n      <td>193</td>\n    </tr>\n    <tr>\n      <th rowspan=\"2\" valign=\"top\">2nd</th>\n      <th>0</th>\n      <td>160</td>\n    </tr>\n    <tr>\n      <th>1</th>\n      <td>119</td>\n    </tr>\n    <tr>\n      <th rowspan=\"2\" valign=\"top\">3rd</th>\n      <th>0</th>\n      <td>573</td>\n    </tr>\n    <tr>\n      <th>1</th>\n      <td>138</td>\n    </tr>\n  </tbody>\n</table>\n</div>"
     },
     "execution_count": 115,
     "metadata": {},
     "output_type": "execute_result"
    }
   ],
   "source": [
    "df.groupby(['PClass', 'Survived'])[['PassengerID']].count()\n",
    "\n"
   ],
   "metadata": {
    "collapsed": false,
    "pycharm": {
     "name": "#%%\n"
    }
   }
  },
  {
   "cell_type": "code",
   "execution_count": 116,
   "outputs": [
    {
     "data": {
      "text/plain": "               PassengerID  Name  Age  Survived  SexCode\nSex    PClass                                           \nfemale 1st             143   143  101       143      143\n       2nd             107   107   85       107      107\n       3rd             212   212  102       212      212\nmale   *                 1     1    0         1        1\n       1st             179   179  125       179      179\n       2nd             172   172  127       172      172\n       3rd             499   499  216       499      499",
      "text/html": "<div>\n<style scoped>\n    .dataframe tbody tr th:only-of-type {\n        vertical-align: middle;\n    }\n\n    .dataframe tbody tr th {\n        vertical-align: top;\n    }\n\n    .dataframe thead th {\n        text-align: right;\n    }\n</style>\n<table border=\"1\" class=\"dataframe\">\n  <thead>\n    <tr style=\"text-align: right;\">\n      <th></th>\n      <th></th>\n      <th>PassengerID</th>\n      <th>Name</th>\n      <th>Age</th>\n      <th>Survived</th>\n      <th>SexCode</th>\n    </tr>\n    <tr>\n      <th>Sex</th>\n      <th>PClass</th>\n      <th></th>\n      <th></th>\n      <th></th>\n      <th></th>\n      <th></th>\n    </tr>\n  </thead>\n  <tbody>\n    <tr>\n      <th rowspan=\"3\" valign=\"top\">female</th>\n      <th>1st</th>\n      <td>143</td>\n      <td>143</td>\n      <td>101</td>\n      <td>143</td>\n      <td>143</td>\n    </tr>\n    <tr>\n      <th>2nd</th>\n      <td>107</td>\n      <td>107</td>\n      <td>85</td>\n      <td>107</td>\n      <td>107</td>\n    </tr>\n    <tr>\n      <th>3rd</th>\n      <td>212</td>\n      <td>212</td>\n      <td>102</td>\n      <td>212</td>\n      <td>212</td>\n    </tr>\n    <tr>\n      <th rowspan=\"4\" valign=\"top\">male</th>\n      <th>*</th>\n      <td>1</td>\n      <td>1</td>\n      <td>0</td>\n      <td>1</td>\n      <td>1</td>\n    </tr>\n    <tr>\n      <th>1st</th>\n      <td>179</td>\n      <td>179</td>\n      <td>125</td>\n      <td>179</td>\n      <td>179</td>\n    </tr>\n    <tr>\n      <th>2nd</th>\n      <td>172</td>\n      <td>172</td>\n      <td>127</td>\n      <td>172</td>\n      <td>172</td>\n    </tr>\n    <tr>\n      <th>3rd</th>\n      <td>499</td>\n      <td>499</td>\n      <td>216</td>\n      <td>499</td>\n      <td>499</td>\n    </tr>\n  </tbody>\n</table>\n</div>"
     },
     "execution_count": 116,
     "metadata": {},
     "output_type": "execute_result"
    }
   ],
   "source": [
    "df.groupby(['Sex','PClass']).count()"
   ],
   "metadata": {
    "collapsed": false,
    "pycharm": {
     "name": "#%%\n"
    }
   }
  },
  {
   "cell_type": "code",
   "execution_count": 123,
   "outputs": [
    {
     "data": {
      "text/plain": "PClass    *    1st    2nd    3rd\nSex                             \nfemale  NaN  143.0  107.0  212.0\nmale    1.0  179.0  172.0  499.0",
      "text/html": "<div>\n<style scoped>\n    .dataframe tbody tr th:only-of-type {\n        vertical-align: middle;\n    }\n\n    .dataframe tbody tr th {\n        vertical-align: top;\n    }\n\n    .dataframe thead th {\n        text-align: right;\n    }\n</style>\n<table border=\"1\" class=\"dataframe\">\n  <thead>\n    <tr style=\"text-align: right;\">\n      <th>PClass</th>\n      <th>*</th>\n      <th>1st</th>\n      <th>2nd</th>\n      <th>3rd</th>\n    </tr>\n    <tr>\n      <th>Sex</th>\n      <th></th>\n      <th></th>\n      <th></th>\n      <th></th>\n    </tr>\n  </thead>\n  <tbody>\n    <tr>\n      <th>female</th>\n      <td>NaN</td>\n      <td>143.0</td>\n      <td>107.0</td>\n      <td>212.0</td>\n    </tr>\n    <tr>\n      <th>male</th>\n      <td>1.0</td>\n      <td>179.0</td>\n      <td>172.0</td>\n      <td>499.0</td>\n    </tr>\n  </tbody>\n</table>\n</div>"
     },
     "execution_count": 123,
     "metadata": {},
     "output_type": "execute_result"
    }
   ],
   "source": [
    "pdf = df.pivot_table(index='Sex', columns='PClass' , values='Name', aggfunc = 'count'  )\n",
    "pdf\n",
    "\n",
    "# da = data.pivot_table(index = 'userId', columns = 'rating',\n",
    "#                     values = 'timestamp', aggfunc = 'count', fill_value = 0, margins = True)"
   ],
   "metadata": {
    "collapsed": false,
    "pycharm": {
     "name": "#%%\n"
    }
   }
  },
  {
   "cell_type": "code",
   "execution_count": 130,
   "outputs": [
    {
     "data": {
      "text/plain": "PClass\n1st    143.0\n3rd    212.0\nName: female, dtype: float64"
     },
     "execution_count": 130,
     "metadata": {},
     "output_type": "execute_result"
    }
   ],
   "source": [
    "pdf.loc['female',['1st','3rd']]"
   ],
   "metadata": {
    "collapsed": false,
    "pycharm": {
     "name": "#%%\n"
    }
   }
  },
  {
   "cell_type": "code",
   "execution_count": 180,
   "outputs": [
    {
     "name": "stdout",
     "output_type": "stream",
     "text": [
      "<class 'pandas.core.frame.DataFrame'>\n",
      "RangeIndex: 1258 entries, 0 to 1257\n",
      "Data columns (total 7 columns):\n",
      " #   Column     Non-Null Count  Dtype  \n",
      "---  ------     --------------  -----  \n",
      " 0   Date       1258 non-null   object \n",
      " 1   Open       1258 non-null   float64\n",
      " 2   High       1258 non-null   float64\n",
      " 3   Low        1258 non-null   float64\n",
      " 4   Close      1258 non-null   float64\n",
      " 5   Volume     1258 non-null   int64  \n",
      " 6   Adj Close  1258 non-null   float64\n",
      "dtypes: float64(5), int64(1), object(1)\n",
      "memory usage: 68.9+ KB\n"
     ]
    },
    {
     "data": {
      "text/plain": "            Date        Open        High         Low       Close     Volume  \\\n1253  2012-02-29  541.560005  547.610023  535.700005  542.440025  238002800   \n1254  2012-02-28  527.960014  535.410011  525.850006  535.410011  150096800   \n1255  2012-02-27  521.309982  528.500000  516.280014  525.760017  136895500   \n1256  2012-02-24  519.669998  522.899979  518.640015  522.409981  103768000   \n1257  2012-02-23  515.079987  517.830009  509.499992  516.389977  142006900   \n\n      Adj Close  \n1253  70.278286  \n1254  69.367481  \n1255  68.117232  \n1256  67.683203  \n1257  66.903253  ",
      "text/html": "<div>\n<style scoped>\n    .dataframe tbody tr th:only-of-type {\n        vertical-align: middle;\n    }\n\n    .dataframe tbody tr th {\n        vertical-align: top;\n    }\n\n    .dataframe thead th {\n        text-align: right;\n    }\n</style>\n<table border=\"1\" class=\"dataframe\">\n  <thead>\n    <tr style=\"text-align: right;\">\n      <th></th>\n      <th>Date</th>\n      <th>Open</th>\n      <th>High</th>\n      <th>Low</th>\n      <th>Close</th>\n      <th>Volume</th>\n      <th>Adj Close</th>\n    </tr>\n  </thead>\n  <tbody>\n    <tr>\n      <th>1253</th>\n      <td>2012-02-29</td>\n      <td>541.560005</td>\n      <td>547.610023</td>\n      <td>535.700005</td>\n      <td>542.440025</td>\n      <td>238002800</td>\n      <td>70.278286</td>\n    </tr>\n    <tr>\n      <th>1254</th>\n      <td>2012-02-28</td>\n      <td>527.960014</td>\n      <td>535.410011</td>\n      <td>525.850006</td>\n      <td>535.410011</td>\n      <td>150096800</td>\n      <td>69.367481</td>\n    </tr>\n    <tr>\n      <th>1255</th>\n      <td>2012-02-27</td>\n      <td>521.309982</td>\n      <td>528.500000</td>\n      <td>516.280014</td>\n      <td>525.760017</td>\n      <td>136895500</td>\n      <td>68.117232</td>\n    </tr>\n    <tr>\n      <th>1256</th>\n      <td>2012-02-24</td>\n      <td>519.669998</td>\n      <td>522.899979</td>\n      <td>518.640015</td>\n      <td>522.409981</td>\n      <td>103768000</td>\n      <td>67.683203</td>\n    </tr>\n    <tr>\n      <th>1257</th>\n      <td>2012-02-23</td>\n      <td>515.079987</td>\n      <td>517.830009</td>\n      <td>509.499992</td>\n      <td>516.389977</td>\n      <td>142006900</td>\n      <td>66.903253</td>\n    </tr>\n  </tbody>\n</table>\n</div>"
     },
     "execution_count": 180,
     "metadata": {},
     "output_type": "execute_result"
    }
   ],
   "source": [
    "apple = pd.read_csv(r'C:\\Users\\egor\\Downloads\\apple.csv')\n",
    "\n",
    "apple.info()\n",
    "apple.tail(5)"
   ],
   "metadata": {
    "collapsed": false,
    "pycharm": {
     "name": "#%%\n"
    }
   }
  },
  {
   "cell_type": "code",
   "execution_count": 181,
   "outputs": [
    {
     "name": "stdout",
     "output_type": "stream",
     "text": [
      "<class 'pandas.core.frame.DataFrame'>\n",
      "RangeIndex: 1258 entries, 0 to 1257\n",
      "Data columns (total 7 columns):\n",
      " #   Column     Non-Null Count  Dtype         \n",
      "---  ------     --------------  -----         \n",
      " 0   Date       1258 non-null   datetime64[ns]\n",
      " 1   Open       1258 non-null   float64       \n",
      " 2   High       1258 non-null   float64       \n",
      " 3   Low        1258 non-null   float64       \n",
      " 4   Close      1258 non-null   float64       \n",
      " 5   Volume     1258 non-null   int64         \n",
      " 6   Adj Close  1258 non-null   float64       \n",
      "dtypes: datetime64[ns](1), float64(5), int64(1)\n",
      "memory usage: 68.9 KB\n"
     ]
    }
   ],
   "source": [
    "apple['Date'] = pd.to_datetime(apple['Date'])\n",
    "apple.info()"
   ],
   "metadata": {
    "collapsed": false,
    "pycharm": {
     "name": "#%%\n"
    }
   }
  },
  {
   "cell_type": "markdown",
   "source": [
    "Установить столбец, в качестве индекса"
   ],
   "metadata": {
    "collapsed": false,
    "pycharm": {
     "name": "#%% md\n"
    }
   }
  },
  {
   "cell_type": "code",
   "execution_count": 186,
   "outputs": [
    {
     "name": "stdout",
     "output_type": "stream",
     "text": [
      "<class 'pandas.core.frame.DataFrame'>\n",
      "DatetimeIndex: 1258 entries, 2017-02-22 to 2012-02-23\n",
      "Data columns (total 6 columns):\n",
      " #   Column     Non-Null Count  Dtype  \n",
      "---  ------     --------------  -----  \n",
      " 0   Open       1258 non-null   float64\n",
      " 1   High       1258 non-null   float64\n",
      " 2   Low        1258 non-null   float64\n",
      " 3   Close      1258 non-null   float64\n",
      " 4   Volume     1258 non-null   int64  \n",
      " 5   Adj Close  1258 non-null   float64\n",
      "dtypes: float64(5), int64(1)\n",
      "memory usage: 68.8 KB\n"
     ]
    }
   ],
   "source": [
    "# apple = apple.set_index(['Date'])\n",
    "apple.info()"
   ],
   "metadata": {
    "collapsed": false,
    "pycharm": {
     "name": "#%%\n"
    }
   }
  },
  {
   "cell_type": "code",
   "execution_count": 203,
   "outputs": [
    {
     "data": {
      "text/plain": "                  Open       Close  avg_open_close\nDate                                              \n2017-02-22  136.429993  137.110001      136.769997\n2017-02-21  136.229996  136.699997      136.464996\n2017-02-17  135.100006  135.720001      135.410004\n2017-02-16  135.669998  135.350006      135.510002\n2017-02-15  135.520004  135.509995      135.514999\n2017-02-14  133.470001  135.020004      134.245002\n2017-02-13  133.080002  133.289993      133.184998\n2017-02-10  132.460007  132.119995      132.290001\n2017-02-09  131.649994  132.419998      132.034996\n2017-02-08  131.350006  132.039993      131.694999\n2017-02-07  130.539993  131.529999      131.034996\n2017-02-06  129.130005  130.289993      129.709999\n2017-02-03  128.309998  129.080002      128.695000\n2017-02-02  127.980003  128.529999      128.255001\n2017-02-01  127.029999  128.750000      127.890000",
      "text/html": "<div>\n<style scoped>\n    .dataframe tbody tr th:only-of-type {\n        vertical-align: middle;\n    }\n\n    .dataframe tbody tr th {\n        vertical-align: top;\n    }\n\n    .dataframe thead th {\n        text-align: right;\n    }\n</style>\n<table border=\"1\" class=\"dataframe\">\n  <thead>\n    <tr style=\"text-align: right;\">\n      <th></th>\n      <th>Open</th>\n      <th>Close</th>\n      <th>avg_open_close</th>\n    </tr>\n    <tr>\n      <th>Date</th>\n      <th></th>\n      <th></th>\n      <th></th>\n    </tr>\n  </thead>\n  <tbody>\n    <tr>\n      <th>2017-02-22</th>\n      <td>136.429993</td>\n      <td>137.110001</td>\n      <td>136.769997</td>\n    </tr>\n    <tr>\n      <th>2017-02-21</th>\n      <td>136.229996</td>\n      <td>136.699997</td>\n      <td>136.464996</td>\n    </tr>\n    <tr>\n      <th>2017-02-17</th>\n      <td>135.100006</td>\n      <td>135.720001</td>\n      <td>135.410004</td>\n    </tr>\n    <tr>\n      <th>2017-02-16</th>\n      <td>135.669998</td>\n      <td>135.350006</td>\n      <td>135.510002</td>\n    </tr>\n    <tr>\n      <th>2017-02-15</th>\n      <td>135.520004</td>\n      <td>135.509995</td>\n      <td>135.514999</td>\n    </tr>\n    <tr>\n      <th>2017-02-14</th>\n      <td>133.470001</td>\n      <td>135.020004</td>\n      <td>134.245002</td>\n    </tr>\n    <tr>\n      <th>2017-02-13</th>\n      <td>133.080002</td>\n      <td>133.289993</td>\n      <td>133.184998</td>\n    </tr>\n    <tr>\n      <th>2017-02-10</th>\n      <td>132.460007</td>\n      <td>132.119995</td>\n      <td>132.290001</td>\n    </tr>\n    <tr>\n      <th>2017-02-09</th>\n      <td>131.649994</td>\n      <td>132.419998</td>\n      <td>132.034996</td>\n    </tr>\n    <tr>\n      <th>2017-02-08</th>\n      <td>131.350006</td>\n      <td>132.039993</td>\n      <td>131.694999</td>\n    </tr>\n    <tr>\n      <th>2017-02-07</th>\n      <td>130.539993</td>\n      <td>131.529999</td>\n      <td>131.034996</td>\n    </tr>\n    <tr>\n      <th>2017-02-06</th>\n      <td>129.130005</td>\n      <td>130.289993</td>\n      <td>129.709999</td>\n    </tr>\n    <tr>\n      <th>2017-02-03</th>\n      <td>128.309998</td>\n      <td>129.080002</td>\n      <td>128.695000</td>\n    </tr>\n    <tr>\n      <th>2017-02-02</th>\n      <td>127.980003</td>\n      <td>128.529999</td>\n      <td>128.255001</td>\n    </tr>\n    <tr>\n      <th>2017-02-01</th>\n      <td>127.029999</td>\n      <td>128.750000</td>\n      <td>127.890000</td>\n    </tr>\n  </tbody>\n</table>\n</div>"
     },
     "execution_count": 203,
     "metadata": {},
     "output_type": "execute_result"
    }
   ],
   "source": [
    "# apple.loc['2012-Feb',['Open','Close']]\n",
    "\n",
    "apple['avg_open_close'] = apple.apply(lambda x: (x['Open']+x['Close'])/2, axis=1)\n",
    "apple.loc['2017-02',['Open','Close', 'avg_open_close']]"
   ],
   "metadata": {
    "collapsed": false,
    "pycharm": {
     "name": "#%%\n"
    }
   }
  },
  {
   "cell_type": "code",
   "execution_count": 219,
   "outputs": [
    {
     "data": {
      "text/plain": "Date\n2012-02-29    528.482002\n2012-03-31    577.507727\n2012-04-30    606.002999\n2012-05-31    564.673179\n2012-06-30    574.562378\n                 ...    \n2016-10-31    115.707143\n2016-11-30    110.154285\n2016-12-31    114.335714\n2017-01-31    119.570000\n2017-02-28    132.897332\nFreq: M, Name: Close, Length: 61, dtype: float64"
     },
     "execution_count": 219,
     "metadata": {},
     "output_type": "execute_result"
    }
   ],
   "source": [
    "apple.resample('M')['Close'].mean().head(100)\n"
   ],
   "metadata": {
    "collapsed": false,
    "pycharm": {
     "name": "#%%\n"
    }
   }
  },
  {
   "cell_type": "code",
   "execution_count": 217,
   "outputs": [
    {
     "data": {
      "text/plain": "<Figure size 432x288 with 1 Axes>",
      "image/png": "[encoded data removed]"
     },
     "metadata": {
      "needs_background": "light"
     },
     "output_type": "display_data"
    }
   ],
   "source": [
    "from matplotlib import pyplot as plt\n",
    "new_sample = apple.loc['2017':'2015',['avg_open_close']]\n",
    "new_sample.plot()\n",
    "plt.show()\n",
    "\n",
    "\n"
   ],
   "metadata": {
    "collapsed": false,
    "pycharm": {
     "name": "#%%\n"
    }
   }
  }
 ],
 "metadata": {
  "kernelspec": {
   "display_name": "Python 3",
   "language": "python",
   "name": "python3"
  },
  "language_info": {
   "codemirror_mode": {
    "name": "ipython",
    "version": 2
   },
   "file_extension": ".py",
   "mimetype": "text/x-python",
   "name": "python",
   "nbconvert_exporter": "python",
   "pygments_lexer": "ipython2",
   "version": "2.7.6"
  }
 },
 "nbformat": 4,
 "nbformat_minor": 0
}