{
 "cells": [
  {
   "cell_type": "code",
   "execution_count": 1,
   "metadata": {
    "collapsed": true
   },
   "outputs": [
    {
     "data": {
      "text/plain": "   userId  movieId  rating   timestamp\n0       1       31     2.5  1260759144\n1       1     1029     3.0  1260759179\n2       1     1061     3.0  1260759182\n3       1     1129     2.0  1260759185\n4       1     1172     4.0  1260759205",
      "text/html": "<div>\n<style scoped>\n    .dataframe tbody tr th:only-of-type {\n        vertical-align: middle;\n    }\n\n    .dataframe tbody tr th {\n        vertical-align: top;\n    }\n\n    .dataframe thead th {\n        text-align: right;\n    }\n</style>\n<table border=\"1\" class=\"dataframe\">\n  <thead>\n    <tr style=\"text-align: right;\">\n      <th></th>\n      <th>userId</th>\n      <th>movieId</th>\n      <th>rating</th>\n      <th>timestamp</th>\n    </tr>\n  </thead>\n  <tbody>\n    <tr>\n      <th>0</th>\n      <td>1</td>\n      <td>31</td>\n      <td>2.5</td>\n      <td>1260759144</td>\n    </tr>\n    <tr>\n      <th>1</th>\n      <td>1</td>\n      <td>1029</td>\n      <td>3.0</td>\n      <td>1260759179</td>\n    </tr>\n    <tr>\n      <th>2</th>\n      <td>1</td>\n      <td>1061</td>\n      <td>3.0</td>\n      <td>1260759182</td>\n    </tr>\n    <tr>\n      <th>3</th>\n      <td>1</td>\n      <td>1129</td>\n      <td>2.0</td>\n      <td>1260759185</td>\n    </tr>\n    <tr>\n      <th>4</th>\n      <td>1</td>\n      <td>1172</td>\n      <td>4.0</td>\n      <td>1260759205</td>\n    </tr>\n  </tbody>\n</table>\n</div>"
     },
     "execution_count": 1,
     "metadata": {},
     "output_type": "execute_result"
    }
   ],
   "source": [
    "import pandas as pd\n",
    "path = r'D:\\Фильмы\\Лекции школы\\[Нетология] Python для работы с данными (2020)\\13. Функции и работа с данными\\ml-latest-small'\n",
    "\n",
    "data = pd.read_csv(fr'{path}\\ratings.csv')\n",
    "data.head(5)\n"
   ]
  },
  {
   "cell_type": "code",
   "execution_count": 8,
   "outputs": [
    {
     "data": {
      "text/plain": "       userId  rating  rating_5\n33889     242     5.0      True\n36867     265     5.0      True\n46251     337     5.0      True\n14749      95     5.0      True\n14747      95     5.0      True\n...       ...     ...       ...\n76709     531     0.5     False\n2530       15     0.5     False\n76706     531     0.5     False\n76700     531     0.5     False\n68262     475     0.5     False\n\n[100004 rows x 3 columns]",
      "text/html": "<div>\n<style scoped>\n    .dataframe tbody tr th:only-of-type {\n        vertical-align: middle;\n    }\n\n    .dataframe tbody tr th {\n        vertical-align: top;\n    }\n\n    .dataframe thead th {\n        text-align: right;\n    }\n</style>\n<table border=\"1\" class=\"dataframe\">\n  <thead>\n    <tr style=\"text-align: right;\">\n      <th></th>\n      <th>userId</th>\n      <th>rating</th>\n      <th>rating_5</th>\n    </tr>\n  </thead>\n  <tbody>\n    <tr>\n      <th>33889</th>\n      <td>242</td>\n      <td>5.0</td>\n      <td>True</td>\n    </tr>\n    <tr>\n      <th>36867</th>\n      <td>265</td>\n      <td>5.0</td>\n      <td>True</td>\n    </tr>\n    <tr>\n      <th>46251</th>\n      <td>337</td>\n      <td>5.0</td>\n      <td>True</td>\n    </tr>\n    <tr>\n      <th>14749</th>\n      <td>95</td>\n      <td>5.0</td>\n      <td>True</td>\n    </tr>\n    <tr>\n      <th>14747</th>\n      <td>95</td>\n      <td>5.0</td>\n      <td>True</td>\n    </tr>\n    <tr>\n      <th>...</th>\n      <td>...</td>\n      <td>...</td>\n      <td>...</td>\n    </tr>\n    <tr>\n      <th>76709</th>\n      <td>531</td>\n      <td>0.5</td>\n      <td>False</td>\n    </tr>\n    <tr>\n      <th>2530</th>\n      <td>15</td>\n      <td>0.5</td>\n      <td>False</td>\n    </tr>\n    <tr>\n      <th>76706</th>\n      <td>531</td>\n      <td>0.5</td>\n      <td>False</td>\n    </tr>\n    <tr>\n      <th>76700</th>\n      <td>531</td>\n      <td>0.5</td>\n      <td>False</td>\n    </tr>\n    <tr>\n      <th>68262</th>\n      <td>475</td>\n      <td>0.5</td>\n      <td>False</td>\n    </tr>\n  </tbody>\n</table>\n<p>100004 rows × 3 columns</p>\n</div>"
     },
     "execution_count": 8,
     "metadata": {},
     "output_type": "execute_result"
    }
   ],
   "source": [
    "def rating_5(par):\n",
    "    return par==5.0\n",
    "data['rating_5'] = data['rating'].apply(rating_5)\n",
    "data[['userId','rating','rating_5']].sort_values('rating',ascending=False)"
   ],
   "metadata": {
    "collapsed": false,
    "pycharm": {
     "name": "#%%\n"
    }
   }
  },
  {
   "cell_type": "code",
   "execution_count": 11,
   "outputs": [
    {
     "data": {
      "text/plain": "   userId  movieId  rating   timestamp  rating_5    see\n0       1       31     2.5  1260759144     False   12.0\n1       1     1029     3.0  1260759179     False  343.0\n2       1     1061     3.0  1260759182     False  353.0\n3       1     1129     2.0  1260759185     False  564.0\n4       1     1172     4.0  1260759205     False  293.0",
      "text/html": "<div>\n<style scoped>\n    .dataframe tbody tr th:only-of-type {\n        vertical-align: middle;\n    }\n\n    .dataframe tbody tr th {\n        vertical-align: top;\n    }\n\n    .dataframe thead th {\n        text-align: right;\n    }\n</style>\n<table border=\"1\" class=\"dataframe\">\n  <thead>\n    <tr style=\"text-align: right;\">\n      <th></th>\n      <th>userId</th>\n      <th>movieId</th>\n      <th>rating</th>\n      <th>timestamp</th>\n      <th>rating_5</th>\n      <th>see</th>\n    </tr>\n  </thead>\n  <tbody>\n    <tr>\n      <th>0</th>\n      <td>1</td>\n      <td>31</td>\n      <td>2.5</td>\n      <td>1260759144</td>\n      <td>False</td>\n      <td>12.0</td>\n    </tr>\n    <tr>\n      <th>1</th>\n      <td>1</td>\n      <td>1029</td>\n      <td>3.0</td>\n      <td>1260759179</td>\n      <td>False</td>\n      <td>343.0</td>\n    </tr>\n    <tr>\n      <th>2</th>\n      <td>1</td>\n      <td>1061</td>\n      <td>3.0</td>\n      <td>1260759182</td>\n      <td>False</td>\n      <td>353.0</td>\n    </tr>\n    <tr>\n      <th>3</th>\n      <td>1</td>\n      <td>1129</td>\n      <td>2.0</td>\n      <td>1260759185</td>\n      <td>False</td>\n      <td>564.0</td>\n    </tr>\n    <tr>\n      <th>4</th>\n      <td>1</td>\n      <td>1172</td>\n      <td>4.0</td>\n      <td>1260759205</td>\n      <td>False</td>\n      <td>293.0</td>\n    </tr>\n  </tbody>\n</table>\n</div>"
     },
     "execution_count": 11,
     "metadata": {},
     "output_type": "execute_result"
    }
   ],
   "source": [
    "def see(row):\n",
    "    return row['movieId']//row['rating']\n",
    "\n",
    "data['see'] = data.apply(see,axis=1)\n",
    "data.head()\n"
   ],
   "metadata": {
    "collapsed": false,
    "pycharm": {
     "name": "#%%\n"
    }
   }
  },
  {
   "cell_type": "code",
   "execution_count": 12,
   "outputs": [
    {
     "data": {
      "text/plain": "     Название группы                            Фраза (с минус-словами)  \\\n0  мрт менделеевская                              \"!мрт !менделеевская\"   \n1            мрт цао                                \"мрт менделеевская\"   \n2            мрт цао  мрт менделеевская -головы -позвоночника -сдела...   \n3            мрт цао                                        \"!мрт !цао\"   \n4            мрт сао                                          \"мрт цао\"   \n\n   Продуктивность  ID объявления                      Заголовок  \\\n0             4.5     2101704995  МРТ на Менделеевской от 2000₽   \n1             4.5     2101704995  МРТ на Менделеевской от 2000₽   \n2             7.4     2101704995  МРТ на Менделеевской от 2000₽   \n3             5.0     2101704999   МРТ в ЦАО от 2000₽. Звоните!   \n4             5.0     2101704999   МРТ в ЦАО от 2000₽. Звоните!   \n\n                                               Текст  \\\n0  24 часа. МРТ в день обращения. Консультация вр...   \n1  24 часа. МРТ в день обращения. Консультация вр...   \n2  24 часа. МРТ в день обращения. Консультация вр...   \n3  24 часа. МРТ в день обращения. Консультация вр...   \n4  24 часа. МРТ в день обращения. Консультация вр...   \n\n                                              Ссылка  \n0  https://awesome-site.ru/?utm_source=yandex&utm...  \n1  https://awesome-site.ru/?utm_source=yandex&utm...  \n2  https://awesome-site.ru/?utm_source=yandex&utm...  \n3  https://awesome-site.ru/?utm_source=yandex&utm...  \n4  https://awesome-site.ru/?utm_source=yandex&utm...  ",
      "text/html": "<div>\n<style scoped>\n    .dataframe tbody tr th:only-of-type {\n        vertical-align: middle;\n    }\n\n    .dataframe tbody tr th {\n        vertical-align: top;\n    }\n\n    .dataframe thead th {\n        text-align: right;\n    }\n</style>\n<table border=\"1\" class=\"dataframe\">\n  <thead>\n    <tr style=\"text-align: right;\">\n      <th></th>\n      <th>Название группы</th>\n      <th>Фраза (с минус-словами)</th>\n      <th>Продуктивность</th>\n      <th>ID объявления</th>\n      <th>Заголовок</th>\n      <th>Текст</th>\n      <th>Ссылка</th>\n    </tr>\n  </thead>\n  <tbody>\n    <tr>\n      <th>0</th>\n      <td>мрт менделеевская</td>\n      <td>\"!мрт !менделеевская\"</td>\n      <td>4.5</td>\n      <td>2101704995</td>\n      <td>МРТ на Менделеевской от 2000₽</td>\n      <td>24 часа. МРТ в день обращения. Консультация вр...</td>\n      <td>https://awesome-site.ru/?utm_source=yandex&amp;utm...</td>\n    </tr>\n    <tr>\n      <th>1</th>\n      <td>мрт цао</td>\n      <td>\"мрт менделеевская\"</td>\n      <td>4.5</td>\n      <td>2101704995</td>\n      <td>МРТ на Менделеевской от 2000₽</td>\n      <td>24 часа. МРТ в день обращения. Консультация вр...</td>\n      <td>https://awesome-site.ru/?utm_source=yandex&amp;utm...</td>\n    </tr>\n    <tr>\n      <th>2</th>\n      <td>мрт цао</td>\n      <td>мрт менделеевская -головы -позвоночника -сдела...</td>\n      <td>7.4</td>\n      <td>2101704995</td>\n      <td>МРТ на Менделеевской от 2000₽</td>\n      <td>24 часа. МРТ в день обращения. Консультация вр...</td>\n      <td>https://awesome-site.ru/?utm_source=yandex&amp;utm...</td>\n    </tr>\n    <tr>\n      <th>3</th>\n      <td>мрт цао</td>\n      <td>\"!мрт !цао\"</td>\n      <td>5.0</td>\n      <td>2101704999</td>\n      <td>МРТ в ЦАО от 2000₽. Звоните!</td>\n      <td>24 часа. МРТ в день обращения. Консультация вр...</td>\n      <td>https://awesome-site.ru/?utm_source=yandex&amp;utm...</td>\n    </tr>\n    <tr>\n      <th>4</th>\n      <td>мрт сао</td>\n      <td>\"мрт цао\"</td>\n      <td>5.0</td>\n      <td>2101704999</td>\n      <td>МРТ в ЦАО от 2000₽. Звоните!</td>\n      <td>24 часа. МРТ в день обращения. Консультация вр...</td>\n      <td>https://awesome-site.ru/?utm_source=yandex&amp;utm...</td>\n    </tr>\n  </tbody>\n</table>\n</div>"
     },
     "execution_count": 12,
     "metadata": {},
     "output_type": "execute_result"
    }
   ],
   "source": [
    "path = r'D:\\Фильмы\\Лекции школы\\[Нетология] Python для работы с данными (2020)\\13. Функции и работа с данными\\Python_13_functions_groupby'\n",
    "\n",
    "data = pd.read_excel(fr'{path}\\ad_campaigns.xlsx')\n",
    "data.head()"
   ],
   "metadata": {
    "collapsed": false,
    "pycharm": {
     "name": "#%%\n"
    }
   }
  },
  {
   "cell_type": "markdown",
   "source": [
    "поменять наизваине столбцов"
   ],
   "metadata": {
    "collapsed": false,
    "pycharm": {
     "name": "#%% md\n"
    }
   }
  },
  {
   "cell_type": "code",
   "execution_count": 19,
   "outputs": [
    {
     "data": {
      "text/plain": "0    https://awesome-site.ru/?utm_source=yandex&utm...\n1    https://awesome-site.ru/?utm_source=yandex&utm...\n2    https://awesome-site.ru/?utm_source=yandex&utm...\n3    https://awesome-site.ru/?utm_source=yandex&utm...\n4    https://awesome-site.ru/?utm_source=yandex&utm...\nName: link, dtype: object"
     },
     "execution_count": 19,
     "metadata": {},
     "output_type": "execute_result"
    }
   ],
   "source": [
    "# data.columns = ['group', 'phrase', 'effect', 'ad_id', 'text','link']\n",
    "data.columns = ['group', 'phrase', 'effect', 'ad_id', 'title', 'text', 'link']\n",
    "data.tail(10)\n",
    "data.link.head()"
   ],
   "metadata": {
    "collapsed": false,
    "pycharm": {
     "name": "#%%\n"
    }
   }
  },
  {
   "cell_type": "code",
   "execution_count": 50,
   "outputs": [
    {
     "data": {
      "text/plain": "               group                                             phrase  \\\n0  мрт менделеевская                              \"!мрт !менделеевская\"   \n1            мрт цао                                \"мрт менделеевская\"   \n2            мрт цао  мрт менделеевская -головы -позвоночника -сдела...   \n3            мрт цао                                        \"!мрт !цао\"   \n4            мрт сао                                          \"мрт цао\"   \n\n   effect       ad_id                          title  \\\n0     4.5  2101704995  МРТ на Менделеевской от 2000₽   \n1     4.5  2101704995  МРТ на Менделеевской от 2000₽   \n2     7.4  2101704995  МРТ на Менделеевской от 2000₽   \n3     5.0  2101704999   МРТ в ЦАО от 2000₽. Звоните!   \n4     5.0  2101704999   МРТ в ЦАО от 2000₽. Звоните!   \n\n                                                text  \\\n0  24 часа. МРТ в день обращения. Консультация вр...   \n1  24 часа. МРТ в день обращения. Консультация вр...   \n2  24 часа. МРТ в день обращения. Консультация вр...   \n3  24 часа. МРТ в день обращения. Консультация вр...   \n4  24 часа. МРТ в день обращения. Консультация вр...   \n\n                                                link      parsed     compain  \n0  https://awesome-site.ru/?utm_source=yandex&utm...  a825749b87  a825749b87  \n1  https://awesome-site.ru/?utm_source=yandex&utm...  a825749b87  a825749b87  \n2  https://awesome-site.ru/?utm_source=yandex&utm...  a825749b87  a825749b87  \n3  https://awesome-site.ru/?utm_source=yandex&utm...  9cc0c5f6ca  9cc0c5f6ca  \n4  https://awesome-site.ru/?utm_source=yandex&utm...  9cc0c5f6ca  9cc0c5f6ca  ",
      "text/html": "<div>\n<style scoped>\n    .dataframe tbody tr th:only-of-type {\n        vertical-align: middle;\n    }\n\n    .dataframe tbody tr th {\n        vertical-align: top;\n    }\n\n    .dataframe thead th {\n        text-align: right;\n    }\n</style>\n<table border=\"1\" class=\"dataframe\">\n  <thead>\n    <tr style=\"text-align: right;\">\n      <th></th>\n      <th>group</th>\n      <th>phrase</th>\n      <th>effect</th>\n      <th>ad_id</th>\n      <th>title</th>\n      <th>text</th>\n      <th>link</th>\n      <th>parsed</th>\n      <th>compain</th>\n    </tr>\n  </thead>\n  <tbody>\n    <tr>\n      <th>0</th>\n      <td>мрт менделеевская</td>\n      <td>\"!мрт !менделеевская\"</td>\n      <td>4.5</td>\n      <td>2101704995</td>\n      <td>МРТ на Менделеевской от 2000₽</td>\n      <td>24 часа. МРТ в день обращения. Консультация вр...</td>\n      <td>https://awesome-site.ru/?utm_source=yandex&amp;utm...</td>\n      <td>a825749b87</td>\n      <td>a825749b87</td>\n    </tr>\n    <tr>\n      <th>1</th>\n      <td>мрт цао</td>\n      <td>\"мрт менделеевская\"</td>\n      <td>4.5</td>\n      <td>2101704995</td>\n      <td>МРТ на Менделеевской от 2000₽</td>\n      <td>24 часа. МРТ в день обращения. Консультация вр...</td>\n      <td>https://awesome-site.ru/?utm_source=yandex&amp;utm...</td>\n      <td>a825749b87</td>\n      <td>a825749b87</td>\n    </tr>\n    <tr>\n      <th>2</th>\n      <td>мрт цао</td>\n      <td>мрт менделеевская -головы -позвоночника -сдела...</td>\n      <td>7.4</td>\n      <td>2101704995</td>\n      <td>МРТ на Менделеевской от 2000₽</td>\n      <td>24 часа. МРТ в день обращения. Консультация вр...</td>\n      <td>https://awesome-site.ru/?utm_source=yandex&amp;utm...</td>\n      <td>a825749b87</td>\n      <td>a825749b87</td>\n    </tr>\n    <tr>\n      <th>3</th>\n      <td>мрт цао</td>\n      <td>\"!мрт !цао\"</td>\n      <td>5.0</td>\n      <td>2101704999</td>\n      <td>МРТ в ЦАО от 2000₽. Звоните!</td>\n      <td>24 часа. МРТ в день обращения. Консультация вр...</td>\n      <td>https://awesome-site.ru/?utm_source=yandex&amp;utm...</td>\n      <td>9cc0c5f6ca</td>\n      <td>9cc0c5f6ca</td>\n    </tr>\n    <tr>\n      <th>4</th>\n      <td>мрт сао</td>\n      <td>\"мрт цао\"</td>\n      <td>5.0</td>\n      <td>2101704999</td>\n      <td>МРТ в ЦАО от 2000₽. Звоните!</td>\n      <td>24 часа. МРТ в день обращения. Консультация вр...</td>\n      <td>https://awesome-site.ru/?utm_source=yandex&amp;utm...</td>\n      <td>9cc0c5f6ca</td>\n      <td>9cc0c5f6ca</td>\n    </tr>\n  </tbody>\n</table>\n</div>"
     },
     "execution_count": 50,
     "metadata": {},
     "output_type": "execute_result"
    }
   ],
   "source": [
    "from urllib import parse\n",
    "\n",
    "def compain_name(row):\n",
    "    parsed = parse.urlsplit(row['link'])\n",
    "    parsed_d = parse.parse_qs(parsed.query)\n",
    "    return parsed_d['utm_campaign'][0]\n",
    "data['compain'] = data.apply(compain_name,axis=1)\n",
    "# data.parsed.loc[0]\n",
    "# print(q)\n",
    "data.head()"
   ],
   "metadata": {
    "collapsed": false,
    "pycharm": {
     "name": "#%%\n"
    }
   }
  },
  {
   "cell_type": "markdown",
   "source": [
    "ГРУППИРОВКИ В PANDAS"
   ],
   "metadata": {
    "collapsed": false,
    "pycharm": {
     "name": "#%% md\n"
    }
   }
  },
  {
   "cell_type": "code",
   "execution_count": 61,
   "outputs": [
    {
     "data": {
      "text/plain": "        compain  group  effect\n0    034ada41b6      3       3\n1    03fcaecd1d      2       2\n2    0697a81555      2       2\n3    08cdcb57a3      3       3\n4    0f0ba311fb      2       2\n..          ...    ...     ...\n110  f6d2ae1e3d    220     220\n111  f80e902d76      1       1\n112  fbed7afb58      3       3\n113  fe6fa9154a      2       2\n114  fedd9b9cc0      2       2\n\n[115 rows x 3 columns]",
      "text/html": "<div>\n<style scoped>\n    .dataframe tbody tr th:only-of-type {\n        vertical-align: middle;\n    }\n\n    .dataframe tbody tr th {\n        vertical-align: top;\n    }\n\n    .dataframe thead th {\n        text-align: right;\n    }\n</style>\n<table border=\"1\" class=\"dataframe\">\n  <thead>\n    <tr style=\"text-align: right;\">\n      <th></th>\n      <th>compain</th>\n      <th>group</th>\n      <th>effect</th>\n    </tr>\n  </thead>\n  <tbody>\n    <tr>\n      <th>0</th>\n      <td>034ada41b6</td>\n      <td>3</td>\n      <td>3</td>\n    </tr>\n    <tr>\n      <th>1</th>\n      <td>03fcaecd1d</td>\n      <td>2</td>\n      <td>2</td>\n    </tr>\n    <tr>\n      <th>2</th>\n      <td>0697a81555</td>\n      <td>2</td>\n      <td>2</td>\n    </tr>\n    <tr>\n      <th>3</th>\n      <td>08cdcb57a3</td>\n      <td>3</td>\n      <td>3</td>\n    </tr>\n    <tr>\n      <th>4</th>\n      <td>0f0ba311fb</td>\n      <td>2</td>\n      <td>2</td>\n    </tr>\n    <tr>\n      <th>...</th>\n      <td>...</td>\n      <td>...</td>\n      <td>...</td>\n    </tr>\n    <tr>\n      <th>110</th>\n      <td>f6d2ae1e3d</td>\n      <td>220</td>\n      <td>220</td>\n    </tr>\n    <tr>\n      <th>111</th>\n      <td>f80e902d76</td>\n      <td>1</td>\n      <td>1</td>\n    </tr>\n    <tr>\n      <th>112</th>\n      <td>fbed7afb58</td>\n      <td>3</td>\n      <td>3</td>\n    </tr>\n    <tr>\n      <th>113</th>\n      <td>fe6fa9154a</td>\n      <td>2</td>\n      <td>2</td>\n    </tr>\n    <tr>\n      <th>114</th>\n      <td>fedd9b9cc0</td>\n      <td>2</td>\n      <td>2</td>\n    </tr>\n  </tbody>\n</table>\n<p>115 rows × 3 columns</p>\n</div>"
     },
     "execution_count": 61,
     "metadata": {},
     "output_type": "execute_result"
    }
   ],
   "source": [
    "# data.groupby('compain').count()[['group','effect']]\n",
    "data.groupby('compain').count()[['group','effect']].reset_index()\n",
    "\n"
   ],
   "metadata": {
    "collapsed": false,
    "pycharm": {
     "name": "#%%\n"
    }
   }
  },
  {
   "cell_type": "code",
   "execution_count": 85,
   "outputs": [
    {
     "data": {
      "text/plain": "compain\n034ada41b6    4.1\n03fcaecd1d    4.0\n0697a81555    4.0\n08cdcb57a3    5.5\n0f0ba311fb    4.4\nName: min, dtype: float64"
     },
     "execution_count": 85,
     "metadata": {},
     "output_type": "execute_result"
    }
   ],
   "source": [
    "p = data.groupby('compain').aggregate({'effect': ['min', 'max']})\n",
    "p['effect']['min'].head()\n",
    "\n",
    "\n"
   ],
   "metadata": {
    "collapsed": false,
    "pycharm": {
     "name": "#%%\n"
    }
   }
  },
  {
   "cell_type": "code",
   "execution_count": 3,
   "outputs": [
    {
     "data": {
      "text/plain": "   userId  movieId  rating   timestamp                date\n0       1       31     2.5  1260759144 2009-12-14 05:52:24\n1       1     1029     3.0  1260759179 2009-12-14 05:52:59\n2       1     1061     3.0  1260759182 2009-12-14 05:53:02\n3       1     1129     2.0  1260759185 2009-12-14 05:53:05\n4       1     1172     4.0  1260759205 2009-12-14 05:53:25",
      "text/html": "<div>\n<style scoped>\n    .dataframe tbody tr th:only-of-type {\n        vertical-align: middle;\n    }\n\n    .dataframe tbody tr th {\n        vertical-align: top;\n    }\n\n    .dataframe thead th {\n        text-align: right;\n    }\n</style>\n<table border=\"1\" class=\"dataframe\">\n  <thead>\n    <tr style=\"text-align: right;\">\n      <th></th>\n      <th>userId</th>\n      <th>movieId</th>\n      <th>rating</th>\n      <th>timestamp</th>\n      <th>date</th>\n    </tr>\n  </thead>\n  <tbody>\n    <tr>\n      <th>0</th>\n      <td>1</td>\n      <td>31</td>\n      <td>2.5</td>\n      <td>1260759144</td>\n      <td>2009-12-14 05:52:24</td>\n    </tr>\n    <tr>\n      <th>1</th>\n      <td>1</td>\n      <td>1029</td>\n      <td>3.0</td>\n      <td>1260759179</td>\n      <td>2009-12-14 05:52:59</td>\n    </tr>\n    <tr>\n      <th>2</th>\n      <td>1</td>\n      <td>1061</td>\n      <td>3.0</td>\n      <td>1260759182</td>\n      <td>2009-12-14 05:53:02</td>\n    </tr>\n    <tr>\n      <th>3</th>\n      <td>1</td>\n      <td>1129</td>\n      <td>2.0</td>\n      <td>1260759185</td>\n      <td>2009-12-14 05:53:05</td>\n    </tr>\n    <tr>\n      <th>4</th>\n      <td>1</td>\n      <td>1172</td>\n      <td>4.0</td>\n      <td>1260759205</td>\n      <td>2009-12-14 05:53:25</td>\n    </tr>\n  </tbody>\n</table>\n</div>"
     },
     "execution_count": 3,
     "metadata": {},
     "output_type": "execute_result"
    }
   ],
   "source": [
    "import pandas as pd\n",
    "import datetime\n",
    "path = r'D:\\Фильмы\\Лекции школы\\[Нетология] Python для работы с данными (2020)\\13. Функции и работа с данными\\ml-latest-small'\n",
    "\n",
    "data = pd.read_csv(fr'{path}\\ratings.csv')\n",
    "data['date'] = data.timestamp.apply(lambda x: datetime.datetime.fromtimestamp(x))\n",
    "data.head()"
   ],
   "metadata": {
    "collapsed": false,
    "pycharm": {
     "name": "#%%\n"
    }
   }
  },
  {
   "cell_type": "code",
   "execution_count": null,
   "outputs": [],
   "source": [
    "\n"
   ],
   "metadata": {
    "collapsed": false,
    "pycharm": {
     "name": "#%%\n"
    }
   }
  }
 ],
 "metadata": {
  "kernelspec": {
   "display_name": "Python 3",
   "language": "python",
   "name": "python3"
  },
  "language_info": {
   "codemirror_mode": {
    "name": "ipython",
    "version": 2
   },
   "file_extension": ".py",
   "mimetype": "text/x-python",
   "name": "python",
   "nbconvert_exporter": "python",
   "pygments_lexer": "ipython2",
   "version": "2.7.6"
  }
 },
 "nbformat": 4,
 "nbformat_minor": 0
}