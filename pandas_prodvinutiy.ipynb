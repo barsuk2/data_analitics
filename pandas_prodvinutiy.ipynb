{
 "cells": [
  {
   "cell_type": "markdown",
   "source": [
    "Основные идеи оптимизации\n",
    "Время поиска по списку пропорциоально длинне списка\n",
    "Время поиска по множеству постоянно\n"
   ],
   "metadata": {
    "collapsed": false
   }
  },
  {
   "cell_type": "code",
   "execution_count": null,
   "outputs": [],
   "source": [
    "%%time\n",
    "data_list =list(range(10000))\n",
    "\n",
    "for _ in range(10**5):\n",
    "    if 5000 in data_list:\n",
    "        pass"
   ],
   "metadata": {
    "collapsed": false,
    "pycharm": {
     "name": "#%%\n"
    }
   }
  },
  {
   "cell_type": "code",
   "execution_count": null,
   "outputs": [],
   "source": [
    "%%time\n",
    "data_list =list(range(10000))\n",
    "data_list =set(data_list)\n",
    "\n",
    "for _ in range(10**5):\n",
    "    if 10000 in data_list:\n",
    "        pass"
   ],
   "metadata": {
    "collapsed": false,
    "pycharm": {
     "name": "#%%\n"
    }
   }
  },
  {
   "cell_type": "markdown",
   "source": [
    "осущствим поиск средствами pandas"
   ],
   "metadata": {
    "collapsed": false
   }
  },
  {
   "cell_type": "code",
   "execution_count": 7,
   "outputs": [
    {
     "name": "stdout",
     "output_type": "stream",
     "text": [
      "Wall time: 442 ms\n"
     ]
    }
   ],
   "source": [
    "%%time\n",
    "import pandas as pd\n",
    "path = r'D:\\Фильмы\\Лекции школы\\[Нетология] Python для работы с данными (2020)\\14. Продвинутый pandas часть 1\\Python_14_pivot_and_str\\ml-latest-small'\n",
    "table = pd.read_csv(rf'{path}\\ratings.csv')\n",
    "table.head()\n",
    "table[(table.userId == 2) & (table.movieId == 300)&(table.rating == 4.0)].head()\n",
    "# table[(table.userId == 1)].head()\n",
    "for _ in range(10*2):\n",
    "    table[(table.userId == 2) & (table.movieId == 300)&(table.rating == 4.0)].head()"
   ],
   "metadata": {
    "collapsed": false,
    "pycharm": {
     "name": "#%%\n"
    }
   }
  },
  {
   "cell_type": "code",
   "execution_count": 116,
   "outputs": [
    {
     "name": "stdout",
     "output_type": "stream",
     "text": [
      "Wall time: 16.8 s\n"
     ]
    },
    {
     "data": {
      "text/plain": "[1260759144.0]"
     },
     "execution_count": 116,
     "metadata": {},
     "output_type": "execute_result"
    }
   ],
   "source": [
    "# %%time\n",
    "# line_to_search = [1.0, 31.0, 2.5]\n",
    "# [table.loc[x].timestamp for x in range(len(table)) if table.loc[x].to_list()[:3] == line_to_search ]"
   ],
   "metadata": {
    "collapsed": false,
    "pycharm": {
     "name": "#%%\n"
    }
   }
  },
  {
   "cell_type": "markdown",
   "source": [
    "осуществим поиск списка в списке"
   ],
   "metadata": {
    "collapsed": false
   }
  },
  {
   "cell_type": "code",
   "execution_count": 4,
   "outputs": [
    {
     "name": "stdout",
     "output_type": "stream",
     "text": [
      "Wall time: 1.73 s\n"
     ]
    }
   ],
   "source": [
    "%%time\n",
    "path = r'D:\\Фильмы\\Лекции школы\\[Нетология] Python для работы с данными (2020)\\14. Продвинутый pandas часть 1\\Python_14_pivot_and_str\\ml-latest-small'\n",
    "with open(rf'{path}\\ratings.csv') as f :\n",
    "    table1 = [line.rstrip().split(',') for line in f]\n",
    "table1 = table1[1:]\n",
    "pattern = ['2', '300', '3.0']\n",
    "for _ in range(10**2):\n",
    "    [x for x in table1 if x[:3] == pattern]"
   ],
   "metadata": {
    "collapsed": false,
    "pycharm": {
     "name": "#%%\n"
    }
   }
  },
  {
   "cell_type": "markdown",
   "source": [
    "преобзуем 3 значения как ключи словаря"
   ],
   "metadata": {
    "collapsed": false,
    "pycharm": {
     "name": "#%% md\n"
    }
   }
  },
  {
   "cell_type": "code",
   "execution_count": 6,
   "outputs": [
    {
     "name": "stdout",
     "output_type": "stream",
     "text": [
      "Wall time: 86 ms\n"
     ]
    }
   ],
   "source": [
    "%%time\n",
    "# pattern = tuple(pattern)\n",
    "pattern = ('2', '300', '3.0')\n",
    "dict_ ={}\n",
    "for line in table1:\n",
    "    key = tuple(line[:3])\n",
    "    values = line[3]\n",
    "    dict_[key] = values\n",
    "# print(dict_[('2', '300', '3.0')])\n",
    "for _ in range(10**2):\n",
    "    dict_[pattern]\n",
    "\n",
    "\n",
    "\n",
    "\n",
    "\n"
   ],
   "metadata": {
    "collapsed": false,
    "pycharm": {
     "name": "#%%\n"
    }
   }
  }
 ],
 "metadata": {
  "kernelspec": {
   "display_name": "Python 3",
   "language": "python",
   "name": "python3"
  },
  "language_info": {
   "codemirror_mode": {
    "name": "ipython",
    "version": 2
   },
   "file_extension": ".py",
   "mimetype": "text/x-python",
   "name": "python",
   "nbconvert_exporter": "python",
   "pygments_lexer": "ipython2",
   "version": "2.7.6"
  }
 },
 "nbformat": 4,
 "nbformat_minor": 0
}